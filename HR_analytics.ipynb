{
  "nbformat": 4,
  "nbformat_minor": 0,
  "metadata": {
    "colab": {
      "name": "Welcome To Colaboratory",
      "version": "0.3.2",
      "provenance": [],
      "collapsed_sections": [],
      "include_colab_link": true
    },
    "kernelspec": {
      "display_name": "Python 3",
      "name": "python3"
    }
  },
  "cells": [
    {
      "cell_type": "markdown",
      "metadata": {
        "id": "view-in-github",
        "colab_type": "text"
      },
      "source": [
        "<a href=\"https://colab.research.google.com/github/shreyassks/Learning-Content/blob/master/HR_analytics.ipynb\" target=\"_parent\"><img src=\"https://colab.research.google.com/assets/colab-badge.svg\" alt=\"Open In Colab\"/></a>"
      ]
    },
    {
      "cell_type": "code",
      "metadata": {
        "id": "QmkKn3dI6TeC",
        "colab_type": "code",
        "colab": {}
      },
      "source": [
        "import pandas as pd\n",
        "import numpy as np\n",
        "import matplotlib.pyplot as plt\n",
        "import seaborn as sns"
      ],
      "execution_count": 0,
      "outputs": []
    },
    {
      "cell_type": "code",
      "metadata": {
        "id": "QoQbjuAi_RpC",
        "colab_type": "code",
        "outputId": "1fc56abd-92e5-41b8-d423-49589961f945",
        "colab": {
          "base_uri": "https://localhost:8080/",
          "height": 282
        }
      },
      "source": [
        "df_train = pd.read_csv(\"/content/train_LZdllcl.csv\")\n",
        "df_test = pd.read_csv(\"/content/test_2umaH9m.csv\")\n",
        "\n",
        "df_train['source'] = \"True\" \n",
        "df_test['source'] = \"False\"\n",
        "\n",
        "df = pd.concat([df_train,df_test], sort = False)\n",
        "df.head(5)"
      ],
      "execution_count": 835,
      "outputs": [
        {
          "output_type": "execute_result",
          "data": {
            "text/html": [
              "<div>\n",
              "<style scoped>\n",
              "    .dataframe tbody tr th:only-of-type {\n",
              "        vertical-align: middle;\n",
              "    }\n",
              "\n",
              "    .dataframe tbody tr th {\n",
              "        vertical-align: top;\n",
              "    }\n",
              "\n",
              "    .dataframe thead th {\n",
              "        text-align: right;\n",
              "    }\n",
              "</style>\n",
              "<table border=\"1\" class=\"dataframe\">\n",
              "  <thead>\n",
              "    <tr style=\"text-align: right;\">\n",
              "      <th></th>\n",
              "      <th>employee_id</th>\n",
              "      <th>department</th>\n",
              "      <th>region</th>\n",
              "      <th>education</th>\n",
              "      <th>gender</th>\n",
              "      <th>recruitment_channel</th>\n",
              "      <th>no_of_trainings</th>\n",
              "      <th>age</th>\n",
              "      <th>previous_year_rating</th>\n",
              "      <th>length_of_service</th>\n",
              "      <th>KPIs_met &gt;80%</th>\n",
              "      <th>awards_won?</th>\n",
              "      <th>avg_training_score</th>\n",
              "      <th>is_promoted</th>\n",
              "      <th>source</th>\n",
              "    </tr>\n",
              "  </thead>\n",
              "  <tbody>\n",
              "    <tr>\n",
              "      <th>0</th>\n",
              "      <td>65438</td>\n",
              "      <td>Sales &amp; Marketing</td>\n",
              "      <td>region_7</td>\n",
              "      <td>Master's &amp; above</td>\n",
              "      <td>f</td>\n",
              "      <td>sourcing</td>\n",
              "      <td>1</td>\n",
              "      <td>35</td>\n",
              "      <td>5.0</td>\n",
              "      <td>8</td>\n",
              "      <td>1</td>\n",
              "      <td>0</td>\n",
              "      <td>49</td>\n",
              "      <td>0.0</td>\n",
              "      <td>True</td>\n",
              "    </tr>\n",
              "    <tr>\n",
              "      <th>1</th>\n",
              "      <td>65141</td>\n",
              "      <td>Operations</td>\n",
              "      <td>region_22</td>\n",
              "      <td>Bachelor's</td>\n",
              "      <td>m</td>\n",
              "      <td>other</td>\n",
              "      <td>1</td>\n",
              "      <td>30</td>\n",
              "      <td>5.0</td>\n",
              "      <td>4</td>\n",
              "      <td>0</td>\n",
              "      <td>0</td>\n",
              "      <td>60</td>\n",
              "      <td>0.0</td>\n",
              "      <td>True</td>\n",
              "    </tr>\n",
              "    <tr>\n",
              "      <th>2</th>\n",
              "      <td>7513</td>\n",
              "      <td>Sales &amp; Marketing</td>\n",
              "      <td>region_19</td>\n",
              "      <td>Bachelor's</td>\n",
              "      <td>m</td>\n",
              "      <td>sourcing</td>\n",
              "      <td>1</td>\n",
              "      <td>34</td>\n",
              "      <td>3.0</td>\n",
              "      <td>7</td>\n",
              "      <td>0</td>\n",
              "      <td>0</td>\n",
              "      <td>50</td>\n",
              "      <td>0.0</td>\n",
              "      <td>True</td>\n",
              "    </tr>\n",
              "    <tr>\n",
              "      <th>3</th>\n",
              "      <td>2542</td>\n",
              "      <td>Sales &amp; Marketing</td>\n",
              "      <td>region_23</td>\n",
              "      <td>Bachelor's</td>\n",
              "      <td>m</td>\n",
              "      <td>other</td>\n",
              "      <td>2</td>\n",
              "      <td>39</td>\n",
              "      <td>1.0</td>\n",
              "      <td>10</td>\n",
              "      <td>0</td>\n",
              "      <td>0</td>\n",
              "      <td>50</td>\n",
              "      <td>0.0</td>\n",
              "      <td>True</td>\n",
              "    </tr>\n",
              "    <tr>\n",
              "      <th>4</th>\n",
              "      <td>48945</td>\n",
              "      <td>Technology</td>\n",
              "      <td>region_26</td>\n",
              "      <td>Bachelor's</td>\n",
              "      <td>m</td>\n",
              "      <td>other</td>\n",
              "      <td>1</td>\n",
              "      <td>45</td>\n",
              "      <td>3.0</td>\n",
              "      <td>2</td>\n",
              "      <td>0</td>\n",
              "      <td>0</td>\n",
              "      <td>73</td>\n",
              "      <td>0.0</td>\n",
              "      <td>True</td>\n",
              "    </tr>\n",
              "  </tbody>\n",
              "</table>\n",
              "</div>"
            ],
            "text/plain": [
              "   employee_id         department  ... is_promoted source\n",
              "0        65438  Sales & Marketing  ...         0.0   True\n",
              "1        65141         Operations  ...         0.0   True\n",
              "2         7513  Sales & Marketing  ...         0.0   True\n",
              "3         2542  Sales & Marketing  ...         0.0   True\n",
              "4        48945         Technology  ...         0.0   True\n",
              "\n",
              "[5 rows x 15 columns]"
            ]
          },
          "metadata": {
            "tags": []
          },
          "execution_count": 835
        }
      ]
    },
    {
      "cell_type": "code",
      "metadata": {
        "id": "NgvUD2m6_a9n",
        "colab_type": "code",
        "outputId": "9bef9af7-3f75-4674-a7c1-a302ef9432e1",
        "colab": {
          "base_uri": "https://localhost:8080/",
          "height": 286
        }
      },
      "source": [
        "df.dtypes"
      ],
      "execution_count": 836,
      "outputs": [
        {
          "output_type": "execute_result",
          "data": {
            "text/plain": [
              "employee_id               int64\n",
              "department               object\n",
              "region                   object\n",
              "education                object\n",
              "gender                   object\n",
              "recruitment_channel      object\n",
              "no_of_trainings           int64\n",
              "age                       int64\n",
              "previous_year_rating    float64\n",
              "length_of_service         int64\n",
              "KPIs_met >80%             int64\n",
              "awards_won?               int64\n",
              "avg_training_score        int64\n",
              "is_promoted             float64\n",
              "source                   object\n",
              "dtype: object"
            ]
          },
          "metadata": {
            "tags": []
          },
          "execution_count": 836
        }
      ]
    },
    {
      "cell_type": "code",
      "metadata": {
        "id": "CYe6jv_Y_7gY",
        "colab_type": "code",
        "outputId": "ca741b67-3687-4e29-ffad-1e311417e92a",
        "colab": {
          "base_uri": "https://localhost:8080/",
          "height": 353
        }
      },
      "source": [
        "df.info()"
      ],
      "execution_count": 837,
      "outputs": [
        {
          "output_type": "stream",
          "text": [
            "<class 'pandas.core.frame.DataFrame'>\n",
            "Int64Index: 78298 entries, 0 to 23489\n",
            "Data columns (total 15 columns):\n",
            "employee_id             78298 non-null int64\n",
            "department              78298 non-null object\n",
            "region                  78298 non-null object\n",
            "education               74855 non-null object\n",
            "gender                  78298 non-null object\n",
            "recruitment_channel     78298 non-null object\n",
            "no_of_trainings         78298 non-null int64\n",
            "age                     78298 non-null int64\n",
            "previous_year_rating    72362 non-null float64\n",
            "length_of_service       78298 non-null int64\n",
            "KPIs_met >80%           78298 non-null int64\n",
            "awards_won?             78298 non-null int64\n",
            "avg_training_score      78298 non-null int64\n",
            "is_promoted             54808 non-null float64\n",
            "source                  78298 non-null object\n",
            "dtypes: float64(2), int64(7), object(6)\n",
            "memory usage: 9.6+ MB\n"
          ],
          "name": "stdout"
        }
      ]
    },
    {
      "cell_type": "code",
      "metadata": {
        "id": "lI0bK4Yh_ua4",
        "colab_type": "code",
        "outputId": "61a4889c-8d84-4220-a9bf-7382ed0fcdac",
        "colab": {
          "base_uri": "https://localhost:8080/",
          "height": 286
        }
      },
      "source": [
        "df.isna().sum()"
      ],
      "execution_count": 838,
      "outputs": [
        {
          "output_type": "execute_result",
          "data": {
            "text/plain": [
              "employee_id                 0\n",
              "department                  0\n",
              "region                      0\n",
              "education                3443\n",
              "gender                      0\n",
              "recruitment_channel         0\n",
              "no_of_trainings             0\n",
              "age                         0\n",
              "previous_year_rating     5936\n",
              "length_of_service           0\n",
              "KPIs_met >80%               0\n",
              "awards_won?                 0\n",
              "avg_training_score          0\n",
              "is_promoted             23490\n",
              "source                      0\n",
              "dtype: int64"
            ]
          },
          "metadata": {
            "tags": []
          },
          "execution_count": 838
        }
      ]
    },
    {
      "cell_type": "code",
      "metadata": {
        "id": "2647M6aTwXjA",
        "colab_type": "code",
        "colab": {
          "base_uri": "https://localhost:8080/",
          "height": 286
        },
        "outputId": "6133b296-a7a9-47b9-bc67-99b2332dc290"
      },
      "source": [
        "df.isna().sum()"
      ],
      "execution_count": 839,
      "outputs": [
        {
          "output_type": "execute_result",
          "data": {
            "text/plain": [
              "employee_id                 0\n",
              "department                  0\n",
              "region                      0\n",
              "education                3443\n",
              "gender                      0\n",
              "recruitment_channel         0\n",
              "no_of_trainings             0\n",
              "age                         0\n",
              "previous_year_rating     5936\n",
              "length_of_service           0\n",
              "KPIs_met >80%               0\n",
              "awards_won?                 0\n",
              "avg_training_score          0\n",
              "is_promoted             23490\n",
              "source                      0\n",
              "dtype: int64"
            ]
          },
          "metadata": {
            "tags": []
          },
          "execution_count": 839
        }
      ]
    },
    {
      "cell_type": "code",
      "metadata": {
        "id": "X2RAjJ6kdTgW",
        "colab_type": "code",
        "colab": {
          "base_uri": "https://localhost:8080/",
          "height": 136
        },
        "outputId": "ee4a712a-96ef-4717-9ac9-8a1be8c5b017"
      },
      "source": [
        "from scipy.stats import mode\n",
        "\n",
        "education_mode = df.pivot_table(values = \"education\", index = \"gender\", aggfunc = (lambda x: mode(x).mode[0]))\n",
        "education_mode"
      ],
      "execution_count": 840,
      "outputs": [
        {
          "output_type": "execute_result",
          "data": {
            "text/html": [
              "<div>\n",
              "<style scoped>\n",
              "    .dataframe tbody tr th:only-of-type {\n",
              "        vertical-align: middle;\n",
              "    }\n",
              "\n",
              "    .dataframe tbody tr th {\n",
              "        vertical-align: top;\n",
              "    }\n",
              "\n",
              "    .dataframe thead th {\n",
              "        text-align: right;\n",
              "    }\n",
              "</style>\n",
              "<table border=\"1\" class=\"dataframe\">\n",
              "  <thead>\n",
              "    <tr style=\"text-align: right;\">\n",
              "      <th></th>\n",
              "      <th>education</th>\n",
              "    </tr>\n",
              "    <tr>\n",
              "      <th>gender</th>\n",
              "      <th></th>\n",
              "    </tr>\n",
              "  </thead>\n",
              "  <tbody>\n",
              "    <tr>\n",
              "      <th>f</th>\n",
              "      <td>Bachelor's</td>\n",
              "    </tr>\n",
              "    <tr>\n",
              "      <th>m</th>\n",
              "      <td>Bachelor's</td>\n",
              "    </tr>\n",
              "  </tbody>\n",
              "</table>\n",
              "</div>"
            ],
            "text/plain": [
              "         education\n",
              "gender            \n",
              "f       Bachelor's\n",
              "m       Bachelor's"
            ]
          },
          "metadata": {
            "tags": []
          },
          "execution_count": 840
        }
      ]
    },
    {
      "cell_type": "code",
      "metadata": {
        "id": "MipQIFN1c9nE",
        "colab_type": "code",
        "colab": {}
      },
      "source": [
        "mis_boolean = df['education'].isna()\n",
        "df.loc[mis_boolean,\"education\"] = df.loc[mis_boolean,\"gender\"].apply(lambda x: education_mode.loc[x])"
      ],
      "execution_count": 0,
      "outputs": []
    },
    {
      "cell_type": "code",
      "metadata": {
        "id": "TUdeszQOAUQo",
        "colab_type": "code",
        "outputId": "73f4bed5-0777-4aee-817b-d1b13f5ec262",
        "colab": {
          "base_uri": "https://localhost:8080/",
          "height": 185
        }
      },
      "source": [
        "df['department'].value_counts()"
      ],
      "execution_count": 842,
      "outputs": [
        {
          "output_type": "execute_result",
          "data": {
            "text/plain": [
              "Sales & Marketing    24155\n",
              "Operations           16112\n",
              "Procurement          10158\n",
              "Technology           10149\n",
              "Analytics             7671\n",
              "Finance               3627\n",
              "HR                    3503\n",
              "Legal                 1484\n",
              "R&D                   1439\n",
              "Name: department, dtype: int64"
            ]
          },
          "metadata": {
            "tags": []
          },
          "execution_count": 842
        }
      ]
    },
    {
      "cell_type": "code",
      "metadata": {
        "id": "FML-Fl-OA2F8",
        "colab_type": "code",
        "outputId": "4b3ed886-1455-4748-92bd-2c7904c966b1",
        "colab": {
          "base_uri": "https://localhost:8080/",
          "height": 84
        }
      },
      "source": [
        "df['education'].value_counts()"
      ],
      "execution_count": 843,
      "outputs": [
        {
          "output_type": "execute_result",
          "data": {
            "text/plain": [
              "Bachelor's          55690\n",
              "Master's & above    21429\n",
              "Below Secondary      1179\n",
              "Name: education, dtype: int64"
            ]
          },
          "metadata": {
            "tags": []
          },
          "execution_count": 843
        }
      ]
    },
    {
      "cell_type": "code",
      "metadata": {
        "id": "_zOTDBMMBAte",
        "colab_type": "code",
        "outputId": "3cad64b0-a3db-4afd-ec11-7b24d8882866",
        "colab": {
          "base_uri": "https://localhost:8080/",
          "height": 67
        }
      },
      "source": [
        "df['gender'].value_counts()"
      ],
      "execution_count": 844,
      "outputs": [
        {
          "output_type": "execute_result",
          "data": {
            "text/plain": [
              "m    55092\n",
              "f    23206\n",
              "Name: gender, dtype: int64"
            ]
          },
          "metadata": {
            "tags": []
          },
          "execution_count": 844
        }
      ]
    },
    {
      "cell_type": "code",
      "metadata": {
        "id": "wiYhuEPGBGBl",
        "colab_type": "code",
        "outputId": "fbaef840-10d9-4191-cc11-6e6ff17d7727",
        "colab": {
          "base_uri": "https://localhost:8080/",
          "height": 84
        }
      },
      "source": [
        "df['recruitment_channel'].value_counts()"
      ],
      "execution_count": 845,
      "outputs": [
        {
          "output_type": "execute_result",
          "data": {
            "text/plain": [
              "other       43524\n",
              "sourcing    33181\n",
              "referred     1593\n",
              "Name: recruitment_channel, dtype: int64"
            ]
          },
          "metadata": {
            "tags": []
          },
          "execution_count": 845
        }
      ]
    },
    {
      "cell_type": "code",
      "metadata": {
        "id": "rGVhqvcTBVfM",
        "colab_type": "code",
        "outputId": "61d9dc06-861c-4293-8051-a35951f600f0",
        "colab": {
          "base_uri": "https://localhost:8080/",
          "height": 67
        }
      },
      "source": [
        "service = df['length_of_service'].unique()\n",
        "np.sort(service)"
      ],
      "execution_count": 846,
      "outputs": [
        {
          "output_type": "execute_result",
          "data": {
            "text/plain": [
              "array([ 1,  2,  3,  4,  5,  6,  7,  8,  9, 10, 11, 12, 13, 14, 15, 16, 17,\n",
              "       18, 19, 20, 21, 22, 23, 24, 25, 26, 27, 28, 29, 30, 31, 32, 33, 34,\n",
              "       37])"
            ]
          },
          "metadata": {
            "tags": []
          },
          "execution_count": 846
        }
      ]
    },
    {
      "cell_type": "code",
      "metadata": {
        "id": "F9vPAM9YC1CZ",
        "colab_type": "code",
        "outputId": "5c9ee37d-de66-4f85-cb89-9c818ad3cb7f",
        "colab": {
          "base_uri": "https://localhost:8080/",
          "height": 67
        }
      },
      "source": [
        "age = df['age'].unique()\n",
        "np.sort(age)"
      ],
      "execution_count": 847,
      "outputs": [
        {
          "output_type": "execute_result",
          "data": {
            "text/plain": [
              "array([20, 21, 22, 23, 24, 25, 26, 27, 28, 29, 30, 31, 32, 33, 34, 35, 36,\n",
              "       37, 38, 39, 40, 41, 42, 43, 44, 45, 46, 47, 48, 49, 50, 51, 52, 53,\n",
              "       54, 55, 56, 57, 58, 59, 60])"
            ]
          },
          "metadata": {
            "tags": []
          },
          "execution_count": 847
        }
      ]
    },
    {
      "cell_type": "code",
      "metadata": {
        "id": "KOdOW4LEDQcB",
        "colab_type": "code",
        "outputId": "9171039b-a50a-4a38-ebcc-0e73394bad39",
        "colab": {
          "base_uri": "https://localhost:8080/",
          "height": 67
        }
      },
      "source": [
        "df['KPIs_met >80%'].value_counts()"
      ],
      "execution_count": 848,
      "outputs": [
        {
          "output_type": "execute_result",
          "data": {
            "text/plain": [
              "0    50578\n",
              "1    27720\n",
              "Name: KPIs_met >80%, dtype: int64"
            ]
          },
          "metadata": {
            "tags": []
          },
          "execution_count": 848
        }
      ]
    },
    {
      "cell_type": "code",
      "metadata": {
        "id": "pNny6Su0Fv7M",
        "colab_type": "code",
        "outputId": "bdfa3c27-922d-40d9-b97a-e0db87c4a1ee",
        "colab": {
          "base_uri": "https://localhost:8080/",
          "height": 67
        }
      },
      "source": [
        "df_train['is_promoted'].value_counts()"
      ],
      "execution_count": 849,
      "outputs": [
        {
          "output_type": "execute_result",
          "data": {
            "text/plain": [
              "0    50140\n",
              "1     4668\n",
              "Name: is_promoted, dtype: int64"
            ]
          },
          "metadata": {
            "tags": []
          },
          "execution_count": 849
        }
      ]
    },
    {
      "cell_type": "code",
      "metadata": {
        "id": "4Z_dJXldaOhz",
        "colab_type": "code",
        "colab": {
          "base_uri": "https://localhost:8080/",
          "height": 286
        },
        "outputId": "738175df-a9f4-4a11-cac2-1e92d7a6cefb"
      },
      "source": [
        "df.dtypes"
      ],
      "execution_count": 850,
      "outputs": [
        {
          "output_type": "execute_result",
          "data": {
            "text/plain": [
              "employee_id               int64\n",
              "department               object\n",
              "region                   object\n",
              "education                object\n",
              "gender                   object\n",
              "recruitment_channel      object\n",
              "no_of_trainings           int64\n",
              "age                       int64\n",
              "previous_year_rating    float64\n",
              "length_of_service         int64\n",
              "KPIs_met >80%             int64\n",
              "awards_won?               int64\n",
              "avg_training_score        int64\n",
              "is_promoted             float64\n",
              "source                   object\n",
              "dtype: object"
            ]
          },
          "metadata": {
            "tags": []
          },
          "execution_count": 850
        }
      ]
    },
    {
      "cell_type": "code",
      "metadata": {
        "id": "iT4xBeIqSFvm",
        "colab_type": "code",
        "colab": {}
      },
      "source": [
        "'''\n",
        "replace() function in pandas will help us to rename the values in a particular column\n",
        "'''\n",
        "dict1 = {'m':'male','f':'female'}\n",
        "df_train['gender'].replace(dict1, inplace = True) "
      ],
      "execution_count": 0,
      "outputs": []
    },
    {
      "cell_type": "code",
      "metadata": {
        "id": "_rVOZgDrNZfv",
        "colab_type": "code",
        "outputId": "016153f1-531e-43db-d0a9-0cd98000d636",
        "colab": {
          "base_uri": "https://localhost:8080/",
          "height": 166
        }
      },
      "source": [
        "'''\n",
        "cross tab will give the feel of data we have. the description of columns we include will be displayed here\n",
        "'''\n",
        "pd.crosstab(df_train[\"is_promoted\"],df_train[\"gender\"],margins=True)"
      ],
      "execution_count": 852,
      "outputs": [
        {
          "output_type": "execute_result",
          "data": {
            "text/html": [
              "<div>\n",
              "<style scoped>\n",
              "    .dataframe tbody tr th:only-of-type {\n",
              "        vertical-align: middle;\n",
              "    }\n",
              "\n",
              "    .dataframe tbody tr th {\n",
              "        vertical-align: top;\n",
              "    }\n",
              "\n",
              "    .dataframe thead th {\n",
              "        text-align: right;\n",
              "    }\n",
              "</style>\n",
              "<table border=\"1\" class=\"dataframe\">\n",
              "  <thead>\n",
              "    <tr style=\"text-align: right;\">\n",
              "      <th>gender</th>\n",
              "      <th>female</th>\n",
              "      <th>male</th>\n",
              "      <th>All</th>\n",
              "    </tr>\n",
              "    <tr>\n",
              "      <th>is_promoted</th>\n",
              "      <th></th>\n",
              "      <th></th>\n",
              "      <th></th>\n",
              "    </tr>\n",
              "  </thead>\n",
              "  <tbody>\n",
              "    <tr>\n",
              "      <th>0</th>\n",
              "      <td>14845</td>\n",
              "      <td>35295</td>\n",
              "      <td>50140</td>\n",
              "    </tr>\n",
              "    <tr>\n",
              "      <th>1</th>\n",
              "      <td>1467</td>\n",
              "      <td>3201</td>\n",
              "      <td>4668</td>\n",
              "    </tr>\n",
              "    <tr>\n",
              "      <th>All</th>\n",
              "      <td>16312</td>\n",
              "      <td>38496</td>\n",
              "      <td>54808</td>\n",
              "    </tr>\n",
              "  </tbody>\n",
              "</table>\n",
              "</div>"
            ],
            "text/plain": [
              "gender       female   male    All\n",
              "is_promoted                      \n",
              "0             14845  35295  50140\n",
              "1              1467   3201   4668\n",
              "All           16312  38496  54808"
            ]
          },
          "metadata": {
            "tags": []
          },
          "execution_count": 852
        }
      ]
    },
    {
      "cell_type": "code",
      "metadata": {
        "id": "Ot0__lC-THzo",
        "colab_type": "code",
        "outputId": "4909f18f-47fa-4e82-c54a-242a153626fb",
        "colab": {
          "base_uri": "https://localhost:8080/",
          "height": 373
        }
      },
      "source": [
        "k = pd.crosstab(df_train['department'],df_train['is_promoted'], margins = True)\n",
        "k"
      ],
      "execution_count": 853,
      "outputs": [
        {
          "output_type": "execute_result",
          "data": {
            "text/html": [
              "<div>\n",
              "<style scoped>\n",
              "    .dataframe tbody tr th:only-of-type {\n",
              "        vertical-align: middle;\n",
              "    }\n",
              "\n",
              "    .dataframe tbody tr th {\n",
              "        vertical-align: top;\n",
              "    }\n",
              "\n",
              "    .dataframe thead th {\n",
              "        text-align: right;\n",
              "    }\n",
              "</style>\n",
              "<table border=\"1\" class=\"dataframe\">\n",
              "  <thead>\n",
              "    <tr style=\"text-align: right;\">\n",
              "      <th>is_promoted</th>\n",
              "      <th>0</th>\n",
              "      <th>1</th>\n",
              "      <th>All</th>\n",
              "    </tr>\n",
              "    <tr>\n",
              "      <th>department</th>\n",
              "      <th></th>\n",
              "      <th></th>\n",
              "      <th></th>\n",
              "    </tr>\n",
              "  </thead>\n",
              "  <tbody>\n",
              "    <tr>\n",
              "      <th>Analytics</th>\n",
              "      <td>4840</td>\n",
              "      <td>512</td>\n",
              "      <td>5352</td>\n",
              "    </tr>\n",
              "    <tr>\n",
              "      <th>Finance</th>\n",
              "      <td>2330</td>\n",
              "      <td>206</td>\n",
              "      <td>2536</td>\n",
              "    </tr>\n",
              "    <tr>\n",
              "      <th>HR</th>\n",
              "      <td>2282</td>\n",
              "      <td>136</td>\n",
              "      <td>2418</td>\n",
              "    </tr>\n",
              "    <tr>\n",
              "      <th>Legal</th>\n",
              "      <td>986</td>\n",
              "      <td>53</td>\n",
              "      <td>1039</td>\n",
              "    </tr>\n",
              "    <tr>\n",
              "      <th>Operations</th>\n",
              "      <td>10325</td>\n",
              "      <td>1023</td>\n",
              "      <td>11348</td>\n",
              "    </tr>\n",
              "    <tr>\n",
              "      <th>Procurement</th>\n",
              "      <td>6450</td>\n",
              "      <td>688</td>\n",
              "      <td>7138</td>\n",
              "    </tr>\n",
              "    <tr>\n",
              "      <th>R&amp;D</th>\n",
              "      <td>930</td>\n",
              "      <td>69</td>\n",
              "      <td>999</td>\n",
              "    </tr>\n",
              "    <tr>\n",
              "      <th>Sales &amp; Marketing</th>\n",
              "      <td>15627</td>\n",
              "      <td>1213</td>\n",
              "      <td>16840</td>\n",
              "    </tr>\n",
              "    <tr>\n",
              "      <th>Technology</th>\n",
              "      <td>6370</td>\n",
              "      <td>768</td>\n",
              "      <td>7138</td>\n",
              "    </tr>\n",
              "    <tr>\n",
              "      <th>All</th>\n",
              "      <td>50140</td>\n",
              "      <td>4668</td>\n",
              "      <td>54808</td>\n",
              "    </tr>\n",
              "  </tbody>\n",
              "</table>\n",
              "</div>"
            ],
            "text/plain": [
              "is_promoted            0     1    All\n",
              "department                           \n",
              "Analytics           4840   512   5352\n",
              "Finance             2330   206   2536\n",
              "HR                  2282   136   2418\n",
              "Legal                986    53   1039\n",
              "Operations         10325  1023  11348\n",
              "Procurement         6450   688   7138\n",
              "R&D                  930    69    999\n",
              "Sales & Marketing  15627  1213  16840\n",
              "Technology          6370   768   7138\n",
              "All                50140  4668  54808"
            ]
          },
          "metadata": {
            "tags": []
          },
          "execution_count": 853
        }
      ]
    },
    {
      "cell_type": "code",
      "metadata": {
        "id": "1xoFP8hdqGwV",
        "colab_type": "code",
        "outputId": "5b309a2f-2079-47c3-90b6-b19d0645cf71",
        "colab": {
          "base_uri": "https://localhost:8080/",
          "height": 544
        }
      },
      "source": [
        "dept_prom = df_train.groupby('department').agg({'is_promoted':'count'})\n",
        "dept_prom.plot(kind = 'bar', figsize = (15,7))"
      ],
      "execution_count": 854,
      "outputs": [
        {
          "output_type": "execute_result",
          "data": {
            "text/plain": [
              "<matplotlib.axes._subplots.AxesSubplot at 0x7f416e205f28>"
            ]
          },
          "metadata": {
            "tags": []
          },
          "execution_count": 854
        },
        {
          "output_type": "display_data",
          "data": {
            "image/png": "[encoded data removed]",
            "text/plain": [
              "<Figure size 1080x504 with 1 Axes>"
            ]
          },
          "metadata": {
            "tags": []
          }
        }
      ]
    },
    {
      "cell_type": "code",
      "metadata": {
        "id": "8uNdwzX9Vrdj",
        "colab_type": "code",
        "outputId": "04f78a12-52de-450c-eeee-dcf6ea9e0ce5",
        "colab": {
          "base_uri": "https://localhost:8080/",
          "height": 50
        }
      },
      "source": [
        "(k[1].values/k[0].values)"
      ],
      "execution_count": 855,
      "outputs": [
        {
          "output_type": "execute_result",
          "data": {
            "text/plain": [
              "array([0.10578512, 0.08841202, 0.05959684, 0.05375254, 0.0990799 ,\n",
              "       0.10666667, 0.07419355, 0.07762206, 0.12056515, 0.09309932])"
            ]
          },
          "metadata": {
            "tags": []
          },
          "execution_count": 855
        }
      ]
    },
    {
      "cell_type": "code",
      "metadata": {
        "id": "d46e87EFn0LL",
        "colab_type": "code",
        "outputId": "ecdcd915-950d-43a6-a656-a7068c2ff7f9",
        "colab": {
          "base_uri": "https://localhost:8080/",
          "height": 467
        }
      },
      "source": [
        "'''\n",
        "Based on length of service, the number of employees promoted based on their eligibility \n",
        "Employees having work experience of 2-4 years have been promoted \n",
        "'''\n",
        "\n",
        "service_promoted = df_train.groupby('length_of_service').agg({'is_promoted':'count'})\n",
        "service_promoted.plot(kind = 'bar', figsize = (15,7),color = 'yellow')"
      ],
      "execution_count": 856,
      "outputs": [
        {
          "output_type": "execute_result",
          "data": {
            "text/plain": [
              "<matplotlib.axes._subplots.AxesSubplot at 0x7f416e0a42e8>"
            ]
          },
          "metadata": {
            "tags": []
          },
          "execution_count": 856
        },
        {
          "output_type": "display_data",
          "data": {
            "image/png": "[encoded data removed]",
            "text/plain": [
              "<Figure size 1080x504 with 1 Axes>"
            ]
          },
          "metadata": {
            "tags": []
          }
        }
      ]
    },
    {
      "cell_type": "code",
      "metadata": {
        "id": "6coPqdAsogkK",
        "colab_type": "code",
        "outputId": "178e747e-9428-4856-96ba-bc81bae5efb7",
        "colab": {
          "base_uri": "https://localhost:8080/",
          "height": 34
        }
      },
      "source": [
        "service_promoted['is_promoted'].values.sum()"
      ],
      "execution_count": 857,
      "outputs": [
        {
          "output_type": "execute_result",
          "data": {
            "text/plain": [
              "54808"
            ]
          },
          "metadata": {
            "tags": []
          },
          "execution_count": 857
        }
      ]
    },
    {
      "cell_type": "code",
      "metadata": {
        "id": "MlUmI9UBr_PU",
        "colab_type": "code",
        "outputId": "930cf22f-aa3d-44da-fc92-eb0176868d62",
        "colab": {
          "base_uri": "https://localhost:8080/",
          "height": 466
        }
      },
      "source": [
        "trainings = df_train.groupby('no_of_trainings').agg({\"is_promoted\":'sum'})\n",
        "trainings.plot(kind = 'bar',figsize = (15,7),color = 'black')"
      ],
      "execution_count": 858,
      "outputs": [
        {
          "output_type": "execute_result",
          "data": {
            "text/plain": [
              "<matplotlib.axes._subplots.AxesSubplot at 0x7f416e4df710>"
            ]
          },
          "metadata": {
            "tags": []
          },
          "execution_count": 858
        },
        {
          "output_type": "display_data",
          "data": {
            "image/png": "[encoded data removed]",
            "text/plain": [
              "<Figure size 1080x504 with 1 Axes>"
            ]
          },
          "metadata": {
            "tags": []
          }
        }
      ]
    },
    {
      "cell_type": "code",
      "metadata": {
        "id": "W5Wxg-nTs_7i",
        "colab_type": "code",
        "outputId": "05971a2f-1777-44a0-9f37-e4f1ea962f91",
        "colab": {
          "base_uri": "https://localhost:8080/",
          "height": 470
        }
      },
      "source": [
        "rating = df_train.groupby('previous_year_rating').agg({\"is_promoted\":'count'})\n",
        "rating.plot(kind = 'bar',figsize = (15,7),color = 'red')"
      ],
      "execution_count": 859,
      "outputs": [
        {
          "output_type": "execute_result",
          "data": {
            "text/plain": [
              "<matplotlib.axes._subplots.AxesSubplot at 0x7f416e458748>"
            ]
          },
          "metadata": {
            "tags": []
          },
          "execution_count": 859
        },
        {
          "output_type": "display_data",
          "data": {
            "image/png": "[encoded data removed]",
            "text/plain": [
              "<Figure size 1080x504 with 1 Axes>"
            ]
          },
          "metadata": {
            "tags": []
          }
        }
      ]
    },
    {
      "cell_type": "code",
      "metadata": {
        "id": "0T4wTS_tuDcj",
        "colab_type": "code",
        "outputId": "bcb39c79-c3b5-46f0-acce-bb71f581cc0e",
        "colab": {
          "base_uri": "https://localhost:8080/",
          "height": 460
        }
      },
      "source": [
        "kpi = df_train.groupby('KPIs_met >80%').agg({\"is_promoted\":'count'})\n",
        "kpi.plot(kind = 'bar',figsize = (15,7),color = 'green') "
      ],
      "execution_count": 860,
      "outputs": [
        {
          "output_type": "execute_result",
          "data": {
            "text/plain": [
              "<matplotlib.axes._subplots.AxesSubplot at 0x7f416e43b4a8>"
            ]
          },
          "metadata": {
            "tags": []
          },
          "execution_count": 860
        },
        {
          "output_type": "display_data",
          "data": {
            "image/png": "[encoded data removed]",
            "text/plain": [
              "<Figure size 1080x504 with 1 Axes>"
            ]
          },
          "metadata": {
            "tags": []
          }
        }
      ]
    },
    {
      "cell_type": "code",
      "metadata": {
        "id": "PZX2cQa8zjEl",
        "colab_type": "code",
        "outputId": "fdb101a6-ae9b-4f2d-e85f-102e3ab295c1",
        "colab": {
          "base_uri": "https://localhost:8080/",
          "height": 466
        }
      },
      "source": [
        "'''\n",
        "Employees in the age group 26-37 years have been shortlisted for promotion\n",
        "'''\n",
        "age = df_train.groupby('age').agg({\"is_promoted\":'count'})\n",
        "age.plot(kind = 'bar',figsize = (15,7),color = 'red') "
      ],
      "execution_count": 861,
      "outputs": [
        {
          "output_type": "execute_result",
          "data": {
            "text/plain": [
              "<matplotlib.axes._subplots.AxesSubplot at 0x7f416e399d30>"
            ]
          },
          "metadata": {
            "tags": []
          },
          "execution_count": 861
        },
        {
          "output_type": "display_data",
          "data": {
            "image/png": "[encoded data removed]",
            "text/plain": [
              "<Figure size 1080x504 with 1 Axes>"
            ]
          },
          "metadata": {
            "tags": []
          }
        }
      ]
    },
    {
      "cell_type": "code",
      "metadata": {
        "id": "zrX19yVi2sg_",
        "colab_type": "code",
        "outputId": "77a55821-71da-4921-cf88-40050cb91ab2",
        "colab": {
          "base_uri": "https://localhost:8080/",
          "height": 540
        }
      },
      "source": [
        "edu = df_train.groupby('education').agg({\"is_promoted\":'count'})\n",
        "edu.plot(kind = 'bar',figsize = (15,7),color = 'orange') "
      ],
      "execution_count": 862,
      "outputs": [
        {
          "output_type": "execute_result",
          "data": {
            "text/plain": [
              "<matplotlib.axes._subplots.AxesSubplot at 0x7f416e4df128>"
            ]
          },
          "metadata": {
            "tags": []
          },
          "execution_count": 862
        },
        {
          "output_type": "display_data",
          "data": {
            "image/png": "[encoded data removed]",
            "text/plain": [
              "<Figure size 1080x504 with 1 Axes>"
            ]
          },
          "metadata": {
            "tags": []
          }
        }
      ]
    },
    {
      "cell_type": "code",
      "metadata": {
        "id": "rTEhKsPJ3f2r",
        "colab_type": "code",
        "outputId": "daee001c-17ce-40dd-98ab-a8b374ea5da4",
        "colab": {
          "base_uri": "https://localhost:8080/",
          "height": 460
        }
      },
      "source": [
        "awards = df_train.groupby('awards_won?').agg({\"is_promoted\":'count'})\n",
        "awards.plot(kind = 'bar',figsize = (15,7),color = 'blue') "
      ],
      "execution_count": 863,
      "outputs": [
        {
          "output_type": "execute_result",
          "data": {
            "text/plain": [
              "<matplotlib.axes._subplots.AxesSubplot at 0x7f416e43b208>"
            ]
          },
          "metadata": {
            "tags": []
          },
          "execution_count": 863
        },
        {
          "output_type": "display_data",
          "data": {
            "image/png": "[encoded data removed]",
            "text/plain": [
              "<Figure size 1080x504 with 1 Axes>"
            ]
          },
          "metadata": {
            "tags": []
          }
        }
      ]
    },
    {
      "cell_type": "code",
      "metadata": {
        "id": "ORCa4z0B3-vC",
        "colab_type": "code",
        "outputId": "b88e4735-a400-4749-9aef-b6a7c35335da",
        "colab": {
          "base_uri": "https://localhost:8080/",
          "height": 467
        }
      },
      "source": [
        "score = df_train.groupby('avg_training_score').agg({\"is_promoted\":'count'})\n",
        "score.plot(kind = 'bar',figsize = (15,7),color = 'red') "
      ],
      "execution_count": 864,
      "outputs": [
        {
          "output_type": "execute_result",
          "data": {
            "text/plain": [
              "<matplotlib.axes._subplots.AxesSubplot at 0x7f416e1a67f0>"
            ]
          },
          "metadata": {
            "tags": []
          },
          "execution_count": 864
        },
        {
          "output_type": "display_data",
          "data": {
            "image/png": "[encoded data removed]",
            "text/plain": [
              "<Figure size 1080x504 with 1 Axes>"
            ]
          },
          "metadata": {
            "tags": []
          }
        }
      ]
    },
    {
      "cell_type": "code",
      "metadata": {
        "id": "YDDMB73P6Q0i",
        "colab_type": "code",
        "outputId": "5a2dcb6c-88b4-4ed3-8634-ef58eef4fd18",
        "colab": {
          "base_uri": "https://localhost:8080/",
          "height": 503
        }
      },
      "source": [
        "region = df_train.groupby('region').agg({\"is_promoted\":'count'})\n",
        "region.plot(kind = 'bar',figsize = (15,7),color = 'black')"
      ],
      "execution_count": 865,
      "outputs": [
        {
          "output_type": "execute_result",
          "data": {
            "text/plain": [
              "<matplotlib.axes._subplots.AxesSubplot at 0x7f416e15ef28>"
            ]
          },
          "metadata": {
            "tags": []
          },
          "execution_count": 865
        },
        {
          "output_type": "display_data",
          "data": {
            "image/png": "[encoded data removed]",
            "text/plain": [
              "<Figure size 1080x504 with 1 Axes>"
            ]
          },
          "metadata": {
            "tags": []
          }
        }
      ]
    },
    {
      "cell_type": "code",
      "metadata": {
        "id": "O9htHhv15SLU",
        "colab_type": "code",
        "colab": {}
      },
      "source": [
        "df.drop(['region','recruitment_channel','previous_year_rating'], axis = 1, inplace = True)"
      ],
      "execution_count": 0,
      "outputs": []
    },
    {
      "cell_type": "code",
      "metadata": {
        "id": "gFHoRckk8Yfu",
        "colab_type": "code",
        "outputId": "2eec25bc-b4d1-4081-95d7-791f456128cc",
        "colab": {
          "base_uri": "https://localhost:8080/",
          "height": 34
        }
      },
      "source": [
        "df.shape"
      ],
      "execution_count": 867,
      "outputs": [
        {
          "output_type": "execute_result",
          "data": {
            "text/plain": [
              "(78298, 12)"
            ]
          },
          "metadata": {
            "tags": []
          },
          "execution_count": 867
        }
      ]
    },
    {
      "cell_type": "code",
      "metadata": {
        "id": "0_3Vulle8cG3",
        "colab_type": "code",
        "outputId": "d7a70e40-b78f-4b09-d979-d788eec6c873",
        "colab": {
          "base_uri": "https://localhost:8080/",
          "height": 84
        }
      },
      "source": [
        "df.columns"
      ],
      "execution_count": 868,
      "outputs": [
        {
          "output_type": "execute_result",
          "data": {
            "text/plain": [
              "Index(['employee_id', 'department', 'education', 'gender', 'no_of_trainings',\n",
              "       'age', 'length_of_service', 'KPIs_met >80%', 'awards_won?',\n",
              "       'avg_training_score', 'is_promoted', 'source'],\n",
              "      dtype='object')"
            ]
          },
          "metadata": {
            "tags": []
          },
          "execution_count": 868
        }
      ]
    },
    {
      "cell_type": "code",
      "metadata": {
        "id": "RlKjXx6ZaZk8",
        "colab_type": "code",
        "colab": {
          "base_uri": "https://localhost:8080/",
          "height": 235
        },
        "outputId": "0731a22d-2cae-4a95-93f8-ede06fe2f479"
      },
      "source": [
        "df.dtypes"
      ],
      "execution_count": 869,
      "outputs": [
        {
          "output_type": "execute_result",
          "data": {
            "text/plain": [
              "employee_id             int64\n",
              "department             object\n",
              "education              object\n",
              "gender                 object\n",
              "no_of_trainings         int64\n",
              "age                     int64\n",
              "length_of_service       int64\n",
              "KPIs_met >80%           int64\n",
              "awards_won?             int64\n",
              "avg_training_score      int64\n",
              "is_promoted           float64\n",
              "source                 object\n",
              "dtype: object"
            ]
          },
          "metadata": {
            "tags": []
          },
          "execution_count": 869
        }
      ]
    },
    {
      "cell_type": "code",
      "metadata": {
        "id": "E3oIZw2Y3-Yb",
        "colab_type": "code",
        "colab": {}
      },
      "source": [
        "# One hot encoding of Categorical Variables\n",
        "from sklearn.preprocessing import LabelEncoder\n",
        "le = LabelEncoder()\n",
        "\n",
        "categ_variables = ['department','gender','education']\n",
        "\n",
        "for i in categ_variables:\n",
        "  df[i] = le.fit_transform(df[i])"
      ],
      "execution_count": 0,
      "outputs": []
    },
    {
      "cell_type": "code",
      "metadata": {
        "id": "TE5pQT9h4tRg",
        "colab_type": "code",
        "colab": {
          "base_uri": "https://localhost:8080/",
          "height": 420
        },
        "outputId": "d902084b-af2f-484b-a76c-f016aad2e9ec"
      },
      "source": [
        "df = pd.get_dummies(df, columns = ['department','gender','education'])\n",
        "df.dtypes"
      ],
      "execution_count": 871,
      "outputs": [
        {
          "output_type": "execute_result",
          "data": {
            "text/plain": [
              "employee_id             int64\n",
              "no_of_trainings         int64\n",
              "age                     int64\n",
              "length_of_service       int64\n",
              "KPIs_met >80%           int64\n",
              "awards_won?             int64\n",
              "avg_training_score      int64\n",
              "is_promoted           float64\n",
              "source                 object\n",
              "department_0            uint8\n",
              "department_1            uint8\n",
              "department_2            uint8\n",
              "department_3            uint8\n",
              "department_4            uint8\n",
              "department_5            uint8\n",
              "department_6            uint8\n",
              "department_7            uint8\n",
              "department_8            uint8\n",
              "gender_0                uint8\n",
              "gender_1                uint8\n",
              "education_0             uint8\n",
              "education_1             uint8\n",
              "education_2             uint8\n",
              "dtype: object"
            ]
          },
          "metadata": {
            "tags": []
          },
          "execution_count": 871
        }
      ]
    },
    {
      "cell_type": "code",
      "metadata": {
        "id": "Ar7eet-0qH6F",
        "colab_type": "code",
        "colab": {
          "base_uri": "https://localhost:8080/",
          "height": 134
        },
        "outputId": "1550578b-e23d-48b0-da4b-a9830e510a32"
      },
      "source": [
        "train = df.loc[df['source'] == \"True\"]\n",
        "test = df.loc[df['source'] == \"False\"]\n",
        "\n",
        "train.drop(['source'], axis = 1, inplace = True)\n",
        "test.drop(['is_promoted','source'], axis = 1, inplace = True)\n",
        "\n",
        "print(train.shape)\n",
        "print(test.shape)\n",
        "\n",
        "train.to_csv(\"train_mod\", index = False)\n",
        "test.to_csv(\"test_mod\", index = False)"
      ],
      "execution_count": 872,
      "outputs": [
        {
          "output_type": "stream",
          "text": [
            "/usr/local/lib/python3.6/dist-packages/pandas/core/frame.py:3940: SettingWithCopyWarning: \n",
            "A value is trying to be set on a copy of a slice from a DataFrame\n",
            "\n",
            "See the caveats in the documentation: http://pandas.pydata.org/pandas-docs/stable/indexing.html#indexing-view-versus-copy\n",
            "  errors=errors)\n"
          ],
          "name": "stderr"
        },
        {
          "output_type": "stream",
          "text": [
            "(54808, 22)\n",
            "(23490, 21)\n"
          ],
          "name": "stdout"
        }
      ]
    },
    {
      "cell_type": "code",
      "metadata": {
        "id": "beD7OWE1tv1R",
        "colab_type": "code",
        "colab": {
          "base_uri": "https://localhost:8080/",
          "height": 134
        },
        "outputId": "984b673d-3475-4ab2-c5e7-932c07cb5a9f"
      },
      "source": [
        "train.columns"
      ],
      "execution_count": 873,
      "outputs": [
        {
          "output_type": "execute_result",
          "data": {
            "text/plain": [
              "Index(['employee_id', 'no_of_trainings', 'age', 'length_of_service',\n",
              "       'KPIs_met >80%', 'awards_won?', 'avg_training_score', 'is_promoted',\n",
              "       'department_0', 'department_1', 'department_2', 'department_3',\n",
              "       'department_4', 'department_5', 'department_6', 'department_7',\n",
              "       'department_8', 'gender_0', 'gender_1', 'education_0', 'education_1',\n",
              "       'education_2'],\n",
              "      dtype='object')"
            ]
          },
          "metadata": {
            "tags": []
          },
          "execution_count": 873
        }
      ]
    },
    {
      "cell_type": "code",
      "metadata": {
        "id": "eeMSO3EiuBLR",
        "colab_type": "code",
        "colab": {
          "base_uri": "https://localhost:8080/",
          "height": 403
        },
        "outputId": "c29ce58e-0c8b-4434-fdcb-06bfdb055980"
      },
      "source": [
        "train.dtypes"
      ],
      "execution_count": 874,
      "outputs": [
        {
          "output_type": "execute_result",
          "data": {
            "text/plain": [
              "employee_id             int64\n",
              "no_of_trainings         int64\n",
              "age                     int64\n",
              "length_of_service       int64\n",
              "KPIs_met >80%           int64\n",
              "awards_won?             int64\n",
              "avg_training_score      int64\n",
              "is_promoted           float64\n",
              "department_0            uint8\n",
              "department_1            uint8\n",
              "department_2            uint8\n",
              "department_3            uint8\n",
              "department_4            uint8\n",
              "department_5            uint8\n",
              "department_6            uint8\n",
              "department_7            uint8\n",
              "department_8            uint8\n",
              "gender_0                uint8\n",
              "gender_1                uint8\n",
              "education_0             uint8\n",
              "education_1             uint8\n",
              "education_2             uint8\n",
              "dtype: object"
            ]
          },
          "metadata": {
            "tags": []
          },
          "execution_count": 874
        }
      ]
    },
    {
      "cell_type": "code",
      "metadata": {
        "id": "4E9HNMQNv-5t",
        "colab_type": "code",
        "colab": {
          "base_uri": "https://localhost:8080/",
          "height": 386
        },
        "outputId": "df681691-bd2d-4003-db82-cd59b7f37981"
      },
      "source": [
        "test.isna().sum()"
      ],
      "execution_count": 875,
      "outputs": [
        {
          "output_type": "execute_result",
          "data": {
            "text/plain": [
              "employee_id           0\n",
              "no_of_trainings       0\n",
              "age                   0\n",
              "length_of_service     0\n",
              "KPIs_met >80%         0\n",
              "awards_won?           0\n",
              "avg_training_score    0\n",
              "department_0          0\n",
              "department_1          0\n",
              "department_2          0\n",
              "department_3          0\n",
              "department_4          0\n",
              "department_5          0\n",
              "department_6          0\n",
              "department_7          0\n",
              "department_8          0\n",
              "gender_0              0\n",
              "gender_1              0\n",
              "education_0           0\n",
              "education_1           0\n",
              "education_2           0\n",
              "dtype: int64"
            ]
          },
          "metadata": {
            "tags": []
          },
          "execution_count": 875
        }
      ]
    },
    {
      "cell_type": "code",
      "metadata": {
        "id": "qbW5IiZ1raSM",
        "colab_type": "code",
        "colab": {}
      },
      "source": [
        "#Define target and ID columns:\n",
        "target = 'is_promoted'\n",
        "IDcol = ['employee_id']\n",
        "\n",
        "from sklearn.model_selection import cross_val_score\n",
        "from sklearn import metrics\n",
        "\n",
        "def modelfit(alg, dtrain, dtest, predictors, target, IDcol, filename):\n",
        "    #Fit the algorithm on the data\n",
        "    alg.fit(dtrain[predictors], dtrain[target])\n",
        "        \n",
        "    #Predict training set:\n",
        "    dtrain_predictions = alg.predict(dtrain[predictors])\n",
        "\n",
        "    #Perform cross-validation:\n",
        "    cv_score = cross_val_score(alg, dtrain[predictors], dtrain[target], cv=5, scoring='f1')\n",
        "    \n",
        "    #Print model report:\n",
        "    print(\"\\nModel Report\")\n",
        "    print(\"F1_score\", metrics.f1_score(dtrain[target].values, dtrain_predictions))\n",
        "    \n",
        "    #Predict on testing data:\n",
        "    dtest[target] = alg.predict(dtest[predictors])\n",
        "    \n",
        "    #Export submission file:\n",
        "    IDcol.append(target)\n",
        "    submission = pd.DataFrame({ x: dtest[x] for x in IDcol})\n",
        "    submission.to_csv(filename, index=False)"
      ],
      "execution_count": 0,
      "outputs": []
    },
    {
      "cell_type": "code",
      "metadata": {
        "id": "3RlkazNgsaCe",
        "colab_type": "code",
        "colab": {
          "base_uri": "https://localhost:8080/",
          "height": 353
        },
        "outputId": "17aad0bf-9eba-4a43-f943-20684b3f9cd5"
      },
      "source": [
        "from sklearn.ensemble import RandomForestClassifier\n",
        "predictors = [x for x in train.columns if x not in [target]+IDcol]\n",
        "predictors"
      ],
      "execution_count": 877,
      "outputs": [
        {
          "output_type": "execute_result",
          "data": {
            "text/plain": [
              "['no_of_trainings',\n",
              " 'age',\n",
              " 'length_of_service',\n",
              " 'KPIs_met >80%',\n",
              " 'awards_won?',\n",
              " 'avg_training_score',\n",
              " 'department_0',\n",
              " 'department_1',\n",
              " 'department_2',\n",
              " 'department_3',\n",
              " 'department_4',\n",
              " 'department_5',\n",
              " 'department_6',\n",
              " 'department_7',\n",
              " 'department_8',\n",
              " 'gender_0',\n",
              " 'gender_1',\n",
              " 'education_0',\n",
              " 'education_1',\n",
              " 'education_2']"
            ]
          },
          "metadata": {
            "tags": []
          },
          "execution_count": 877
        }
      ]
    },
    {
      "cell_type": "code",
      "metadata": {
        "id": "2cV-EAD32LSo",
        "colab_type": "code",
        "colab": {
          "base_uri": "https://localhost:8080/",
          "height": 518
        },
        "outputId": "db961337-7246-492a-ef4d-26439d5ca170"
      },
      "source": [
        "alg2 = RandomForestClassifier(n_estimators = 400, max_features = 7, n_jobs = 5, min_samples_leaf = 50)\n",
        "modelfit(alg2, train, test, predictors, target, IDcol, 'alg2.csv')\n",
        "coef2 = pd.Series(alg2.feature_importances_, predictors).sort_values()\n",
        "coef2.plot(kind='bar', title='Model Coefficients')"
      ],
      "execution_count": 878,
      "outputs": [
        {
          "output_type": "stream",
          "text": [
            "\n",
            "Model Report\n",
            "F1_score 0.3921766987017367\n"
          ],
          "name": "stdout"
        },
        {
          "output_type": "stream",
          "text": [
            "/usr/local/lib/python3.6/dist-packages/ipykernel_launcher.py:22: SettingWithCopyWarning: \n",
            "A value is trying to be set on a copy of a slice from a DataFrame.\n",
            "Try using .loc[row_indexer,col_indexer] = value instead\n",
            "\n",
            "See the caveats in the documentation: http://pandas.pydata.org/pandas-docs/stable/indexing.html#indexing-view-versus-copy\n"
          ],
          "name": "stderr"
        },
        {
          "output_type": "execute_result",
          "data": {
            "text/plain": [
              "<matplotlib.axes._subplots.AxesSubplot at 0x7f416ca8b160>"
            ]
          },
          "metadata": {
            "tags": []
          },
          "execution_count": 878
        },
        {
          "output_type": "display_data",
          "data": {
            "image/png": "[encoded data removed]",
            "text/plain": [
              "<Figure size 432x288 with 1 Axes>"
            ]
          },
          "metadata": {
            "tags": []
          }
        }
      ]
    },
    {
      "cell_type": "code",
      "metadata": {
        "id": "Aa0aDEz26k7N",
        "colab_type": "code",
        "colab": {
          "base_uri": "https://localhost:8080/",
          "height": 518
        },
        "outputId": "d84098cd-f84c-43b0-d1bb-8910da1f229a"
      },
      "source": [
        "from sklearn.ensemble import GradientBoostingClassifier\n",
        "predictors = [x for x in train.columns if x not in [target]+IDcol]\n",
        "\n",
        "alg3 = GradientBoostingClassifier(n_estimators = 400,  min_samples_leaf = 50, subsample = 0.65, learning_rate = 0.15, loss = 'deviance')\n",
        "modelfit(alg3, train, test, predictors, target, IDcol, 'alg3.csv')\n",
        "coef3 = pd.Series(alg3.feature_importances_, predictors).sort_values()\n",
        "coef3.plot(kind='bar', title='Model Coefficients')"
      ],
      "execution_count": 879,
      "outputs": [
        {
          "output_type": "stream",
          "text": [
            "\n",
            "Model Report\n",
            "F1_score 0.5137585991244529\n"
          ],
          "name": "stdout"
        },
        {
          "output_type": "stream",
          "text": [
            "/usr/local/lib/python3.6/dist-packages/ipykernel_launcher.py:22: SettingWithCopyWarning: \n",
            "A value is trying to be set on a copy of a slice from a DataFrame.\n",
            "Try using .loc[row_indexer,col_indexer] = value instead\n",
            "\n",
            "See the caveats in the documentation: http://pandas.pydata.org/pandas-docs/stable/indexing.html#indexing-view-versus-copy\n"
          ],
          "name": "stderr"
        },
        {
          "output_type": "execute_result",
          "data": {
            "text/plain": [
              "<matplotlib.axes._subplots.AxesSubplot at 0x7f416de1d6a0>"
            ]
          },
          "metadata": {
            "tags": []
          },
          "execution_count": 879
        },
        {
          "output_type": "display_data",
          "data": {
            "image/png": "[encoded data removed]",
            "text/plain": [
              "<Figure size 432x288 with 1 Axes>"
            ]
          },
          "metadata": {
            "tags": []
          }
        }
      ]
    }
  ]
}