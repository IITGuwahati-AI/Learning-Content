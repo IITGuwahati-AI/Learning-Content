{
 "cells": [
  {
   "cell_type": "code",
   "execution_count": null,
   "metadata": {},
   "outputs": [],
   "source": [
    "import os\n",
    "import numpy as np\n",
    "from numpy import loadtxt\n",
    "from matplotlib import pyplot\n",
    "\n",
    "data=np.loadtxt(\"ex1data1.txt\",delimiter=',')\n",
    "X=data[:,0]\n",
    "y=data[:,1]\n",
    "m=y.size\n",
    "\n",
    "theta=np.array([-1,2])\n",
    "\n",
    "X=np.stack([np.ones(m),X],axis=1)\n",
    "#print np.shape(X)\n",
    "\n",
    "def computeCost(X,y,theta):\n",
    "\t m = y.size\n",
    "\t J=0\n",
    "\t cost= (np.dot(X,theta)-y)*(np.dot(X,theta)-y)\n",
    "\t J = sum(cost)/(2*m)\n",
    "\t return J \n",
    "\n",
    "J=computeCost(X,y,theta)\n",
    "print('With theta = [-1, 2] \\nCost computed = %.2f' % J)"
   ]
  }
 ],
 "metadata": {
  "kernelspec": {
   "display_name": "Python 2",
   "language": "python",
   "name": "python2"
  },
  "language_info": {
   "codemirror_mode": {
    "name": "ipython",
    "version": 2
   },
   "file_extension": ".py",
   "mimetype": "text/x-python",
   "name": "python",
   "nbconvert_exporter": "python",
   "pygments_lexer": "ipython2",
   "version": "2.7.17"
  }
 },
 "nbformat": 4,
 "nbformat_minor": 2
}
