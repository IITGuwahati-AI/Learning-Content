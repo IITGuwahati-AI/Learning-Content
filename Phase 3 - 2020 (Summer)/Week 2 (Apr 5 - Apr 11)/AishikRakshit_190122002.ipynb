{
 "cells": [
  {
   "cell_type": "code",
   "execution_count": 1,
   "metadata": {},
   "outputs": [],
   "source": [
    "import numpy as np\n",
    "import pandas as pd\n",
    "import os\n",
    "from matplotlib import pyplot as plt\n",
    "from numpy.linalg import inv\n",
    "from mpl_toolkits import mplot3d as plt3d"
   ]
  },
  {
   "cell_type": "code",
   "execution_count": 2,
   "metadata": {},
   "outputs": [],
   "source": [
    "ds1=np.genfromtxt(r\"C:\\Users\\LENOVO\\Desktop\\machine-learning-ex\\ex1\\ex1data1.csv\",delimiter=',')\n",
    "ds2=np.genfromtxt(r\"C:\\Users\\LENOVO\\Desktop\\machine-learning-ex\\ex1\\ex1data2.csv\",delimiter=',')"
   ]
  },
  {
   "cell_type": "code",
   "execution_count": 3,
   "metadata": {},
   "outputs": [],
   "source": [
    "def plotdata():\n",
    "    print(\"Dataset 1\")\n",
    "    print(ds1)\n",
    "    print(\"Dataset 2\")\n",
    "    print(ds2)\n",
    "    "
   ]
  },
  {
   "cell_type": "code",
   "execution_count": 4,
   "metadata": {},
   "outputs": [
    {
     "data": {
      "text/plain": [
       "array([[ 6.1101 , 17.592  ],\n",
       "       [ 5.5277 ,  9.1302 ],\n",
       "       [ 8.5186 , 13.662  ],\n",
       "       [ 7.0032 , 11.854  ],\n",
       "       [ 5.8598 ,  6.8233 ],\n",
       "       [ 8.3829 , 11.886  ],\n",
       "       [ 7.4764 ,  4.3483 ],\n",
       "       [ 8.5781 , 12.     ],\n",
       "       [ 6.4862 ,  6.5987 ],\n",
       "       [ 5.0546 ,  3.8166 ],\n",
       "       [ 5.7107 ,  3.2522 ],\n",
       "       [14.164  , 15.505  ],\n",
       "       [ 5.734  ,  3.1551 ],\n",
       "       [ 8.4084 ,  7.2258 ],\n",
       "       [ 5.6407 ,  0.71618],\n",
       "       [ 5.3794 ,  3.5129 ],\n",
       "       [ 6.3654 ,  5.3048 ],\n",
       "       [ 5.1301 ,  0.56077],\n",
       "       [ 6.4296 ,  3.6518 ],\n",
       "       [ 7.0708 ,  5.3893 ],\n",
       "       [ 6.1891 ,  3.1386 ],\n",
       "       [20.27   , 21.767  ],\n",
       "       [ 5.4901 ,  4.263  ],\n",
       "       [ 6.3261 ,  5.1875 ],\n",
       "       [ 5.5649 ,  3.0825 ],\n",
       "       [18.945  , 22.638  ],\n",
       "       [12.828  , 13.501  ],\n",
       "       [10.957  ,  7.0467 ],\n",
       "       [13.176  , 14.692  ],\n",
       "       [22.203  , 24.147  ],\n",
       "       [ 5.2524 , -1.22   ],\n",
       "       [ 6.5894 ,  5.9966 ],\n",
       "       [ 9.2482 , 12.134  ],\n",
       "       [ 5.8918 ,  1.8495 ],\n",
       "       [ 8.2111 ,  6.5426 ],\n",
       "       [ 7.9334 ,  4.5623 ],\n",
       "       [ 8.0959 ,  4.1164 ],\n",
       "       [ 5.6063 ,  3.3928 ],\n",
       "       [12.836  , 10.117  ],\n",
       "       [ 6.3534 ,  5.4974 ],\n",
       "       [ 5.4069 ,  0.55657],\n",
       "       [ 6.8825 ,  3.9115 ],\n",
       "       [11.708  ,  5.3854 ],\n",
       "       [ 5.7737 ,  2.4406 ],\n",
       "       [ 7.8247 ,  6.7318 ],\n",
       "       [ 7.0931 ,  1.0463 ],\n",
       "       [ 5.0702 ,  5.1337 ],\n",
       "       [ 5.8014 ,  1.844  ],\n",
       "       [11.7    ,  8.0043 ],\n",
       "       [ 5.5416 ,  1.0179 ],\n",
       "       [ 7.5402 ,  6.7504 ],\n",
       "       [ 5.3077 ,  1.8396 ],\n",
       "       [ 7.4239 ,  4.2885 ],\n",
       "       [ 7.6031 ,  4.9981 ],\n",
       "       [ 6.3328 ,  1.4233 ],\n",
       "       [ 6.3589 , -1.4211 ],\n",
       "       [ 6.2742 ,  2.4756 ],\n",
       "       [ 5.6397 ,  4.6042 ],\n",
       "       [ 9.3102 ,  3.9624 ],\n",
       "       [ 9.4536 ,  5.4141 ],\n",
       "       [ 8.8254 ,  5.1694 ],\n",
       "       [ 5.1793 , -0.74279],\n",
       "       [21.279  , 17.929  ],\n",
       "       [14.908  , 12.054  ],\n",
       "       [18.959  , 17.054  ],\n",
       "       [ 7.2182 ,  4.8852 ],\n",
       "       [ 8.2951 ,  5.7442 ],\n",
       "       [10.236  ,  7.7754 ],\n",
       "       [ 5.4994 ,  1.0173 ],\n",
       "       [20.341  , 20.992  ],\n",
       "       [10.136  ,  6.6799 ],\n",
       "       [ 7.3345 ,  4.0259 ],\n",
       "       [ 6.0062 ,  1.2784 ],\n",
       "       [ 7.2259 ,  3.3411 ],\n",
       "       [ 5.0269 , -2.6807 ],\n",
       "       [ 6.5479 ,  0.29678],\n",
       "       [ 7.5386 ,  3.8845 ],\n",
       "       [ 5.0365 ,  5.7014 ],\n",
       "       [10.274  ,  6.7526 ],\n",
       "       [ 5.1077 ,  2.0576 ],\n",
       "       [ 5.7292 ,  0.47953],\n",
       "       [ 5.1884 ,  0.20421],\n",
       "       [ 6.3557 ,  0.67861],\n",
       "       [ 9.7687 ,  7.5435 ],\n",
       "       [ 6.5159 ,  5.3436 ],\n",
       "       [ 8.5172 ,  4.2415 ],\n",
       "       [ 9.1802 ,  6.7981 ],\n",
       "       [ 6.002  ,  0.92695],\n",
       "       [ 5.5204 ,  0.152  ],\n",
       "       [ 5.0594 ,  2.8214 ],\n",
       "       [ 5.7077 ,  1.8451 ],\n",
       "       [ 7.6366 ,  4.2959 ],\n",
       "       [ 5.8707 ,  7.2029 ],\n",
       "       [ 5.3054 ,  1.9869 ],\n",
       "       [ 8.2934 ,  0.14454],\n",
       "       [13.394  ,  9.0551 ],\n",
       "       [ 5.4369 ,  0.61705]])"
      ]
     },
     "execution_count": 4,
     "metadata": {},
     "output_type": "execute_result"
    }
   ],
   "source": [
    "ds1"
   ]
  },
  {
   "cell_type": "code",
   "execution_count": 5,
   "metadata": {},
   "outputs": [],
   "source": [
    "def normalEqn(arr):\n",
    "    \n",
    "    r=arr.shape[0]\n",
    "    c=arr.shape[1]\n",
    "    \n",
    "    d1=arr[:,c-1]\n",
    "    \n",
    "    one1=np.ones((r,1))\n",
    "    arr=np.concatenate((one1,arr),axis=1)\n",
    "    \n",
    "    t_t=arr[:,0:c].transpose()\n",
    "    t_c=arr[:,0:c]\n",
    "    a1=inv(np.dot(t_t,t_c))\n",
    "    b1=np.dot(a1,t_t)\n",
    "    theta=np.dot(b1,d1)\n",
    "    return theta"
   ]
  },
  {
   "cell_type": "code",
   "execution_count": null,
   "metadata": {},
   "outputs": [],
   "source": []
  },
  {
   "cell_type": "code",
   "execution_count": 6,
   "metadata": {},
   "outputs": [
    {
     "name": "stdout",
     "output_type": "stream",
     "text": [
      "[89597.9095428    139.21067402 -8738.01911233]\n"
     ]
    }
   ],
   "source": [
    "theta1=normalEqn(ds1)\n",
    "theta2=normalEqn(ds2)\n",
    "print(theta2)"
   ]
  },
  {
   "cell_type": "code",
   "execution_count": 7,
   "metadata": {},
   "outputs": [
    {
     "data": {
      "text/plain": [
       "array([[2.10400e+03, 3.00000e+00, 3.99900e+05],\n",
       "       [1.60000e+03, 3.00000e+00, 3.29900e+05],\n",
       "       [2.40000e+03, 3.00000e+00, 3.69000e+05],\n",
       "       [1.41600e+03, 2.00000e+00, 2.32000e+05],\n",
       "       [3.00000e+03, 4.00000e+00, 5.39900e+05],\n",
       "       [1.98500e+03, 4.00000e+00, 2.99900e+05],\n",
       "       [1.53400e+03, 3.00000e+00, 3.14900e+05],\n",
       "       [1.42700e+03, 3.00000e+00, 1.98999e+05],\n",
       "       [1.38000e+03, 3.00000e+00, 2.12000e+05],\n",
       "       [1.49400e+03, 3.00000e+00, 2.42500e+05],\n",
       "       [1.94000e+03, 4.00000e+00, 2.39999e+05],\n",
       "       [2.00000e+03, 3.00000e+00, 3.47000e+05],\n",
       "       [1.89000e+03, 3.00000e+00, 3.29999e+05],\n",
       "       [4.47800e+03, 5.00000e+00, 6.99900e+05],\n",
       "       [1.26800e+03, 3.00000e+00, 2.59900e+05],\n",
       "       [2.30000e+03, 4.00000e+00, 4.49900e+05],\n",
       "       [1.32000e+03, 2.00000e+00, 2.99900e+05],\n",
       "       [1.23600e+03, 3.00000e+00, 1.99900e+05],\n",
       "       [2.60900e+03, 4.00000e+00, 4.99998e+05],\n",
       "       [3.03100e+03, 4.00000e+00, 5.99000e+05],\n",
       "       [1.76700e+03, 3.00000e+00, 2.52900e+05],\n",
       "       [1.88800e+03, 2.00000e+00, 2.55000e+05],\n",
       "       [1.60400e+03, 3.00000e+00, 2.42900e+05],\n",
       "       [1.96200e+03, 4.00000e+00, 2.59900e+05],\n",
       "       [3.89000e+03, 3.00000e+00, 5.73900e+05],\n",
       "       [1.10000e+03, 3.00000e+00, 2.49900e+05],\n",
       "       [1.45800e+03, 3.00000e+00, 4.64500e+05],\n",
       "       [2.52600e+03, 3.00000e+00, 4.69000e+05],\n",
       "       [2.20000e+03, 3.00000e+00, 4.75000e+05],\n",
       "       [2.63700e+03, 3.00000e+00, 2.99900e+05],\n",
       "       [1.83900e+03, 2.00000e+00, 3.49900e+05],\n",
       "       [1.00000e+03, 1.00000e+00, 1.69900e+05],\n",
       "       [2.04000e+03, 4.00000e+00, 3.14900e+05],\n",
       "       [3.13700e+03, 3.00000e+00, 5.79900e+05],\n",
       "       [1.81100e+03, 4.00000e+00, 2.85900e+05],\n",
       "       [1.43700e+03, 3.00000e+00, 2.49900e+05],\n",
       "       [1.23900e+03, 3.00000e+00, 2.29900e+05],\n",
       "       [2.13200e+03, 4.00000e+00, 3.45000e+05],\n",
       "       [4.21500e+03, 4.00000e+00, 5.49000e+05],\n",
       "       [2.16200e+03, 4.00000e+00, 2.87000e+05],\n",
       "       [1.66400e+03, 2.00000e+00, 3.68500e+05],\n",
       "       [2.23800e+03, 3.00000e+00, 3.29900e+05],\n",
       "       [2.56700e+03, 4.00000e+00, 3.14000e+05],\n",
       "       [1.20000e+03, 3.00000e+00, 2.99000e+05],\n",
       "       [8.52000e+02, 2.00000e+00, 1.79900e+05],\n",
       "       [1.85200e+03, 4.00000e+00, 2.99900e+05],\n",
       "       [1.20300e+03, 3.00000e+00, 2.39500e+05]])"
      ]
     },
     "execution_count": 7,
     "metadata": {},
     "output_type": "execute_result"
    }
   ],
   "source": [
    "ds1\n",
    "ds2"
   ]
  },
  {
   "cell_type": "code",
   "execution_count": 8,
   "metadata": {},
   "outputs": [],
   "source": [
    "def computeCost(theta,arr):\n",
    "    r=arr.shape[0]\n",
    "    c=arr.shape[1]\n",
    "    \n",
    "    \n",
    "    \n",
    "    one1=np.ones((r,1))\n",
    "    arr=np.concatenate((one1,arr),axis=1)\n",
    "    theta_t=theta.transpose()\n",
    "    cost=np.dot(arr[:,0:c],theta_t)\n",
    "    return cost"
   ]
  },
  {
   "cell_type": "code",
   "execution_count": 9,
   "metadata": {},
   "outputs": [],
   "source": [
    "def computeCostMulti(theta,arr):\n",
    "    r=arr.shape[0]\n",
    "    c=arr.shape[1] \n",
    "    one1=np.ones((r,1))\n",
    "    arr=np.concatenate((one1,arr),axis=1)\n",
    "    theta_t=theta.transpose()\n",
    "    cost=np.dot(arr[:,0:c],theta_t)\n",
    "    return cost"
   ]
  },
  {
   "cell_type": "code",
   "execution_count": 10,
   "metadata": {},
   "outputs": [],
   "source": [
    "cost1=computeCost(theta1,ds1)\n",
    "cost2=computeCostMulti(theta2,ds2)"
   ]
  },
  {
   "cell_type": "code",
   "execution_count": 11,
   "metadata": {},
   "outputs": [
    {
     "name": "stdout",
     "output_type": "stream",
     "text": [
      "[ 3.39377399  2.6989512   6.26719552  4.45927234  3.09515767  6.10530086\n",
      "  5.02381586  6.33818102  3.84247394  2.13452698  2.91727635 13.00234766\n",
      "  2.94507404  6.13572322  2.833764    2.52202431  3.69835548  2.22460102\n",
      "  3.77494824  4.53992141  3.48802365 20.28701109  2.65409313  3.65146926\n",
      "  2.74333205 18.70624151 11.40845471  9.17628876 11.82363042 22.59314512\n",
      "  2.37050903  3.96559502  7.13763287  3.13333475  5.90033768  5.56903223\n",
      "  5.7629002   2.79272364 11.41799898  3.68403908  2.55483273  4.31527318\n",
      " 10.07225703  2.99243747  5.43934948  4.56652606  2.1531383   3.02548451\n",
      " 10.06271276  2.71553436  5.09993141  2.43648379  4.96118159  5.17497322\n",
      "  3.65946258  3.69060076  3.58955081  2.83257096  7.21160096  7.38268198\n",
      "  6.63321825  2.28329828 21.49078204 13.88996469 18.72294398  4.71577457\n",
      "  6.0005525   8.3161115   2.66518834 20.37171648  8.19680814  4.85452438\n",
      "  3.2698178   4.72496093  2.10147995  3.91608412  5.09802255  2.11293307\n",
      "  8.36144678  2.19787707  2.93934748  2.29415488  3.68678305  7.75860688\n",
      "  3.87790704  6.26552528  7.05650658  3.26480705  2.69024205  2.14025354\n",
      "  2.91369725  5.21493985  3.10816174  2.43373982  5.99852435 12.08371175\n",
      "  2.59062374]\n",
      "[356283.1103389  286120.93063401 397489.46984811 269244.1857271\n",
      " 472277.85514636 330979.02101847 276933.02614885 262037.48402896\n",
      " 255494.58235014 271364.59918814 324714.54068768 341805.20024106\n",
      " 326492.02609912 669293.21223208 239902.98686016 374830.38333402\n",
      " 255879.96102141 235448.2452916  417846.48160547 476593.38604091\n",
      " 309369.11319496 334951.62386342 286677.77333008 327777.17551607\n",
      " 604913.37413438 216515.5936252  266353.01492351 415030.01477433\n",
      " 369647.33504459 430482.39959029 328130.30083655 220070.56444809\n",
      " 338635.60808944 500087.7365991  306756.3637394  263429.59076914\n",
      " 235865.87731365 351442.99009906 641418.82407778 355619.31031959\n",
      " 303768.43288347 374937.34065726 411999.63329673 230436.66102696\n",
      " 190729.36558116 312464.00137413 230854.29304902]\n"
     ]
    }
   ],
   "source": [
    "print(cost1)\n",
    "print(cost2)"
   ]
  },
  {
   "cell_type": "code",
   "execution_count": 12,
   "metadata": {},
   "outputs": [
    {
     "name": "stdout",
     "output_type": "stream",
     "text": [
      "2\n"
     ]
    },
    {
     "data": {
      "image/png": "[encoded data removed]",
      "text/plain": [
       "<Figure size 432x288 with 1 Axes>"
      ]
     },
     "metadata": {
      "needs_background": "light"
     },
     "output_type": "display_data"
    }
   ],
   "source": [
    "r=ds1.shape[0]\n",
    "c=ds1.shape[1]\n",
    "print (c)\n",
    "plt.scatter(ds1[:,0],ds1[:,1])\n",
    "plt.plot(ds1[:,0],cost1,'r')\n",
    "plt.show()"
   ]
  },
  {
   "cell_type": "code",
   "execution_count": null,
   "metadata": {},
   "outputs": [],
   "source": []
  },
  {
   "cell_type": "code",
   "execution_count": 13,
   "metadata": {},
   "outputs": [],
   "source": [
    "def featureNormalize(arr):\n",
    "    c=arr.shape[1]\n",
    "    for i in range(0,c):\n",
    "        rng=max(arr[:,i])-min(arr[:,i])\n",
    "        arr[:,i]=arr[:,i]/rng\n",
    "    return arr\n",
    "    "
   ]
  },
  {
   "cell_type": "code",
   "execution_count": 21,
   "metadata": {},
   "outputs": [],
   "source": [
    "r1=ds1.shape[0]\n",
    "c1=ds1.shape[1] \n",
    "one1=np.ones((r1,1))\n",
    "ds_1=featureNormalize(ds1[:,0:c1])\n",
    "ds_1n=np.concatenate((one1,ds_1),axis=1)\n",
    "r2=ds2.shape[0]\n",
    "c2=ds2.shape[1] \n",
    "one2=np.ones((r2,1))\n",
    "ds_2=featureNormalize(ds2[:,0:c2])\n",
    "ds_2n=np.concatenate((one2,ds_2),axis=1)\n",
    "\n",
    "x1=ds_1n[:,0:c1+1]\n",
    "x2=ds_2n[:,0:c2+1]\n",
    "y1=ds_1n[:,c1]\n",
    "y2=ds_2n[:,c2]"
   ]
  },
  {
   "cell_type": "code",
   "execution_count": 25,
   "metadata": {},
   "outputs": [],
   "source": [
    "def gradientMulti(X_norm,y,theta,alpha,m,n):\n",
    "    temp=np.array(np.zeros_like(theta,float))\n",
    "    h=computeCost(theta,X_norm)\n",
    "    while(j>0.01):\n",
    "        for i in range(0,n):\n",
    "            temp[i]=theta[i]-(alpha/m)*(np.sum((h-y)*X_norm[:,i]))\n",
    "        theta=temp\n",
    "        h=computeCost(theta,X_norm)\n",
    "        j=(1/(2*m))*np.sum(np.square(h-y))  \n",
    "    return theta"
   ]
  },
  {
   "cell_type": "code",
   "execution_count": 26,
   "metadata": {},
   "outputs": [],
   "source": [
    "def gradient(X_norm,y,theta,alpha,m,n,num_it):\n",
    "    temp=np.array(np.zeros_like(theta,float))\n",
    "    h=computeCost(theta,X_norm)\n",
    "    while(j>0.01):\n",
    "        temp[0]=theta[0]-(alpha/m)*(np.sum(h-y))\n",
    "        temp[1]=theta[1]-(alpha/m)*(np.sum((h-y)*X_norm[:,1]))\n",
    "        theta=temp\n",
    "        h=computeCost(theta,X_norm)\n",
    "        j=(1/(2*m))*np.sum(np.square(h-y))\n",
    "    return theta"
   ]
  },
  {
   "cell_type": "code",
   "execution_count": null,
   "metadata": {},
   "outputs": [],
   "source": []
  }
 ],
 "metadata": {
  "kernelspec": {
   "display_name": "Python 3",
   "language": "python",
   "name": "python3"
  },
  "language_info": {
   "codemirror_mode": {
    "name": "ipython",
    "version": 3
   },
   "file_extension": ".py",
   "mimetype": "text/x-python",
   "name": "python",
   "nbconvert_exporter": "python",
   "pygments_lexer": "ipython3",
   "version": "3.7.4"
  }
 },
 "nbformat": 4,
 "nbformat_minor": 2
}
