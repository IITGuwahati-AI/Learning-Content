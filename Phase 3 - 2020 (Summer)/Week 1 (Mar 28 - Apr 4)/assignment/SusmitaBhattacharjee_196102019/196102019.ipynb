{
  "nbformat": 4,
  "nbformat_minor": 0,
  "metadata": {
    "colab": {
      "name": "196102019.ipynb",
      "provenance": []
    },
    "kernelspec": {
      "name": "python3",
      "display_name": "Python 3"
    }
  },
  "cells": [
    {
      "cell_type": "code",
      "metadata": {
        "id": "-BXIwi8N2Npx",
        "colab_type": "code",
        "outputId": "841bd7e8-097f-4b2f-d9cf-bdc9661c70dc",
        "colab": {
          "base_uri": "https://localhost:8080/",
          "height": 145
        }
      },
      "source": [
        "import numpy as np\n",
        "import pandas as pd\n",
        "import matplotlib.pyplot as plt\n",
        "from itertools import combinations \n",
        "url='https://raw.githubusercontent.com/susmitabhatt/Learning-Content/master/Phase%203%20-%202020%20(Summer)/Week%201%20(Mar%2028%20-%20Apr%204)/assignment/data.txt'\n",
        "a = np.genfromtxt(url, delimiter = '', skip_header = 1)\n",
        "print(a)\n",
        "print(type(a.shape))\n",
        "labels = a[:,0]\n",
        "print(a.shape)\n",
        "x1=a[:,1]\n",
        "x2=a[:,2]\n",
        "\n",
        "\n",
        "# Get all combinations of [2, 1, 3] \n",
        "# and length 2 \n",
        "x=[1,2,3,4,5,6,7,8,9,10]\n",
        "comb = combinations(x, 2)\n",
        "\n",
        "# Print the obtained combinations \n",
        "count=0\n",
        "for j in comb: \n",
        "    print(j) \n",
        "    count+=1\n",
        "print(count)\n",
        "    for i in range(a.shape[0]):\n",
        "        if labels[i]==2:\n",
        "            plt.plot(a(:,i), 'bo--')\n",
        "        else:\n",
        "            plt.plot(a(:,i), 'ro--')\n",
        "    plt.show()"
      ],
      "execution_count": 0,
      "outputs": [
        {
          "output_type": "error",
          "ename": "IndentationError",
          "evalue": "ignored",
          "traceback": [
            "\u001b[0;36m  File \u001b[0;32m\"<ipython-input-33-19520fbdf5d0>\"\u001b[0;36m, line \u001b[0;32m26\u001b[0m\n\u001b[0;31m    for i in range(a.shape[0]):\u001b[0m\n\u001b[0m    ^\u001b[0m\n\u001b[0;31mIndentationError\u001b[0m\u001b[0;31m:\u001b[0m unexpected indent\n"
          ]
        },
        {
          "output_type": "stream",
          "text": [
            "ERROR! Session/line number was not unique in database. History logging moved to new session 64\n"
          ],
          "name": "stdout"
        }
      ]
    }
  ]
}