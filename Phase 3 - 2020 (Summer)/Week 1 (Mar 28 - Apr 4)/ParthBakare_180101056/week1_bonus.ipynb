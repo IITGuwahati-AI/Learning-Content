{
 "cells": [
  {
   "cell_type": "code",
   "execution_count": 32,
   "metadata": {},
   "outputs": [
    {
     "name": "stdout",
     "output_type": "stream",
     "text": [
      "Best features : 3, 8\n"
     ]
    }
   ],
   "source": [
    "import numpy as np\n",
    "from matplotlib import pyplot as plt\n",
    "from sklearn.decomposition import PCA\n",
    "from sklearn.preprocessing import StandardScaler\n",
    "\n",
    "data = np.loadtxt('data.txt', delimiter='\\t', skiprows=1)\n",
    "\n",
    "max1a = 0\n",
    "max1b = 0\n",
    "max2a = 0\n",
    "max2b = 0\n",
    "\n",
    "max1 = 0\n",
    "max2 = 0\n",
    "\n",
    "for a in range(1, 11):\n",
    "    for b in range(a+1, 11):\n",
    "        \n",
    "        x1=[]\n",
    "        \n",
    "        x2=[]\n",
    "        \n",
    "        for k in range(0, data.shape[0]):\n",
    "            if data[k][0] == np.float64(1):\n",
    "                x1.append([data[k][a], data[k][b]])\n",
    "                \n",
    "            else:\n",
    "                x2.append([data[k][a], data[k][b]])\n",
    "        \n",
    "        x1 = StandardScaler().fit_transform(x1)\n",
    "        pca = PCA(n_components=1)\n",
    "        principalComponents1 = pca.fit_transform(x1)\n",
    "        #print(\"{}, {}\".format(a, b))\n",
    "        #print(pca.explained_variance_ratio_)\n",
    "        #print(x1)\n",
    "        #print(principalComponents1)\n",
    "        \n",
    "        if(pca.explained_variance_ratio_ > max1):\n",
    "            max1a = a\n",
    "            max1b = b\n",
    "            max1 = pca.explained_variance_ratio_\n",
    "        \n",
    "        x2 = StandardScaler().fit_transform(x2)\n",
    "        pca = PCA(n_components=1)\n",
    "        principalComponents1 = pca.fit_transform(x2)\n",
    "        #print(\"{}, {}\".format(a, b))\n",
    "        #print(pca.explained_variance_ratio_)\n",
    "        #print(x1)\n",
    "        #print(principalComponents1)\n",
    "        \n",
    "        if(pca.explained_variance_ratio_ > max2):\n",
    "            max2a = a\n",
    "            max2b = b\n",
    "            max2 = pca.explained_variance_ratio_\n",
    "            \n",
    "print(\"Best features : {}, {}\".format(max1a, max1b))"
   ]
  }
 ],
 "metadata": {
  "kernelspec": {
   "display_name": "Python 3",
   "language": "python",
   "name": "python3"
  },
  "language_info": {
   "codemirror_mode": {
    "name": "ipython",
    "version": 3
   },
   "file_extension": ".py",
   "mimetype": "text/x-python",
   "name": "python",
   "nbconvert_exporter": "python",
   "pygments_lexer": "ipython3",
   "version": "3.7.3"
  }
 },
 "nbformat": 4,
 "nbformat_minor": 4
}
