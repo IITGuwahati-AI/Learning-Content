{
 "cells": [
  {
   "cell_type": "code",
   "execution_count": 1,
   "metadata": {},
   "outputs": [
    {
     "name": "stdout",
     "output_type": "stream",
     "text": [
      "[[ 2.          3.201       5.77470148 ... -0.08273688 -0.31659793\n",
      "   8.9705947 ]\n",
      " [ 1.          1.066       0.51969346 ... -0.05726641  0.12953615\n",
      "   6.40681803]\n",
      " [ 2.          1.395       6.18460515 ... -0.21614335  0.6549017\n",
      "  17.42562827]\n",
      " ...\n",
      " [ 1.          0.854       0.97744937 ... -0.14189873  0.35539943\n",
      "   0.06023684]\n",
      " [ 1.          0.03        0.09371179 ... -0.13902791  0.49674919\n",
      "   0.07933982]\n",
      " [ 2.          3.881       5.77286718 ...  0.84925859 -0.92115962\n",
      "  17.13040574]]\n"
     ]
    }
   ],
   "source": [
    "import numpy as np\n",
    "\n",
    "data = np.loadtxt('data.txt', delimiter='\\t', skiprows=1)\n",
    "\n",
    "print(data)"
   ]
  },
  {
   "cell_type": "code",
   "execution_count": null,
   "metadata": {},
   "outputs": [],
   "source": []
  }
 ],
 "metadata": {
  "kernelspec": {
   "display_name": "Python 3",
   "language": "python",
   "name": "python3"
  },
  "language_info": {
   "codemirror_mode": {
    "name": "ipython",
    "version": 3
   },
   "file_extension": ".py",
   "mimetype": "text/x-python",
   "name": "python",
   "nbconvert_exporter": "python",
   "pygments_lexer": "ipython3",
   "version": "3.7.3"
  }
 },
 "nbformat": 4,
 "nbformat_minor": 4
}
