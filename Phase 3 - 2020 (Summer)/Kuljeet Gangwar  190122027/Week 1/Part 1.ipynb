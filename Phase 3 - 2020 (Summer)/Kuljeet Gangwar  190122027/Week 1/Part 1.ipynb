{
 "cells": [
  {
   "cell_type": "code",
   "execution_count": 1,
   "metadata": {},
   "outputs": [],
   "source": [
    "import numpy as np\n"
   ]
  },
  {
   "cell_type": "code",
   "execution_count": 2,
   "metadata": {},
   "outputs": [],
   "source": [
    "filename = 'data.txt'"
   ]
  },
  {
   "cell_type": "code",
   "execution_count": 3,
   "metadata": {},
   "outputs": [],
   "source": [
    "data = np.loadtxt(filename, skiprows = 1)"
   ]
  },
  {
   "cell_type": "code",
   "execution_count": 4,
   "metadata": {},
   "outputs": [
    {
     "data": {
      "text/plain": [
       "array([[ 2.        ,  3.201     ,  5.77470148, ..., -0.08273688,\n",
       "        -0.31659793,  8.9705947 ],\n",
       "       [ 1.        ,  1.066     ,  0.51969346, ..., -0.05726641,\n",
       "         0.12953615,  6.40681803],\n",
       "       [ 2.        ,  1.395     ,  6.18460515, ..., -0.21614335,\n",
       "         0.6549017 , 17.42562827],\n",
       "       ...,\n",
       "       [ 1.        ,  0.854     ,  0.97744937, ..., -0.14189873,\n",
       "         0.35539943,  0.06023684],\n",
       "       [ 1.        ,  0.03      ,  0.09371179, ..., -0.13902791,\n",
       "         0.49674919,  0.07933982],\n",
       "       [ 2.        ,  3.881     ,  5.77286718, ...,  0.84925859,\n",
       "        -0.92115962, 17.13040574]])"
      ]
     },
     "execution_count": 4,
     "metadata": {},
     "output_type": "execute_result"
    }
   ],
   "source": [
    "data"
   ]
  },
  {
   "cell_type": "code",
   "execution_count": 5,
   "metadata": {},
   "outputs": [
    {
     "data": {
      "text/plain": [
       "(999, 11)"
      ]
     },
     "execution_count": 5,
     "metadata": {},
     "output_type": "execute_result"
    }
   ],
   "source": [
    "data.shape\n"
   ]
  }
 ],
 "metadata": {
  "kernelspec": {
   "display_name": "Python 3",
   "language": "python",
   "name": "python3"
  },
  "language_info": {
   "codemirror_mode": {
    "name": "ipython",
    "version": 3
   },
   "file_extension": ".py",
   "mimetype": "text/x-python",
   "name": "python",
   "nbconvert_exporter": "python",
   "pygments_lexer": "ipython3",
   "version": "3.7.7"
  }
 },
 "nbformat": 4,
 "nbformat_minor": 4
}
