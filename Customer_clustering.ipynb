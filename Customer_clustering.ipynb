{
  "nbformat": 4,
  "nbformat_minor": 0,
  "metadata": {
    "colab": {
      "name": "Welcome To Colaboratory",
      "version": "0.3.2",
      "provenance": [],
      "collapsed_sections": [],
      "include_colab_link": true
    },
    "kernelspec": {
      "display_name": "Python 3",
      "name": "python3"
    }
  },
  "cells": [
    {
      "cell_type": "markdown",
      "metadata": {
        "id": "view-in-github",
        "colab_type": "text"
      },
      "source": [
        "<a href=\"https://colab.research.google.com/github/shreyassks/Learning-Content/blob/master/Customer_clustering.ipynb\" target=\"_parent\"><img src=\"https://colab.research.google.com/assets/colab-badge.svg\" alt=\"Open In Colab\"/></a>"
      ]
    },
    {
      "cell_type": "code",
      "metadata": {
        "id": "T0RPWwL4f1Er",
        "colab_type": "code",
        "colab": {
          "base_uri": "https://localhost:8080/",
          "height": 238
        },
        "outputId": "6c9e62f2-5d14-483b-9aea-95af099bed32"
      },
      "source": [
        "import pandas as pd\n",
        "import numpy as np\n",
        "\n",
        "df = pd.read_csv(\"data.csv\", encoding = \"ISO-8859-1\")\n",
        "df.info()"
      ],
      "execution_count": 73,
      "outputs": [
        {
          "output_type": "stream",
          "text": [
            "<class 'pandas.core.frame.DataFrame'>\n",
            "RangeIndex: 541909 entries, 0 to 541908\n",
            "Data columns (total 8 columns):\n",
            "InvoiceNo      541909 non-null object\n",
            "StockCode      541909 non-null object\n",
            "Description    540455 non-null object\n",
            "Quantity       541909 non-null int64\n",
            "InvoiceDate    541909 non-null object\n",
            "UnitPrice      541909 non-null float64\n",
            "CustomerID     406829 non-null float64\n",
            "Country        541909 non-null object\n",
            "dtypes: float64(2), int64(1), object(5)\n",
            "memory usage: 33.1+ MB\n"
          ],
          "name": "stdout"
        }
      ]
    },
    {
      "cell_type": "code",
      "metadata": {
        "id": "NMlHgtlkgUVL",
        "colab_type": "code",
        "colab": {
          "base_uri": "https://localhost:8080/",
          "height": 204
        },
        "outputId": "a284f3a7-e1a8-439c-a496-83062577eb68"
      },
      "source": [
        "df.head(5)"
      ],
      "execution_count": 74,
      "outputs": [
        {
          "output_type": "execute_result",
          "data": {
            "text/html": [
              "<div>\n",
              "<style scoped>\n",
              "    .dataframe tbody tr th:only-of-type {\n",
              "        vertical-align: middle;\n",
              "    }\n",
              "\n",
              "    .dataframe tbody tr th {\n",
              "        vertical-align: top;\n",
              "    }\n",
              "\n",
              "    .dataframe thead th {\n",
              "        text-align: right;\n",
              "    }\n",
              "</style>\n",
              "<table border=\"1\" class=\"dataframe\">\n",
              "  <thead>\n",
              "    <tr style=\"text-align: right;\">\n",
              "      <th></th>\n",
              "      <th>InvoiceNo</th>\n",
              "      <th>StockCode</th>\n",
              "      <th>Description</th>\n",
              "      <th>Quantity</th>\n",
              "      <th>InvoiceDate</th>\n",
              "      <th>UnitPrice</th>\n",
              "      <th>CustomerID</th>\n",
              "      <th>Country</th>\n",
              "    </tr>\n",
              "  </thead>\n",
              "  <tbody>\n",
              "    <tr>\n",
              "      <th>0</th>\n",
              "      <td>536365</td>\n",
              "      <td>85123A</td>\n",
              "      <td>WHITE HANGING HEART T-LIGHT HOLDER</td>\n",
              "      <td>6</td>\n",
              "      <td>12/1/2010 8:26</td>\n",
              "      <td>2.55</td>\n",
              "      <td>17850.0</td>\n",
              "      <td>United Kingdom</td>\n",
              "    </tr>\n",
              "    <tr>\n",
              "      <th>1</th>\n",
              "      <td>536365</td>\n",
              "      <td>71053</td>\n",
              "      <td>WHITE METAL LANTERN</td>\n",
              "      <td>6</td>\n",
              "      <td>12/1/2010 8:26</td>\n",
              "      <td>3.39</td>\n",
              "      <td>17850.0</td>\n",
              "      <td>United Kingdom</td>\n",
              "    </tr>\n",
              "    <tr>\n",
              "      <th>2</th>\n",
              "      <td>536365</td>\n",
              "      <td>84406B</td>\n",
              "      <td>CREAM CUPID HEARTS COAT HANGER</td>\n",
              "      <td>8</td>\n",
              "      <td>12/1/2010 8:26</td>\n",
              "      <td>2.75</td>\n",
              "      <td>17850.0</td>\n",
              "      <td>United Kingdom</td>\n",
              "    </tr>\n",
              "    <tr>\n",
              "      <th>3</th>\n",
              "      <td>536365</td>\n",
              "      <td>84029G</td>\n",
              "      <td>KNITTED UNION FLAG HOT WATER BOTTLE</td>\n",
              "      <td>6</td>\n",
              "      <td>12/1/2010 8:26</td>\n",
              "      <td>3.39</td>\n",
              "      <td>17850.0</td>\n",
              "      <td>United Kingdom</td>\n",
              "    </tr>\n",
              "    <tr>\n",
              "      <th>4</th>\n",
              "      <td>536365</td>\n",
              "      <td>84029E</td>\n",
              "      <td>RED WOOLLY HOTTIE WHITE HEART.</td>\n",
              "      <td>6</td>\n",
              "      <td>12/1/2010 8:26</td>\n",
              "      <td>3.39</td>\n",
              "      <td>17850.0</td>\n",
              "      <td>United Kingdom</td>\n",
              "    </tr>\n",
              "  </tbody>\n",
              "</table>\n",
              "</div>"
            ],
            "text/plain": [
              "  InvoiceNo StockCode  ... CustomerID         Country\n",
              "0    536365    85123A  ...    17850.0  United Kingdom\n",
              "1    536365     71053  ...    17850.0  United Kingdom\n",
              "2    536365    84406B  ...    17850.0  United Kingdom\n",
              "3    536365    84029G  ...    17850.0  United Kingdom\n",
              "4    536365    84029E  ...    17850.0  United Kingdom\n",
              "\n",
              "[5 rows x 8 columns]"
            ]
          },
          "metadata": {
            "tags": []
          },
          "execution_count": 74
        }
      ]
    },
    {
      "cell_type": "code",
      "metadata": {
        "id": "bdCcMd0ZgYXa",
        "colab_type": "code",
        "colab": {
          "base_uri": "https://localhost:8080/",
          "height": 170
        },
        "outputId": "1fa25e6a-5114-4346-8f14-09a056b644a9"
      },
      "source": [
        "df.dtypes"
      ],
      "execution_count": 75,
      "outputs": [
        {
          "output_type": "execute_result",
          "data": {
            "text/plain": [
              "InvoiceNo       object\n",
              "StockCode       object\n",
              "Description     object\n",
              "Quantity         int64\n",
              "InvoiceDate     object\n",
              "UnitPrice      float64\n",
              "CustomerID     float64\n",
              "Country         object\n",
              "dtype: object"
            ]
          },
          "metadata": {
            "tags": []
          },
          "execution_count": 75
        }
      ]
    },
    {
      "cell_type": "code",
      "metadata": {
        "id": "S9mWQljFge0A",
        "colab_type": "code",
        "colab": {
          "base_uri": "https://localhost:8080/",
          "height": 170
        },
        "outputId": "8f42f7e5-42ff-4c8c-82cd-933a132dcf67"
      },
      "source": [
        "df.isna().sum()"
      ],
      "execution_count": 76,
      "outputs": [
        {
          "output_type": "execute_result",
          "data": {
            "text/plain": [
              "InvoiceNo           0\n",
              "StockCode           0\n",
              "Description      1454\n",
              "Quantity            0\n",
              "InvoiceDate         0\n",
              "UnitPrice           0\n",
              "CustomerID     135080\n",
              "Country             0\n",
              "dtype: int64"
            ]
          },
          "metadata": {
            "tags": []
          },
          "execution_count": 76
        }
      ]
    },
    {
      "cell_type": "code",
      "metadata": {
        "id": "lI78KxINgsmf",
        "colab_type": "code",
        "colab": {
          "base_uri": "https://localhost:8080/",
          "height": 34
        },
        "outputId": "c4252e9c-9bbf-429f-d7ba-b77c937f0511"
      },
      "source": [
        "df.shape"
      ],
      "execution_count": 77,
      "outputs": [
        {
          "output_type": "execute_result",
          "data": {
            "text/plain": [
              "(541909, 8)"
            ]
          },
          "metadata": {
            "tags": []
          },
          "execution_count": 77
        }
      ]
    },
    {
      "cell_type": "code",
      "metadata": {
        "id": "x69SwyJkiEFt",
        "colab_type": "code",
        "colab": {}
      },
      "source": [
        "df.dropna(axis = 0, subset = ['CustomerID'], inplace = True)"
      ],
      "execution_count": 0,
      "outputs": []
    },
    {
      "cell_type": "code",
      "metadata": {
        "id": "ebAysI04inDD",
        "colab_type": "code",
        "colab": {
          "base_uri": "https://localhost:8080/",
          "height": 34
        },
        "outputId": "8844f352-78d4-4926-b4b7-22b637807c7b"
      },
      "source": [
        "df.shape"
      ],
      "execution_count": 79,
      "outputs": [
        {
          "output_type": "execute_result",
          "data": {
            "text/plain": [
              "(406829, 8)"
            ]
          },
          "metadata": {
            "tags": []
          },
          "execution_count": 79
        }
      ]
    },
    {
      "cell_type": "code",
      "metadata": {
        "id": "U_IdFd7tiprO",
        "colab_type": "code",
        "colab": {
          "base_uri": "https://localhost:8080/",
          "height": 34
        },
        "outputId": "612bc44e-87e8-4ead-ef18-ee5aab8cd66d"
      },
      "source": [
        "df.drop_duplicates(inplace = True)\n",
        "df.shape"
      ],
      "execution_count": 80,
      "outputs": [
        {
          "output_type": "execute_result",
          "data": {
            "text/plain": [
              "(401604, 8)"
            ]
          },
          "metadata": {
            "tags": []
          },
          "execution_count": 80
        }
      ]
    },
    {
      "cell_type": "code",
      "metadata": {
        "id": "Q-FTh2IyztUK",
        "colab_type": "code",
        "colab": {
          "base_uri": "https://localhost:8080/",
          "height": 34
        },
        "outputId": "39a19b7a-18eb-4d3c-b9b6-f429aa77219b"
      },
      "source": [
        "df = df[(df.InvoiceNo).apply(lambda x:( 'C' not in x))]\n",
        "df.shape    #(392732, 8)"
      ],
      "execution_count": 81,
      "outputs": [
        {
          "output_type": "execute_result",
          "data": {
            "text/plain": [
              "(392732, 8)"
            ]
          },
          "metadata": {
            "tags": []
          },
          "execution_count": 81
        }
      ]
    },
    {
      "cell_type": "code",
      "metadata": {
        "id": "DCxj1UKBjYy4",
        "colab_type": "code",
        "colab": {
          "base_uri": "https://localhost:8080/",
          "height": 663
        },
        "outputId": "d384a0da-e4ce-4c5e-bece-760468fa29f1"
      },
      "source": [
        "df.Country.value_counts()"
      ],
      "execution_count": 82,
      "outputs": [
        {
          "output_type": "execute_result",
          "data": {
            "text/plain": [
              "United Kingdom          349227\n",
              "Germany                   9027\n",
              "France                    8327\n",
              "EIRE                      7228\n",
              "Spain                     2480\n",
              "Netherlands               2363\n",
              "Belgium                   2031\n",
              "Switzerland               1842\n",
              "Portugal                  1453\n",
              "Australia                 1184\n",
              "Norway                    1072\n",
              "Italy                      758\n",
              "Channel Islands            747\n",
              "Finland                    685\n",
              "Cyprus                     603\n",
              "Sweden                     450\n",
              "Austria                    398\n",
              "Denmark                    380\n",
              "Poland                     330\n",
              "Japan                      321\n",
              "Israel                     245\n",
              "Unspecified                241\n",
              "Singapore                  222\n",
              "Iceland                    182\n",
              "USA                        179\n",
              "Canada                     151\n",
              "Greece                     145\n",
              "Malta                      112\n",
              "United Arab Emirates        68\n",
              "European Community          60\n",
              "RSA                         58\n",
              "Lebanon                     45\n",
              "Lithuania                   35\n",
              "Brazil                      32\n",
              "Czech Republic              25\n",
              "Bahrain                     17\n",
              "Saudi Arabia                 9\n",
              "Name: Country, dtype: int64"
            ]
          },
          "metadata": {
            "tags": []
          },
          "execution_count": 82
        }
      ]
    },
    {
      "cell_type": "code",
      "metadata": {
        "id": "OUcEgBFwj3KV",
        "colab_type": "code",
        "colab": {
          "base_uri": "https://localhost:8080/",
          "height": 34
        },
        "outputId": "d0271d04-829d-421a-ad39-076816028021"
      },
      "source": [
        "df.drop(['InvoiceNo','Description','StockCode','InvoiceDate','Country'],axis = 1,inplace = True)\n",
        "df.shape"
      ],
      "execution_count": 83,
      "outputs": [
        {
          "output_type": "execute_result",
          "data": {
            "text/plain": [
              "(392732, 3)"
            ]
          },
          "metadata": {
            "tags": []
          },
          "execution_count": 83
        }
      ]
    },
    {
      "cell_type": "code",
      "metadata": {
        "id": "P5L1Q9BflfK-",
        "colab_type": "code",
        "colab": {
          "base_uri": "https://localhost:8080/",
          "height": 34
        },
        "outputId": "a7c5c550-6ab6-48e0-f6fe-60b142fdac1f"
      },
      "source": [
        "k = df['UnitPrice'].groupby(df['CustomerID'])\n",
        "len(list(k))"
      ],
      "execution_count": 84,
      "outputs": [
        {
          "output_type": "execute_result",
          "data": {
            "text/plain": [
              "4339"
            ]
          },
          "metadata": {
            "tags": []
          },
          "execution_count": 84
        }
      ]
    },
    {
      "cell_type": "code",
      "metadata": {
        "id": "2fZELPrKumtC",
        "colab_type": "code",
        "colab": {
          "base_uri": "https://localhost:8080/",
          "height": 1000
        },
        "outputId": "622e0758-8b24-461e-d205-3e8acb1af0c3"
      },
      "source": [
        "j = df.groupby('CustomerID')\n",
        "j.head(5)"
      ],
      "execution_count": 85,
      "outputs": [
        {
          "output_type": "execute_result",
          "data": {
            "text/html": [
              "<div>\n",
              "<style scoped>\n",
              "    .dataframe tbody tr th:only-of-type {\n",
              "        vertical-align: middle;\n",
              "    }\n",
              "\n",
              "    .dataframe tbody tr th {\n",
              "        vertical-align: top;\n",
              "    }\n",
              "\n",
              "    .dataframe thead th {\n",
              "        text-align: right;\n",
              "    }\n",
              "</style>\n",
              "<table border=\"1\" class=\"dataframe\">\n",
              "  <thead>\n",
              "    <tr style=\"text-align: right;\">\n",
              "      <th></th>\n",
              "      <th>Quantity</th>\n",
              "      <th>UnitPrice</th>\n",
              "      <th>CustomerID</th>\n",
              "    </tr>\n",
              "  </thead>\n",
              "  <tbody>\n",
              "    <tr>\n",
              "      <th>0</th>\n",
              "      <td>6</td>\n",
              "      <td>2.55</td>\n",
              "      <td>17850.0</td>\n",
              "    </tr>\n",
              "    <tr>\n",
              "      <th>1</th>\n",
              "      <td>6</td>\n",
              "      <td>3.39</td>\n",
              "      <td>17850.0</td>\n",
              "    </tr>\n",
              "    <tr>\n",
              "      <th>2</th>\n",
              "      <td>8</td>\n",
              "      <td>2.75</td>\n",
              "      <td>17850.0</td>\n",
              "    </tr>\n",
              "    <tr>\n",
              "      <th>3</th>\n",
              "      <td>6</td>\n",
              "      <td>3.39</td>\n",
              "      <td>17850.0</td>\n",
              "    </tr>\n",
              "    <tr>\n",
              "      <th>4</th>\n",
              "      <td>6</td>\n",
              "      <td>3.39</td>\n",
              "      <td>17850.0</td>\n",
              "    </tr>\n",
              "    <tr>\n",
              "      <th>9</th>\n",
              "      <td>32</td>\n",
              "      <td>1.69</td>\n",
              "      <td>13047.0</td>\n",
              "    </tr>\n",
              "    <tr>\n",
              "      <th>10</th>\n",
              "      <td>6</td>\n",
              "      <td>2.10</td>\n",
              "      <td>13047.0</td>\n",
              "    </tr>\n",
              "    <tr>\n",
              "      <th>11</th>\n",
              "      <td>6</td>\n",
              "      <td>2.10</td>\n",
              "      <td>13047.0</td>\n",
              "    </tr>\n",
              "    <tr>\n",
              "      <th>12</th>\n",
              "      <td>8</td>\n",
              "      <td>3.75</td>\n",
              "      <td>13047.0</td>\n",
              "    </tr>\n",
              "    <tr>\n",
              "      <th>13</th>\n",
              "      <td>6</td>\n",
              "      <td>1.65</td>\n",
              "      <td>13047.0</td>\n",
              "    </tr>\n",
              "    <tr>\n",
              "      <th>26</th>\n",
              "      <td>24</td>\n",
              "      <td>3.75</td>\n",
              "      <td>12583.0</td>\n",
              "    </tr>\n",
              "    <tr>\n",
              "      <th>27</th>\n",
              "      <td>24</td>\n",
              "      <td>3.75</td>\n",
              "      <td>12583.0</td>\n",
              "    </tr>\n",
              "    <tr>\n",
              "      <th>28</th>\n",
              "      <td>12</td>\n",
              "      <td>3.75</td>\n",
              "      <td>12583.0</td>\n",
              "    </tr>\n",
              "    <tr>\n",
              "      <th>29</th>\n",
              "      <td>12</td>\n",
              "      <td>0.85</td>\n",
              "      <td>12583.0</td>\n",
              "    </tr>\n",
              "    <tr>\n",
              "      <th>30</th>\n",
              "      <td>24</td>\n",
              "      <td>0.65</td>\n",
              "      <td>12583.0</td>\n",
              "    </tr>\n",
              "    <tr>\n",
              "      <th>46</th>\n",
              "      <td>80</td>\n",
              "      <td>2.55</td>\n",
              "      <td>13748.0</td>\n",
              "    </tr>\n",
              "    <tr>\n",
              "      <th>65</th>\n",
              "      <td>32</td>\n",
              "      <td>10.95</td>\n",
              "      <td>15100.0</td>\n",
              "    </tr>\n",
              "    <tr>\n",
              "      <th>82</th>\n",
              "      <td>48</td>\n",
              "      <td>3.45</td>\n",
              "      <td>15291.0</td>\n",
              "    </tr>\n",
              "    <tr>\n",
              "      <th>83</th>\n",
              "      <td>64</td>\n",
              "      <td>2.55</td>\n",
              "      <td>15291.0</td>\n",
              "    </tr>\n",
              "    <tr>\n",
              "      <th>86</th>\n",
              "      <td>10</td>\n",
              "      <td>1.95</td>\n",
              "      <td>14688.0</td>\n",
              "    </tr>\n",
              "    <tr>\n",
              "      <th>87</th>\n",
              "      <td>10</td>\n",
              "      <td>1.95</td>\n",
              "      <td>14688.0</td>\n",
              "    </tr>\n",
              "    <tr>\n",
              "      <th>88</th>\n",
              "      <td>10</td>\n",
              "      <td>2.95</td>\n",
              "      <td>14688.0</td>\n",
              "    </tr>\n",
              "    <tr>\n",
              "      <th>89</th>\n",
              "      <td>10</td>\n",
              "      <td>0.85</td>\n",
              "      <td>14688.0</td>\n",
              "    </tr>\n",
              "    <tr>\n",
              "      <th>90</th>\n",
              "      <td>12</td>\n",
              "      <td>3.75</td>\n",
              "      <td>14688.0</td>\n",
              "    </tr>\n",
              "    <tr>\n",
              "      <th>105</th>\n",
              "      <td>24</td>\n",
              "      <td>1.45</td>\n",
              "      <td>17809.0</td>\n",
              "    </tr>\n",
              "    <tr>\n",
              "      <th>106</th>\n",
              "      <td>23</td>\n",
              "      <td>4.25</td>\n",
              "      <td>15311.0</td>\n",
              "    </tr>\n",
              "    <tr>\n",
              "      <th>107</th>\n",
              "      <td>5</td>\n",
              "      <td>4.95</td>\n",
              "      <td>15311.0</td>\n",
              "    </tr>\n",
              "    <tr>\n",
              "      <th>108</th>\n",
              "      <td>10</td>\n",
              "      <td>1.95</td>\n",
              "      <td>15311.0</td>\n",
              "    </tr>\n",
              "    <tr>\n",
              "      <th>109</th>\n",
              "      <td>2</td>\n",
              "      <td>2.10</td>\n",
              "      <td>15311.0</td>\n",
              "    </tr>\n",
              "    <tr>\n",
              "      <th>110</th>\n",
              "      <td>6</td>\n",
              "      <td>1.25</td>\n",
              "      <td>15311.0</td>\n",
              "    </tr>\n",
              "    <tr>\n",
              "      <th>...</th>\n",
              "      <td>...</td>\n",
              "      <td>...</td>\n",
              "      <td>...</td>\n",
              "    </tr>\n",
              "    <tr>\n",
              "      <th>534482</th>\n",
              "      <td>3</td>\n",
              "      <td>1.65</td>\n",
              "      <td>15471.0</td>\n",
              "    </tr>\n",
              "    <tr>\n",
              "      <th>534483</th>\n",
              "      <td>2</td>\n",
              "      <td>1.65</td>\n",
              "      <td>15471.0</td>\n",
              "    </tr>\n",
              "    <tr>\n",
              "      <th>534484</th>\n",
              "      <td>3</td>\n",
              "      <td>1.25</td>\n",
              "      <td>15471.0</td>\n",
              "    </tr>\n",
              "    <tr>\n",
              "      <th>536869</th>\n",
              "      <td>12</td>\n",
              "      <td>0.85</td>\n",
              "      <td>14520.0</td>\n",
              "    </tr>\n",
              "    <tr>\n",
              "      <th>536870</th>\n",
              "      <td>4</td>\n",
              "      <td>8.25</td>\n",
              "      <td>14520.0</td>\n",
              "    </tr>\n",
              "    <tr>\n",
              "      <th>536871</th>\n",
              "      <td>30</td>\n",
              "      <td>2.08</td>\n",
              "      <td>14520.0</td>\n",
              "    </tr>\n",
              "    <tr>\n",
              "      <th>536969</th>\n",
              "      <td>6</td>\n",
              "      <td>1.95</td>\n",
              "      <td>13436.0</td>\n",
              "    </tr>\n",
              "    <tr>\n",
              "      <th>536970</th>\n",
              "      <td>2</td>\n",
              "      <td>12.75</td>\n",
              "      <td>13436.0</td>\n",
              "    </tr>\n",
              "    <tr>\n",
              "      <th>536971</th>\n",
              "      <td>2</td>\n",
              "      <td>11.95</td>\n",
              "      <td>13436.0</td>\n",
              "    </tr>\n",
              "    <tr>\n",
              "      <th>536972</th>\n",
              "      <td>8</td>\n",
              "      <td>2.25</td>\n",
              "      <td>13436.0</td>\n",
              "    </tr>\n",
              "    <tr>\n",
              "      <th>536973</th>\n",
              "      <td>4</td>\n",
              "      <td>3.95</td>\n",
              "      <td>13436.0</td>\n",
              "    </tr>\n",
              "    <tr>\n",
              "      <th>537255</th>\n",
              "      <td>12</td>\n",
              "      <td>0.85</td>\n",
              "      <td>15520.0</td>\n",
              "    </tr>\n",
              "    <tr>\n",
              "      <th>537256</th>\n",
              "      <td>12</td>\n",
              "      <td>0.85</td>\n",
              "      <td>15520.0</td>\n",
              "    </tr>\n",
              "    <tr>\n",
              "      <th>537257</th>\n",
              "      <td>12</td>\n",
              "      <td>0.85</td>\n",
              "      <td>15520.0</td>\n",
              "    </tr>\n",
              "    <tr>\n",
              "      <th>537258</th>\n",
              "      <td>12</td>\n",
              "      <td>1.69</td>\n",
              "      <td>15520.0</td>\n",
              "    </tr>\n",
              "    <tr>\n",
              "      <th>537259</th>\n",
              "      <td>120</td>\n",
              "      <td>0.19</td>\n",
              "      <td>15520.0</td>\n",
              "    </tr>\n",
              "    <tr>\n",
              "      <th>537868</th>\n",
              "      <td>12</td>\n",
              "      <td>1.45</td>\n",
              "      <td>17436.0</td>\n",
              "    </tr>\n",
              "    <tr>\n",
              "      <th>538064</th>\n",
              "      <td>24</td>\n",
              "      <td>3.75</td>\n",
              "      <td>13298.0</td>\n",
              "    </tr>\n",
              "    <tr>\n",
              "      <th>538065</th>\n",
              "      <td>72</td>\n",
              "      <td>3.75</td>\n",
              "      <td>13298.0</td>\n",
              "    </tr>\n",
              "    <tr>\n",
              "      <th>538812</th>\n",
              "      <td>1</td>\n",
              "      <td>1.95</td>\n",
              "      <td>14569.0</td>\n",
              "    </tr>\n",
              "    <tr>\n",
              "      <th>538813</th>\n",
              "      <td>1</td>\n",
              "      <td>1.65</td>\n",
              "      <td>14569.0</td>\n",
              "    </tr>\n",
              "    <tr>\n",
              "      <th>538814</th>\n",
              "      <td>1</td>\n",
              "      <td>14.95</td>\n",
              "      <td>14569.0</td>\n",
              "    </tr>\n",
              "    <tr>\n",
              "      <th>538815</th>\n",
              "      <td>16</td>\n",
              "      <td>3.39</td>\n",
              "      <td>14569.0</td>\n",
              "    </tr>\n",
              "    <tr>\n",
              "      <th>538816</th>\n",
              "      <td>48</td>\n",
              "      <td>2.55</td>\n",
              "      <td>14569.0</td>\n",
              "    </tr>\n",
              "    <tr>\n",
              "      <th>540421</th>\n",
              "      <td>80995</td>\n",
              "      <td>2.08</td>\n",
              "      <td>16446.0</td>\n",
              "    </tr>\n",
              "    <tr>\n",
              "      <th>541768</th>\n",
              "      <td>3</td>\n",
              "      <td>18.00</td>\n",
              "      <td>12713.0</td>\n",
              "    </tr>\n",
              "    <tr>\n",
              "      <th>541769</th>\n",
              "      <td>24</td>\n",
              "      <td>1.25</td>\n",
              "      <td>12713.0</td>\n",
              "    </tr>\n",
              "    <tr>\n",
              "      <th>541770</th>\n",
              "      <td>24</td>\n",
              "      <td>1.25</td>\n",
              "      <td>12713.0</td>\n",
              "    </tr>\n",
              "    <tr>\n",
              "      <th>541771</th>\n",
              "      <td>24</td>\n",
              "      <td>1.25</td>\n",
              "      <td>12713.0</td>\n",
              "    </tr>\n",
              "    <tr>\n",
              "      <th>541772</th>\n",
              "      <td>4</td>\n",
              "      <td>4.15</td>\n",
              "      <td>12713.0</td>\n",
              "    </tr>\n",
              "  </tbody>\n",
              "</table>\n",
              "<p>21090 rows × 3 columns</p>\n",
              "</div>"
            ],
            "text/plain": [
              "        Quantity  UnitPrice  CustomerID\n",
              "0              6       2.55     17850.0\n",
              "1              6       3.39     17850.0\n",
              "2              8       2.75     17850.0\n",
              "3              6       3.39     17850.0\n",
              "4              6       3.39     17850.0\n",
              "9             32       1.69     13047.0\n",
              "10             6       2.10     13047.0\n",
              "11             6       2.10     13047.0\n",
              "12             8       3.75     13047.0\n",
              "13             6       1.65     13047.0\n",
              "26            24       3.75     12583.0\n",
              "27            24       3.75     12583.0\n",
              "28            12       3.75     12583.0\n",
              "29            12       0.85     12583.0\n",
              "30            24       0.65     12583.0\n",
              "46            80       2.55     13748.0\n",
              "65            32      10.95     15100.0\n",
              "82            48       3.45     15291.0\n",
              "83            64       2.55     15291.0\n",
              "86            10       1.95     14688.0\n",
              "87            10       1.95     14688.0\n",
              "88            10       2.95     14688.0\n",
              "89            10       0.85     14688.0\n",
              "90            12       3.75     14688.0\n",
              "105           24       1.45     17809.0\n",
              "106           23       4.25     15311.0\n",
              "107            5       4.95     15311.0\n",
              "108           10       1.95     15311.0\n",
              "109            2       2.10     15311.0\n",
              "110            6       1.25     15311.0\n",
              "...          ...        ...         ...\n",
              "534482         3       1.65     15471.0\n",
              "534483         2       1.65     15471.0\n",
              "534484         3       1.25     15471.0\n",
              "536869        12       0.85     14520.0\n",
              "536870         4       8.25     14520.0\n",
              "536871        30       2.08     14520.0\n",
              "536969         6       1.95     13436.0\n",
              "536970         2      12.75     13436.0\n",
              "536971         2      11.95     13436.0\n",
              "536972         8       2.25     13436.0\n",
              "536973         4       3.95     13436.0\n",
              "537255        12       0.85     15520.0\n",
              "537256        12       0.85     15520.0\n",
              "537257        12       0.85     15520.0\n",
              "537258        12       1.69     15520.0\n",
              "537259       120       0.19     15520.0\n",
              "537868        12       1.45     17436.0\n",
              "538064        24       3.75     13298.0\n",
              "538065        72       3.75     13298.0\n",
              "538812         1       1.95     14569.0\n",
              "538813         1       1.65     14569.0\n",
              "538814         1      14.95     14569.0\n",
              "538815        16       3.39     14569.0\n",
              "538816        48       2.55     14569.0\n",
              "540421     80995       2.08     16446.0\n",
              "541768         3      18.00     12713.0\n",
              "541769        24       1.25     12713.0\n",
              "541770        24       1.25     12713.0\n",
              "541771        24       1.25     12713.0\n",
              "541772         4       4.15     12713.0\n",
              "\n",
              "[21090 rows x 3 columns]"
            ]
          },
          "metadata": {
            "tags": []
          },
          "execution_count": 85
        }
      ]
    },
    {
      "cell_type": "code",
      "metadata": {
        "id": "K4Ynfo1-1YPg",
        "colab_type": "code",
        "colab": {
          "base_uri": "https://localhost:8080/",
          "height": 34
        },
        "outputId": "ef2ab47e-104e-4a74-efd9-4449946d4c49"
      },
      "source": [
        "df_cluster=pd.DataFrame(columns=['Quantity','UnitPrice','CustomerID'])\n",
        "count=0\n",
        "for k,v in (j):\n",
        "    df_cluster.loc[count] = [(v['Quantity'].sum()), v['UnitPrice'].sum(), k]\n",
        "    count+=1\n",
        "df_cluster.shape  #(4339, 3)"
      ],
      "execution_count": 86,
      "outputs": [
        {
          "output_type": "execute_result",
          "data": {
            "text/plain": [
              "(4339, 3)"
            ]
          },
          "metadata": {
            "tags": []
          },
          "execution_count": 86
        }
      ]
    },
    {
      "cell_type": "code",
      "metadata": {
        "id": "4SNoUOhSyIS9",
        "colab_type": "code",
        "colab": {}
      },
      "source": [
        "X = df_cluster.iloc[:,[0,1]].values"
      ],
      "execution_count": 0,
      "outputs": []
    },
    {
      "cell_type": "code",
      "metadata": {
        "id": "RpBKfNV7osHO",
        "colab_type": "code",
        "colab": {}
      },
      "source": [
        "from sklearn.preprocessing import StandardScaler\n",
        "scaler = StandardScaler()\n",
        "X = scaler.fit_transform(X)"
      ],
      "execution_count": 0,
      "outputs": []
    },
    {
      "cell_type": "code",
      "metadata": {
        "id": "-mvzuEjuqZgl",
        "colab_type": "code",
        "colab": {
          "base_uri": "https://localhost:8080/",
          "height": 312
        },
        "outputId": "d0a8fadb-51e1-4ab0-f734-da85d330c2f2"
      },
      "source": [
        "from sklearn.cluster import KMeans\n",
        "import matplotlib.pyplot as plt\n",
        "wcss = []\n",
        "\n",
        "for i in range(1,10):\n",
        "  km = KMeans(n_clusters = i, max_iter = 100).fit(X)\n",
        "  wcss.append(km.inertia_)\n",
        "  \n",
        "plt.plot(np.arange(1,10), wcss)\n",
        "plt.xlabel(\"No. of Clusters\")\n",
        "plt.ylabel(\"WCSS\")\n",
        "plt.title(\"Elbow Curve\")"
      ],
      "execution_count": 89,
      "outputs": [
        {
          "output_type": "execute_result",
          "data": {
            "text/plain": [
              "Text(0.5, 1.0, 'Elbow Curve')"
            ]
          },
          "metadata": {
            "tags": []
          },
          "execution_count": 89
        },
        {
          "output_type": "display_data",
          "data": {
            "image/png": "[encoded data removed]",
            "text/plain": [
              "<Figure size 432x288 with 1 Axes>"
            ]
          },
          "metadata": {
            "tags": []
          }
        }
      ]
    },
    {
      "cell_type": "code",
      "metadata": {
        "id": "4xQTRuY2rH4E",
        "colab_type": "code",
        "colab": {}
      },
      "source": [
        "km = KMeans(n_clusters = 3, max_iter = 100).fit(X)\n",
        "y_kmeans = km.fit_predict(X)"
      ],
      "execution_count": 0,
      "outputs": []
    },
    {
      "cell_type": "code",
      "metadata": {
        "id": "_ID_B_TdrPCN",
        "colab_type": "code",
        "colab": {
          "base_uri": "https://localhost:8080/",
          "height": 34
        },
        "outputId": "e26cbb74-8104-4cea-8beb-16776735fbdc"
      },
      "source": [
        "y_kmeans"
      ],
      "execution_count": 91,
      "outputs": [
        {
          "output_type": "execute_result",
          "data": {
            "text/plain": [
              "array([1, 0, 0, ..., 0, 0, 0], dtype=int32)"
            ]
          },
          "metadata": {
            "tags": []
          },
          "execution_count": 91
        }
      ]
    },
    {
      "cell_type": "code",
      "metadata": {
        "id": "0khZQzrRvzLd",
        "colab_type": "code",
        "colab": {
          "base_uri": "https://localhost:8080/",
          "height": 68
        },
        "outputId": "c49c74b2-f548-4e6f-c6a1-d9c2b97c8660"
      },
      "source": [
        "print((y_kmeans == 0).sum())\n",
        "print((y_kmeans == 1).sum())\n",
        "print((y_kmeans == 2).sum())"
      ],
      "execution_count": 92,
      "outputs": [
        {
          "output_type": "stream",
          "text": [
            "4321\n",
            "13\n",
            "5\n"
          ],
          "name": "stdout"
        }
      ]
    },
    {
      "cell_type": "code",
      "metadata": {
        "id": "ZJWwwYNJrr5W",
        "colab_type": "code",
        "colab": {
          "base_uri": "https://localhost:8080/",
          "height": 295
        },
        "outputId": "e24e08bb-31b3-4e7e-c406-5442d7f07e97"
      },
      "source": [
        "plt.scatter(X[y_kmeans == 0, 0], X[y_kmeans == 0, 1], s = 150, c = 'red', label = 'Customer Type 1')\n",
        "plt.scatter(X[y_kmeans == 1, 0], X[y_kmeans == 1, 1], s = 100, c = 'blue', label = 'Customer Type 2')\n",
        "plt.scatter(X[y_kmeans == 2, 0], X[y_kmeans == 2, 1], s = 50, c = 'green', label = 'Customer Type 3')\n",
        "plt.scatter(km.cluster_centers_[:, 0], km.cluster_centers_[:, 1], s = 100, c = 'yellow', label = 'Centroids')\n",
        "plt.title('Type Of Customers(customer type clusters)')\n",
        "plt.xlabel('Number of items Purchased(Quantity)')\n",
        "plt.ylabel('Product price per unit in sterling(Unit Price)')\n",
        "plt.legend()\n",
        "plt.show()"
      ],
      "execution_count": 93,
      "outputs": [
        {
          "output_type": "display_data",
          "data": {
            "image/png": "[encoded data removed]",
            "text/plain": [
              "<Figure size 432x288 with 1 Axes>"
            ]
          },
          "metadata": {
            "tags": []
          }
        }
      ]
    }
  ]
}