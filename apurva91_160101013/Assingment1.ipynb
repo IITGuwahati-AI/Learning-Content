{
 "cells": [
  {
   "cell_type": "code",
   "execution_count": 24,
   "metadata": {},
   "outputs": [],
   "source": [
    "import numpy as np\n",
    "import matplotlib.pyplot as plt\n",
    "from matplotlib import pylab"
   ]
  },
  {
   "cell_type": "code",
   "execution_count": 25,
   "metadata": {},
   "outputs": [],
   "source": [
    "data_array = np.loadtxt(\"data.txt\",skiprows=1)\n",
    "data_1 = np.array([x for x in data_array if x[0] == 1 ])\n",
    "data_2 = np.array([x for x in data_array if x[0] == 2 ])"
   ]
  },
  {
   "cell_type": "code",
   "execution_count": 26,
   "metadata": {},
   "outputs": [
    {
     "data": {
      "text/plain": [
       "<matplotlib.figure.Figure at 0x7fa1b343f710>"
      ]
     },
     "metadata": {},
     "output_type": "display_data"
    }
   ],
   "source": [
    "for i in range(1,11):\n",
    "    for j in range(i+1,11):\n",
    "\n",
    "        plt.title(str(i) + \" vs \" + str(j))\n",
    "        plt.xlabel(i)\n",
    "        plt.ylabel(j)\n",
    "        plt.scatter(data_1[:,i],data_1[:,j],c=\"#ff3838\",label=\"with Label 1\")\n",
    "        plt.scatter(data_2[:,i],data_2[:,j],c=\"#3859ff\",label=\"with Label 2\")\n",
    "        plt.legend()\n",
    "        pylab.savefig(\"output/\" + str(i) + \" vs \" + str(j) + \".png\")\n",
    "        plt.clf()"
   ]
  },
  {
   "cell_type": "code",
   "execution_count": null,
   "metadata": {},
   "outputs": [],
   "source": []
  }
 ],
 "metadata": {
  "kernelspec": {
   "display_name": "Python 3",
   "language": "python",
   "name": "python3"
  },
  "language_info": {
   "codemirror_mode": {
    "name": "ipython",
    "version": 3
   },
   "file_extension": ".py",
   "mimetype": "text/x-python",
   "name": "python",
   "nbconvert_exporter": "python",
   "pygments_lexer": "ipython3",
   "version": "3.6.3"
  }
 },
 "nbformat": 4,
 "nbformat_minor": 2
}
