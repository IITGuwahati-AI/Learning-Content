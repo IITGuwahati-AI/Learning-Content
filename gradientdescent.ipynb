{
 "cells": [
  {
   "cell_type": "code",
   "execution_count": null,
   "metadata": {},
   "outputs": [],
   "source": [
    "import os\n",
    "import numpy as np\n",
    "from numpy import loadtxt\n",
    "from matplotlib import pyplot\n",
    "\n",
    "data=np.loadtxt(\"ex1data1.txt\",delimiter=',')\n",
    "X=data[:,0]\n",
    "y=data[:,1]\n",
    "m=y.size\n",
    "X=np.stack([np.ones(m),X],axis=1)\n",
    "\n",
    "\n",
    "def computeCost(X,y,theta):\n",
    "\t m = y.size\n",
    "\t M=0\n",
    "\t cost= (np.dot(X,theta)-y)*(np.dot(X,theta)-y)\n",
    "\t M = sum(cost)/(2*m)\n",
    "\t return M\n",
    "\n",
    "def gradientdescent(X,y,theta,alpha,num_iters):\n",
    "\tm = y.shape[0]\n",
    " \ttheta = theta.copy()\n",
    " \tJ_history=[]\n",
    " \t#h=np.dot(X,theta)\n",
    "\n",
    " \tfor i in range(num_iters):\n",
    "\n",
    " \t\th=np.dot(X,theta)\n",
    " \t\ttheta=theta-(alpha/m)*(np.dot(np.transpose(X),(h-y)))\n",
    " \t\t#print theta\n",
    " \t\tJ_history.append(computeCost(X, y, theta))\n",
    "\n",
    "\treturn theta, J_history\n",
    "\n",
    "theta, J_history = gradientdescent(X,y,theta=np.zeros(2),alpha=0.01,num_iters=1500)\n",
    "print('Theta found by gradient descent: {:.4f}, {:.4f}'.format(*theta))\n",
    "\n",
    "def plotData(x,y):\n",
    "\tpyplot.plot(x,y,'ro',ms=10,mec='k')\n",
    "\tpyplot.ylabel('Profit in $10,000')\n",
    "\tpyplot.xlabel('Population of City in 10,000s')\n",
    "\t\n",
    "\n",
    "\n",
    "plotData(X[:, 1], y)\n",
    "pyplot.plot(X[:, 1], np.dot(X, theta), '-')\n",
    "pyplot.legend(['Training data', 'Linear regression']);\n",
    "pyplot.show()\n",
    "\n",
    "predict1 = np.dot([1, 3.5], theta)\n",
    "print('For population = 35,000, we predict a profit of {:.2f}\\n'.format(predict1*10000))\n",
    "\n",
    "predict2 = np.dot([1, 7], theta)\n",
    "print('For population = 70,000, we predict a profit of {:.2f}\\n'.format(predict2*10000))"
   ]
  }
 ],
 "metadata": {
  "kernelspec": {
   "display_name": "Python 2",
   "language": "python",
   "name": "python2"
  },
  "language_info": {
   "codemirror_mode": {
    "name": "ipython",
    "version": 2
   },
   "file_extension": ".py",
   "mimetype": "text/x-python",
   "name": "python",
   "nbconvert_exporter": "python",
   "pygments_lexer": "ipython2",
   "version": "2.7.17"
  }
 },
 "nbformat": 4,
 "nbformat_minor": 2
}
