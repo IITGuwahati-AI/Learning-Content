{
 "cells": [
  {
   "cell_type": "code",
   "execution_count": null,
   "metadata": {},
   "outputs": [],
   "source": [
    "import os\n",
    "import numpy as np\n",
    "from numpy import loadtxt\n",
    "from matplotlib import pyplot\n",
    "from mpl_toolkits.mplot3d import Axes3D \n",
    "\n",
    "\n",
    "data=np.loadtxt(\"ex1data2.txt\",delimiter=',')\n",
    "X = data[ : ,:2]\n",
    "y = data[:,2]\n",
    "m=y.size\n",
    "\n",
    "def computeCostMulti(X, y, theta):\n",
    "\tm = y.shape[0]\n",
    "\tM = 0\n",
    "\tcost= ((np.dot(X,theta)-y).T)*(np.dot(X,theta)-y)\n",
    "\tM= sum(cost)/(2*m)\n",
    "\treturn M\n",
    "\n",
    "def featureNormalize(X):\n",
    "\tX_norm = X.copy()\n",
    "\tmu = np.zeros(X.shape[1])\n",
    "\tsigma = np.zeros(X.shape[1])\n",
    "\n",
    "\tmu[0]=np.mean(X[:,0])\n",
    "\tsigma[0]=np.std(X[:,0])\n",
    "\tX_norm[:,0]=(X_norm[:,0]-mu[0])/sigma[0]\n",
    "\n",
    "\tmu[1]=np.mean(X[:,1])\n",
    "\tsigma[1]=np.std(X[:,1])\n",
    "\tX_norm[:,1]=(X_norm[:,1]-mu[1])/sigma[1]\n",
    "\treturn X_norm, mu, sigma\n",
    "X_norm, mu, sigma = featureNormalize(X)\n",
    "X = np.concatenate([np.ones((m, 1)), X_norm], axis=1)\n",
    "\n",
    "def gradientDescentMulti(X, y, theta, alpha, num_iters):\n",
    "\tm = y.shape[0]\n",
    "\ttheta = theta.copy()\n",
    "\tJ_history = []\n",
    "\tfor i in range(num_iters):\n",
    "\n",
    "\t\th=np.dot(X,theta)\n",
    "\t\ttheta=theta-(alpha/m)*(np.dot(np.transpose(X),(h-y)))\n",
    "\t\t#print theta\n",
    "\t\tJ_history.append(computeCostMulti(X, y, theta))\n",
    "\n",
    "\treturn theta, J_history\n",
    "\n",
    "theta, J_history = gradientDescentMulti(X,y,theta=np.zeros(3),alpha=0.01,num_iters=1500)\n",
    "print('Theta found by gradient descent: {:.4f}, {:.4f}'.format(*theta))"
   ]
  }
 ],
 "metadata": {
  "kernelspec": {
   "display_name": "Python 2",
   "language": "python",
   "name": "python2"
  },
  "language_info": {
   "codemirror_mode": {
    "name": "ipython",
    "version": 2
   },
   "file_extension": ".py",
   "mimetype": "text/x-python",
   "name": "python",
   "nbconvert_exporter": "python",
   "pygments_lexer": "ipython2",
   "version": "2.7.17"
  }
 },
 "nbformat": 4,
 "nbformat_minor": 2
}
