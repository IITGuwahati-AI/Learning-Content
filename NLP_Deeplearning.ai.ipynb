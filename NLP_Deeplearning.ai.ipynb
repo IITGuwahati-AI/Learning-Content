{
  "nbformat": 4,
  "nbformat_minor": 0,
  "metadata": {
    "colab": {
      "name": "Welcome To Colaboratory",
      "version": "0.3.2",
      "provenance": [],
      "collapsed_sections": [],
      "include_colab_link": true
    },
    "kernelspec": {
      "display_name": "Python 3",
      "name": "python3"
    }
  },
  "cells": [
    {
      "cell_type": "markdown",
      "metadata": {
        "id": "view-in-github",
        "colab_type": "text"
      },
      "source": [
        "<a href=\"https://colab.research.google.com/github/shreyassks/Learning-Content/blob/master/NLP_Deeplearning.ai.ipynb\" target=\"_parent\"><img src=\"https://colab.research.google.com/assets/colab-badge.svg\" alt=\"Open In Colab\"/></a>"
      ]
    },
    {
      "cell_type": "code",
      "metadata": {
        "id": "74Mxb6ppZVmk",
        "colab_type": "code",
        "colab": {}
      },
      "source": [
        "import tensorflow as tf\n",
        "from tensorflow import keras\n",
        "from tensorflow.keras.preprocessing.text import Tokenizer\n",
        "from tensorflow.keras.preprocessing.sequence import pad_sequences"
      ],
      "execution_count": 0,
      "outputs": []
    },
    {
      "cell_type": "code",
      "metadata": {
        "id": "rBcC8eC0ZqYd",
        "colab_type": "code",
        "colab": {}
      },
      "source": [
        "sentence = ['PM Modi and President Trump talked on Kashmir issue in G20 summit','Trump said that Kashmir issue is Bilateral!!',\n",
        "           'My yoga classes were started again after a long break']"
      ],
      "execution_count": 0,
      "outputs": []
    },
    {
      "cell_type": "code",
      "metadata": {
        "id": "kfVL0xVNZ5EE",
        "colab_type": "code",
        "outputId": "6d4d78b2-d9b1-4c9d-e5c3-ba7e4f718adc",
        "colab": {
          "base_uri": "https://localhost:8080/",
          "height": 54
        }
      },
      "source": [
        "token = Tokenizer(num_words = 50) # Tokenizer is a constructor, num words is the parameter which tells tokenizer to take top 50 words for tokenizing\n",
        "token.fit_on_texts(sentence) # token is an instance and fit_on_texts is the method \n",
        "word_dict = token.word_index # word_index property will put the sentence in dictionary form, key is the word and value is the index assigned to the unique words in corpus\n",
        "\n",
        "# Most repeated unique word is indexed at the first\n",
        "print(word_dict)  # punctuations are removed and upper case is scaled down to lower case\n"
      ],
      "execution_count": 120,
      "outputs": [
        {
          "output_type": "stream",
          "text": [
            "{'trump': 1, 'kashmir': 2, 'issue': 3, 'pm': 4, 'modi': 5, 'and': 6, 'president': 7, 'talked': 8, 'on': 9, 'in': 10, 'g20': 11, 'summit': 12, 'said': 13, 'that': 14, 'is': 15, 'bilateral': 16, 'my': 17, 'yoga': 18, 'classes': 19, 'were': 20, 'started': 21, 'again': 22, 'after': 23, 'a': 24, 'long': 25, 'break': 26}\n"
          ],
          "name": "stdout"
        }
      ]
    },
    {
      "cell_type": "code",
      "metadata": {
        "id": "GuOTBubgdTnq",
        "colab_type": "code",
        "outputId": "bd775f6b-6b11-464d-d682-f0355784e5ea",
        "colab": {
          "base_uri": "https://localhost:8080/",
          "height": 34
        }
      },
      "source": [
        "word_seq = token.texts_to_sequences(sentence) # this method will represent the values assigned to each word in corpus\n",
        "print(word_seq)"
      ],
      "execution_count": 121,
      "outputs": [
        {
          "output_type": "stream",
          "text": [
            "[[4, 5, 6, 7, 1, 8, 9, 2, 3, 10, 11, 12], [1, 13, 14, 2, 3, 15, 16], [17, 18, 19, 20, 21, 22, 23, 24, 25, 26]]\n"
          ],
          "name": "stdout"
        }
      ]
    },
    {
      "cell_type": "code",
      "metadata": {
        "id": "9nYmZ9q2gwL1",
        "colab_type": "code",
        "outputId": "24595eed-2b6a-4210-d70f-306625cbb2c4",
        "colab": {
          "base_uri": "https://localhost:8080/",
          "height": 34
        }
      },
      "source": [
        "test = ['Trump and Modi didnot talk about Pakistan or Imran Khan']\n",
        "test_seq = token.texts_to_sequences(test) # when you use a test data and convert into sequence, then only the words indexed before would be detected and new words will be ignored\n",
        "print(test_seq)"
      ],
      "execution_count": 122,
      "outputs": [
        {
          "output_type": "stream",
          "text": [
            "[[1, 6, 5]]\n"
          ],
          "name": "stdout"
        }
      ]
    },
    {
      "cell_type": "code",
      "metadata": {
        "id": "YFrLR8FFiOgD",
        "colab_type": "code",
        "outputId": "e11f3211-1404-45fe-cd21-a61368cf190f",
        "colab": {
          "base_uri": "https://localhost:8080/",
          "height": 71
        }
      },
      "source": [
        "'''\n",
        "To even recognise the unseen words, incorporate a key word oov_token in tokenizer object\n",
        "'''\n",
        "token = Tokenizer(num_words = 50, oov_token = '<OOV>') # OOV means Out of Vocabulary,its an initializer. token is an instance\n",
        "token.fit_on_texts(sentence) # token is an instance and fit_on_texts is the method \n",
        "word_dict = token.word_index # word_index property will put the sentence in dictionary form, key is the word and value is the index assigned to the unique words in corpus\n",
        "\n",
        "test_seq = token.texts_to_sequences(test)\n",
        "print(test_seq)\n",
        "print(word_dict)"
      ],
      "execution_count": 123,
      "outputs": [
        {
          "output_type": "stream",
          "text": [
            "[[2, 7, 6, 1, 1, 1, 1, 1, 1, 1]]\n",
            "{'<OOV>': 1, 'trump': 2, 'kashmir': 3, 'issue': 4, 'pm': 5, 'modi': 6, 'and': 7, 'president': 8, 'talked': 9, 'on': 10, 'in': 11, 'g20': 12, 'summit': 13, 'said': 14, 'that': 15, 'is': 16, 'bilateral': 17, 'my': 18, 'yoga': 19, 'classes': 20, 'were': 21, 'started': 22, 'again': 23, 'after': 24, 'a': 25, 'long': 26, 'break': 27}\n"
          ],
          "name": "stdout"
        }
      ]
    },
    {
      "cell_type": "code",
      "metadata": {
        "id": "YhiTd96DjOeL",
        "colab_type": "code",
        "outputId": "8eee4513-2872-4d8f-f438-436d80e5d250",
        "colab": {
          "base_uri": "https://localhost:8080/",
          "height": 68
        }
      },
      "source": [
        "'''\n",
        "Padding will allow us to use sentences of different lengths\n",
        "Padding is mainly performed to maintain the uniformity of text sequences\n",
        "The size of sequence will be according to the longest sentence and padding is done after the sentence, default is 'pre'\n",
        "if you want sentences of max length of k words then use truncating parameter\n",
        "'''\n",
        "padding = pad_sequences(word_seq, padding = 'post') \n",
        "print(padding)"
      ],
      "execution_count": 124,
      "outputs": [
        {
          "output_type": "stream",
          "text": [
            "[[ 4  5  6  7  1  8  9  2  3 10 11 12]\n",
            " [ 1 13 14  2  3 15 16  0  0  0  0  0]\n",
            " [17 18 19 20 21 22 23 24 25 26  0  0]]\n"
          ],
          "name": "stdout"
        }
      ]
    },
    {
      "cell_type": "code",
      "metadata": {
        "id": "T_KB8J2Bmm8p",
        "colab_type": "code",
        "colab": {
          "base_uri": "https://localhost:8080/",
          "height": 51
        },
        "outputId": "880286c5-dd1e-4169-999e-099470e1ec07"
      },
      "source": [
        "import math\n",
        "a = (5,8)\n",
        "b = (6,10)\n",
        "\n",
        "d = math.sqrt((a[0]-b[0])**2 + (a[1]-b[1])**2)\n",
        "print(d)\n",
        "\n",
        "def euclid_dist(a,b):\n",
        "  dist = 0\n",
        "  for i in range(0, len(a)):\n",
        "    dist += (a[i]-b[i])**2\n",
        "  return math.sqrt(dist)\n",
        "\n",
        "euclid_dist(a,b)"
      ],
      "execution_count": 125,
      "outputs": [
        {
          "output_type": "stream",
          "text": [
            "2.23606797749979\n"
          ],
          "name": "stdout"
        },
        {
          "output_type": "execute_result",
          "data": {
            "text/plain": [
              "2.23606797749979"
            ]
          },
          "metadata": {
            "tags": []
          },
          "execution_count": 125
        }
      ]
    },
    {
      "cell_type": "code",
      "metadata": {
        "id": "cfvWJiIeua7Z",
        "colab_type": "code",
        "colab": {
          "base_uri": "https://localhost:8080/",
          "height": 51
        },
        "outputId": "6a0c1e4c-8e3a-4caa-ecd1-4a011c091f31"
      },
      "source": [
        "import random\n",
        "datapoints = [(3,2),(2,2),(1,2),(0,1),(1,0),(1,1),(5,6),(7,7),(9,10),(11,13),(12,12),(12,13),(13,13)]\n",
        "k = 2\n",
        "cluster_center = []\n",
        "for h in range(0, k):\n",
        "  cluster_center += [random.choice(datapoints)]\n",
        "  \n",
        "print(len(cluster_center))\n",
        "print(cluster_center)"
      ],
      "execution_count": 126,
      "outputs": [
        {
          "output_type": "stream",
          "text": [
            "2\n",
            "[(1, 1), (2, 2)]\n"
          ],
          "name": "stdout"
        }
      ]
    },
    {
      "cell_type": "code",
      "metadata": {
        "id": "wZm2_Vg1wfAy",
        "colab_type": "code",
        "colab": {
          "base_uri": "https://localhost:8080/",
          "height": 68
        },
        "outputId": "ca22a5cd-9fc4-451d-b3f9-ee3a52cb67b0"
      },
      "source": [
        "cluster = [0]*len(datapoints)\n",
        "for g in range(0, len(datapoints)):\n",
        "  min_dist = float(\"inf\")\n",
        "  for u in range(0, len(cluster_center)):\n",
        "    dist = euclid_dist(datapoints[g],cluster_center[u])\n",
        "    if dist < min_dist:\n",
        "      min_dist = dist\n",
        "      cluster[g] = u\n",
        "      \n",
        "print(cluster)\n",
        "print(len(datapoints))\n",
        "print(len(cluster))"
      ],
      "execution_count": 127,
      "outputs": [
        {
          "output_type": "stream",
          "text": [
            "[1, 1, 0, 0, 0, 0, 1, 1, 1, 1, 1, 1, 1]\n",
            "13\n",
            "13\n"
          ],
          "name": "stdout"
        }
      ]
    },
    {
      "cell_type": "code",
      "metadata": {
        "id": "5E1lbm9208ey",
        "colab_type": "code",
        "colab": {
          "base_uri": "https://localhost:8080/",
          "height": 119
        },
        "outputId": "4334ae92-6a82-47c1-c702-0312505e9abd"
      },
      "source": [
        "d = len(datapoints[2]) \n",
        "print(d)\n",
        "\n",
        "for y in range(0, len(cluster_center)):\n",
        "  new_cluster = [0]*d\n",
        "  number = 0\n",
        "  for p in range(0, len(datapoints)):\n",
        "    if cluster[p] == y:\n",
        "      for t in range(0,d):\n",
        "        new_cluster[t] += datapoints[p][t]\n",
        "      number += 1\n",
        "  print(new_cluster)\n",
        "  for j in range(0, d):\n",
        "    if number != 0:\n",
        "      new_cluster[j] = new_cluster[j]/float(number)\n",
        "  print(new_cluster)\n",
        "print(number)\n"
      ],
      "execution_count": 128,
      "outputs": [
        {
          "output_type": "stream",
          "text": [
            "2\n",
            "[3, 4]\n",
            "[0.75, 1.0]\n",
            "[74, 78]\n",
            "[8.222222222222221, 8.666666666666666]\n",
            "9\n"
          ],
          "name": "stdout"
        }
      ]
    }
  ]
}