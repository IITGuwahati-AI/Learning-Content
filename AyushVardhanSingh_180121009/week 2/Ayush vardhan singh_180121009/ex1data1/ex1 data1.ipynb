{
 "cells": [
  {
   "cell_type": "markdown",
   "metadata": {},
   "source": [
    "# PLOTTING THE DATA POINTS"
   ]
  },
  {
   "cell_type": "code",
   "execution_count": 13,
   "metadata": {},
   "outputs": [
    {
     "data": {
      "image/png": "[encoded data removed]",
      "text/plain": [
       "<Figure size 432x288 with 1 Axes>"
      ]
     },
     "metadata": {
      "needs_background": "light"
     },
     "output_type": "display_data"
    }
   ],
   "source": [
    "import numpy as np \n",
    "\n",
    "from matplotlib import pyplot as plt \n",
    "\n",
    "data_array = np.loadtxt('C:/Users/avsin/Desktop/jupyter notebook/p 3.7/ml course coursera/week 1/data_ex1.txt', delimiter =',')\n",
    "\n",
    "plt.scatter(data_array[:,0], data_array[:,1], c = 'r')\n",
    "plt.show()\n"
   ]
  },
  {
   "cell_type": "markdown",
   "metadata": {},
   "source": [
    "# FINDING THE theta_0 and theta_1\n",
    "the result shows the iterations performed and the theta_0 and 1"
   ]
  },
  {
   "cell_type": "code",
   "execution_count": 14,
   "metadata": {},
   "outputs": [
    {
     "name": "stdout",
     "output_type": "stream",
     "text": [
      "stopped at: 3302\n",
      "-3.895778468707206\n",
      "1.19303340211867\n"
     ]
    }
   ],
   "source": [
    "import sys    #to set recursion limit\n",
    "sys.setrecursionlimit(10**6) #setting recursion limit\n",
    "\n",
    "a = [] #blank set to store the values of theta_0 and theta_1\n",
    "\n",
    "cost_f = [] #list to store the values of cost function\n",
    "\n",
    "#function to calculate cost, takes only theta_1 and theta_1 as array is global variable\n",
    "def cost_function( theta_0, theta_1):\n",
    "\tglobal data_array\n",
    "\tm, n_clolm = data_array.shape\n",
    "\tJ = 0\n",
    "\tfor i in range(m):\n",
    "\t\tJ = J + (theta_0 + theta_1* data_array[i,0] - data_array[i,1])**2\n",
    "\tj= J /(2*m)\n",
    "\treturn j\n",
    "\n",
    "#calculating the new theta_0 and theta_1 based on previous values \n",
    "def cost_function_mult_theta(theta_0,theta_1):\n",
    "\tglobal data_array\n",
    "\tm, n_clolm = data_array.shape\n",
    "\talpha = 0.024\n",
    "\tJ_t0 = 0\n",
    "\tJ_t1 = 0\n",
    "\tfor i in range(m):\n",
    "\t \tJ_t0= J_t0+ (theta_0 + theta_1* data_array[i,0] - data_array[i,1])\n",
    "\n",
    "\n",
    "\tfor i in range(m):\n",
    "\t \tJ_t1= J_t1+ ((theta_0 + theta_1* data_array[i,0] - data_array[i,1])*data_array[i,0])\n",
    "\n",
    "\tJ_t0 = (J_t0*alpha)/m\n",
    "\tJ_t1 = (J_t1*alpha)/m\n",
    "\n",
    "\tj_t0 = theta_0 - J_t0\n",
    "\tj_t1 = theta_1 -J_t1\n",
    "\n",
    "\treturn j_t0,j_t1\n",
    "\n",
    "#cheking gradient descent for minimum\n",
    "def grad_descent(theta_0, theta_1,it):\n",
    "\tglobal data_array\n",
    "\tglobal a\n",
    "\tglobal cost_f \n",
    "\tit += 1\n",
    "\n",
    "\tcost = cost_function( theta_0,theta_1)\n",
    "\n",
    "\ttheta_0, theta_1 = cost_function_mult_theta( theta_0, theta_1)\n",
    "\n",
    "\n",
    "\tnew_cost = cost_function( theta_0, theta_1)\n",
    "\tcost_f.append(new_cost)\n",
    "\tif new_cost >= cost:\n",
    "\t\tprint('stopped at:', it)\n",
    "\t\ta.append(theta_0)\n",
    "\t\ta.append(theta_1)\n",
    "\t\ta.append(cost)\n",
    "\t\ta.append(new_cost)\n",
    "\telse:\n",
    "\t\tgrad_descent( theta_0,theta_1,it)\n",
    "\n",
    "grad_descent(0,0,0)\n",
    "\n",
    "t0 = a[0]\n",
    "t1 = a[1]\n",
    "\n",
    "n =[] # number of iterations\n",
    "\n",
    "print(t0)\n",
    "print(t1)"
   ]
  },
  {
   "cell_type": "markdown",
   "metadata": {},
   "source": [
    "# Plotting cost function vs iterations "
   ]
  },
  {
   "cell_type": "code",
   "execution_count": 15,
   "metadata": {},
   "outputs": [
    {
     "data": {
      "image/png": "[encoded data removed]",
      "text/plain": [
       "<Figure size 432x288 with 1 Axes>"
      ]
     },
     "metadata": {
      "needs_background": "light"
     },
     "output_type": "display_data"
    }
   ],
   "source": [
    "it = len(cost_f)\n",
    "for i in range(it):\n",
    "\tn.append(i)\n",
    "plt.plot(n,cost_f)\n",
    "plt.xlabel('iterations')\n",
    "plt.ylabel('cost function')\n",
    "plt.show()\n"
   ]
  },
  {
   "cell_type": "markdown",
   "metadata": {},
   "source": [
    "# Plotting the values linear regression"
   ]
  },
  {
   "cell_type": "code",
   "execution_count": 16,
   "metadata": {},
   "outputs": [
    {
     "data": {
      "image/png": "[encoded data removed]",
      "text/plain": [
       "<Figure size 432x288 with 1 Axes>"
      ]
     },
     "metadata": {
      "needs_background": "light"
     },
     "output_type": "display_data"
    }
   ],
   "source": [
    "\n",
    "\n",
    "#plotting the linear \n",
    "\n",
    "def line_plot(x):\n",
    "\ty = t0 + (t1 * x)\n",
    "\treturn y\n",
    "\n",
    "x_axis = []\n",
    "y_axis =[]\n",
    "\n",
    "for i in range(5,25,1):\n",
    "\tx_axis.append(i)\n",
    "\ty = line_plot(i)\n",
    "\ty_axis.append(y)\n",
    "\n",
    "plt.plot(x_axis, y_axis)\n",
    "\n",
    "plt.scatter(data_array[:,0], data_array[:,1], c = 'r')\n",
    "\n",
    "plt.show()\n"
   ]
  }
 ],
 "metadata": {
  "kernelspec": {
   "display_name": "Python 3",
   "language": "python",
   "name": "python3"
  },
  "language_info": {
   "codemirror_mode": {
    "name": "ipython",
    "version": 3
   },
   "file_extension": ".py",
   "mimetype": "text/x-python",
   "name": "python",
   "nbconvert_exporter": "python",
   "pygments_lexer": "ipython3",
   "version": "3.7.3"
  }
 },
 "nbformat": 4,
 "nbformat_minor": 2
}
