{
  "nbformat": 4,
  "nbformat_minor": 0,
  "metadata": {
    "colab": {
      "name": "Welcome To Colaboratory",
      "version": "0.3.2",
      "provenance": [],
      "collapsed_sections": [],
      "include_colab_link": true
    },
    "kernelspec": {
      "display_name": "Python 3",
      "name": "python3"
    }
  },
  "cells": [
    {
      "cell_type": "markdown",
      "metadata": {
        "id": "view-in-github",
        "colab_type": "text"
      },
      "source": [
        "<a href=\"https://colab.research.google.com/github/shreyassks/Learning-Content/blob/master/K_Nearest_Neighbours.ipynb\" target=\"_parent\"><img src=\"https://colab.research.google.com/assets/colab-badge.svg\" alt=\"Open In Colab\"/></a>"
      ]
    },
    {
      "cell_type": "code",
      "metadata": {
        "id": "Wc6vjCtahcW_",
        "colab_type": "code",
        "colab": {
          "base_uri": "https://localhost:8080/",
          "height": 170
        },
        "outputId": "8bbb693a-80a0-45f1-a391-a81f1142e719"
      },
      "source": [
        "f = open('data.txt', 'r')\n",
        "line = f.read().splitlines() #splits each line in the text file, converts each line to a string and returns a list of strings\n",
        "f.close()\n",
        "line"
      ],
      "execution_count": 10,
      "outputs": [
        {
          "output_type": "execute_result",
          "data": {
            "text/plain": [
              "['Height, Weight, Age, Class',\n",
              " '1.70, 65, 20, Programmer',\n",
              " '1.90, 85, 33, Builder',\n",
              " '1.78, 76, 31, Builder',\n",
              " '1.73, 74, 24, Programmer',\n",
              " '1.81, 75, 35, Builder',\n",
              " '1.73, 70, 75, Scientist',\n",
              " '1.80, 71, 63, Scientist',\n",
              " '1.75, 69, 25, Programmer']"
            ]
          },
          "metadata": {
            "tags": []
          },
          "execution_count": 10
        }
      ]
    },
    {
      "cell_type": "code",
      "metadata": {
        "id": "VKQoE1gvlGSu",
        "colab_type": "code",
        "colab": {
          "base_uri": "https://localhost:8080/",
          "height": 34
        },
        "outputId": "39db0bbc-524a-41e3-ae83-67049b08b9c1"
      },
      "source": [
        "input_labels = line[0].split(', ')[:-1] # splits the first line into strings of list\n",
        "input_labels"
      ],
      "execution_count": 8,
      "outputs": [
        {
          "output_type": "execute_result",
          "data": {
            "text/plain": [
              "['Height', 'Weight', 'Age']"
            ]
          },
          "metadata": {
            "tags": []
          },
          "execution_count": 8
        }
      ]
    },
    {
      "cell_type": "code",
      "metadata": {
        "id": "Ang1hVKFlwid",
        "colab_type": "code",
        "colab": {}
      },
      "source": [
        "item = []\n",
        "for i in range(1,len(line)):\n",
        "  lines = line[i].split(', ')\n",
        "  output_labels = {'class' : lines[-1]}\n",
        "  \n",
        "  for j in range(len(input_labels)):\n",
        "    h = input_labels[j]\n",
        "    k = float(lines[j])\n",
        "    output_labels[h] = k\n",
        "  \n",
        "  item.append(output_labels)"
      ],
      "execution_count": 0,
      "outputs": []
    }
  ]
}