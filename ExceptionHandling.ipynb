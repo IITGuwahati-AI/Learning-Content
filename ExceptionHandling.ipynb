{
  "nbformat": 4,
  "nbformat_minor": 0,
  "metadata": {
    "colab": {
      "name": "Welcome To Colaboratory",
      "version": "0.3.2",
      "provenance": [],
      "collapsed_sections": [],
      "include_colab_link": true
    },
    "kernelspec": {
      "display_name": "Python 3",
      "name": "python3"
    }
  },
  "cells": [
    {
      "cell_type": "markdown",
      "metadata": {
        "id": "view-in-github",
        "colab_type": "text"
      },
      "source": [
        "<a href=\"https://colab.research.google.com/github/shreyassks/Learning-Content/blob/master/ExceptionHandling.ipynb\" target=\"_parent\"><img src=\"https://colab.research.google.com/assets/colab-badge.svg\" alt=\"Open In Colab\"/></a>"
      ]
    },
    {
      "cell_type": "markdown",
      "metadata": {
        "id": "Rwqd67TKXGPO",
        "colab_type": "text"
      },
      "source": [
        "# **This notebook describes the usage of Exception Handling**"
      ]
    },
    {
      "cell_type": "code",
      "metadata": {
        "id": "CXCyezb0F1mV",
        "colab_type": "code",
        "outputId": "56ed62a2-3c87-46dc-cf24-6faefbe769d9",
        "colab": {
          "base_uri": "https://localhost:8080/",
          "height": 51
        }
      },
      "source": [
        "'''\n",
        "Only include risky code in try space \n",
        "If an exception is raised at any instant of try space, then it will directly check the except space for alternative code\n",
        "Never again the remaining code in try space is executed once the control goes to except space\n",
        "'''\n",
        "\n",
        "try:\n",
        "  x = 0/0\n",
        "except ZeroDivisionError:\n",
        "  print(\"This cannot be executed\")\n",
        "  \n",
        "y = \"shreyas \" + \"sk\"\n",
        "print(y)"
      ],
      "execution_count": 1,
      "outputs": [
        {
          "output_type": "stream",
          "text": [
            "This cannot be executed\n",
            "shreyas sk\n"
          ],
          "name": "stdout"
        }
      ]
    },
    {
      "cell_type": "code",
      "metadata": {
        "id": "-EadPvJIGZ4c",
        "colab_type": "code",
        "outputId": "c9a4932f-ace5-410f-aaca-4b8c30a6c705",
        "colab": {
          "base_uri": "https://localhost:8080/",
          "height": 85
        }
      },
      "source": [
        "try:\n",
        "  x = open(\"my.txt\")\n",
        "except FileNotFoundError as obj: # obj is the reference variable to the filenotfounderror object\n",
        "  print(\"Type of the created object is : \", type(obj))\n",
        "  print(\"Another way of obtaining the type is : \", obj.__class__)\n",
        "  print(\"The name of the class is : \", obj.__class__.__name__)\n",
        "  print(\"The description of exception is : \", obj)\n",
        " "
      ],
      "execution_count": 2,
      "outputs": [
        {
          "output_type": "stream",
          "text": [
            "Type of the created object is :  <class 'FileNotFoundError'>\n",
            "Another way of obtaining the type is :  <class 'FileNotFoundError'>\n",
            "The name of the class is :  FileNotFoundError\n",
            "The description of exception is :  [Errno 2] No such file or directory: 'my.txt'\n"
          ],
          "name": "stdout"
        }
      ]
    },
    {
      "cell_type": "code",
      "metadata": {
        "id": "p4_UwucFVT83",
        "colab_type": "code",
        "outputId": "803d909c-c736-4a71-db94-6366e97dc59b",
        "colab": {
          "base_uri": "https://localhost:8080/",
          "height": 119
        }
      },
      "source": [
        "'''\n",
        "When there is possibility of different types of exceptions that might occur \n",
        "Then call the parent class \"BaseException\" which is the parent for all child classes\n",
        "This will detect which type of exception is arising and prints out the name \n",
        "This will reduce the need to memorize the names of possible exceptions that might occur in the code\n",
        "'''\n",
        "\n",
        "\n",
        "try:\n",
        "  x = int(input(\"Enter a number : \"))\n",
        "  y = float(input(\"Enter a floating number : \"))\n",
        "  print(x+y)\n",
        "  \n",
        "except BaseException as kka:\n",
        "    print(\"Type of the created object is : \", type(kka))\n",
        "    print(\"Another way of obtaining the type is : \", kka.__class__)\n",
        "    print(\"The name of the class is : \", kka.__class__.__name__)\n",
        "    print(\"The description of exception is : \", kka)"
      ],
      "execution_count": 3,
      "outputs": [
        {
          "output_type": "stream",
          "text": [
            "Enter a number : 8\n",
            "Enter a floating number : y\n",
            "Type of the created object is :  <class 'ValueError'>\n",
            "Another way of obtaining the type is :  <class 'ValueError'>\n",
            "The name of the class is :  ValueError\n",
            "The description of exception is :  could not convert string to float: 'y'\n"
          ],
          "name": "stdout"
        }
      ]
    },
    {
      "cell_type": "code",
      "metadata": {
        "id": "ULrTLeC8shEx",
        "colab_type": "code",
        "colab": {
          "base_uri": "https://localhost:8080/",
          "height": 68
        },
        "outputId": "c6fe5d7d-f783-4100-a9da-e8374cdba72d"
      },
      "source": [
        "'''\n",
        "when multiple exceptions are possible for same set of code then use a tuple to raise exceptions\n",
        "'''\n",
        "try:\n",
        "  x = int(input(\"enter first number \"))\n",
        "  y = int(input(\"enter second number \"))\n",
        "  print(x/y)\n",
        "\n",
        "except (ZeroDivisionError, ValueError) as kka:\n",
        "  print(\"class name of exception is \", kka.__class__.__name__)"
      ],
      "execution_count": 4,
      "outputs": [
        {
          "output_type": "stream",
          "text": [
            "enter first number 3\n",
            "enter second number 0\n",
            "class name of exception is  ZeroDivisionError\n"
          ],
          "name": "stdout"
        }
      ]
    }
  ]
}