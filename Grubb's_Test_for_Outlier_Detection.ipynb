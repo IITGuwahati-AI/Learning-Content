{
  "nbformat": 4,
  "nbformat_minor": 0,
  "metadata": {
    "colab": {
      "name": "Grubb's Test for Outlier Detection",
      "version": "0.3.2",
      "provenance": [],
      "include_colab_link": true
    },
    "kernelspec": {
      "name": "python3",
      "display_name": "Python 3"
    }
  },
  "cells": [
    {
      "cell_type": "markdown",
      "metadata": {
        "id": "view-in-github",
        "colab_type": "text"
      },
      "source": [
        "<a href=\"https://colab.research.google.com/github/shreyassks/Learning-Content/blob/master/Grubb's_Test_for_Outlier_Detection.ipynb\" target=\"_parent\"><img src=\"https://colab.research.google.com/assets/colab-badge.svg\" alt=\"Open In Colab\"/></a>"
      ]
    },
    {
      "cell_type": "code",
      "metadata": {
        "id": "Gxg_hOm1Q8QI",
        "colab_type": "code",
        "colab": {}
      },
      "source": [
        "import numpy as np\n",
        "import matplotlib.pyplot as plt\n",
        "%matplotlib inline"
      ],
      "execution_count": 0,
      "outputs": []
    },
    {
      "cell_type": "markdown",
      "metadata": {
        "id": "YNtNZQhAYp9v",
        "colab_type": "text"
      },
      "source": [
        "# ***Grubb's Test for Single Outlier Detection***\n",
        "\n",
        "\n",
        "> This test is only to detect single outlier in univariate data\n",
        "\n"
      ]
    },
    {
      "cell_type": "markdown",
      "metadata": {
        "id": "1RE_JsmQaYPQ",
        "colab_type": "text"
      },
      "source": [
        "\n",
        "\n",
        "\n",
        "\n",
        "> **Null Hypothesis : There are no outliers in the dataset**\n",
        "\n",
        "\n",
        "\n",
        "> **Alternate Hypothesis : There is exaclty one outlier in the dataset**\n",
        "\n",
        "\n"
      ]
    },
    {
      "cell_type": "code",
      "metadata": {
        "id": "KgtOm63zRudE",
        "colab_type": "code",
        "colab": {}
      },
      "source": [
        "y = np.array([199.31, 199.53, 200.19, 200.82, 201.92, 201.95, 202.18, 245.57])\n",
        "x = np.arange(len(y))"
      ],
      "execution_count": 0,
      "outputs": []
    },
    {
      "cell_type": "code",
      "metadata": {
        "id": "iInPBBq3SVvi",
        "colab_type": "code",
        "colab": {
          "base_uri": "https://localhost:8080/",
          "height": 286
        },
        "outputId": "488c994a-088d-4227-80b5-acaa35c5898c"
      },
      "source": [
        "plt.scatter(x,y)"
      ],
      "execution_count": 32,
      "outputs": [
        {
          "output_type": "execute_result",
          "data": {
            "text/plain": [
              "<matplotlib.collections.PathCollection at 0x7fc993167d68>"
            ]
          },
          "metadata": {
            "tags": []
          },
          "execution_count": 32
        },
        {
          "output_type": "display_data",
          "data": {
            "image/png": "[encoded data removed]",
            "text/plain": [
              "<Figure size 432x288 with 1 Axes>"
            ]
          },
          "metadata": {
            "tags": []
          }
        }
      ]
    },
    {
      "cell_type": "markdown",
      "metadata": {
        "id": "U9HiPZ2xZXIZ",
        "colab_type": "text"
      },
      "source": [
        "Test statistic for Grubb's test:\n",
        "# G = max|Y - Y_mean|/std_dev(Y)"
      ]
    },
    {
      "cell_type": "code",
      "metadata": {
        "id": "GNaqrqJJS2kT",
        "colab_type": "code",
        "colab": {}
      },
      "source": [
        "import scipy.stats as stats\n",
        "\n",
        "y_mean = np.mean(y)\n",
        "s = np.std(y)"
      ],
      "execution_count": 0,
      "outputs": []
    },
    {
      "cell_type": "code",
      "metadata": {
        "id": "YQWWw4SHTh3U",
        "colab_type": "code",
        "colab": {
          "base_uri": "https://localhost:8080/",
          "height": 34
        },
        "outputId": "2d6393d8-6321-4b17-e8f9-0bfe267b24e8"
      },
      "source": [
        "# Grubb's test statistic\n",
        "\n",
        "y_abs = np.subtract(y,y_mean)\n",
        "\n",
        "grubbs_stat = max(y_abs/s)\n",
        "\n",
        "grubbs_stat"
      ],
      "execution_count": 34,
      "outputs": [
        {
          "output_type": "execute_result",
          "data": {
            "text/plain": [
              "2.6392203839283317"
            ]
          },
          "metadata": {
            "tags": []
          },
          "execution_count": 34
        }
      ]
    },
    {
      "cell_type": "markdown",
      "metadata": {
        "id": "UwcLD0BTaNJd",
        "colab_type": "text"
      },
      "source": [
        "      *** Reject Null Hypothesis if G > G_critical***\n",
        "\n",
        "1.   Test statistic:  G = 2.63\n",
        "2.   Significance level:  α = 0.05\n",
        "\n",
        "1.    Critical value for an upper one-tailed test:  2.12\n",
        "\n",
        "1.   Critical region:  Reject Null Hypothesis if G > 2.12\n"
      ]
    },
    {
      "cell_type": "code",
      "metadata": {
        "id": "izj2QMUQUrv8",
        "colab_type": "code",
        "colab": {}
      },
      "source": [
        "def critical_value(alpha, N):\n",
        "  \n",
        "  t_dist = stats.t.ppf(1-alpha/(2*N), N-2)\n",
        "  num = (N-1)*np.sqrt(np.power(t_dist,2))\n",
        "  den = np.sqrt(N)*np.sqrt((N-2)+np.power(t_dist,2))\n",
        "  g_critical = num/den\n",
        "  \n",
        "  return g_critical"
      ],
      "execution_count": 0,
      "outputs": []
    },
    {
      "cell_type": "code",
      "metadata": {
        "id": "1oC7EJyHXwdF",
        "colab_type": "code",
        "colab": {
          "base_uri": "https://localhost:8080/",
          "height": 34
        },
        "outputId": "9b77d2be-2575-4302-88c2-c279dad646a8"
      },
      "source": [
        "critical_value(0.05, len(y))"
      ],
      "execution_count": 36,
      "outputs": [
        {
          "output_type": "execute_result",
          "data": {
            "text/plain": [
              "2.1266450871956257"
            ]
          },
          "metadata": {
            "tags": []
          },
          "execution_count": 36
        }
      ]
    }
  ]
}