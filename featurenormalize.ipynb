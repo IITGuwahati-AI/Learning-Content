{
 "cells": [
  {
   "cell_type": "code",
   "execution_count": null,
   "metadata": {},
   "outputs": [],
   "source": [
    "mport os\n",
    "import numpy as np\n",
    "from numpy import loadtxt\n",
    "from matplotlib import pyplot\n",
    "from mpl_toolkits.mplot3d import Axes3D \n",
    "\n",
    "\n",
    "data=np.loadtxt(\"ex1data2.txt\",delimiter=',')\n",
    "X = data[ : ,:2]\n",
    "y = data[:,2]\n",
    "m=y.size\n",
    "print('{:>8s}{:>8s}{:>10s}'.format('X[:,0]', 'X[:, 1]', 'y'))\n",
    "print('-'*26)\n",
    "for i in range(10):\n",
    "\tprint('{:8.0f}{:8.0f}{:10.0f}'.format(X[i, 0], X[i, 1], y[i]))\n",
    "\n",
    "#X_norm = X.copy()\n",
    "#mu = np.zeros(X.shape[1])\n",
    "#sigma = np.zeros(X.shape[1])\n",
    "\n",
    "def featureNormalize(X):\n",
    "\tX_norm = X.copy()\n",
    "\tmu = np.zeros(X.shape[1])\n",
    "\tsigma = np.zeros(X.shape[1])\n",
    "\n",
    "\tmu[0]=np.mean(X[:,0])\n",
    "\tsigma[0]=np.std(X[:,0])\n",
    "\tX_norm[:,0]=(X_norm[:,0]-mu[0])/sigma[0]\n",
    "\n",
    "\tmu[1]=np.mean(X[:,1])\n",
    "\tsigma[1]=np.std(X[:,1])\n",
    "\tX_norm[:,1]=(X_norm[:,1]-mu[1])/sigma[1]\n",
    "\treturn X_norm, mu, sigma\n",
    "\n",
    "\n",
    "X_norm, mu, sigma = featureNormalize(X)\n",
    "print('Computed mean:', mu)\n",
    "print('Computed standard deviation:', sigma)\n",
    "#print (X_norm)\n",
    "X = np.concatenate([np.ones((m, 1)), X_norm], axis=1)\n",
    "print (X)"
   ]
  }
 ],
 "metadata": {
  "kernelspec": {
   "display_name": "Python 2",
   "language": "python",
   "name": "python2"
  },
  "language_info": {
   "codemirror_mode": {
    "name": "ipython",
    "version": 2
   },
   "file_extension": ".py",
   "mimetype": "text/x-python",
   "name": "python",
   "nbconvert_exporter": "python",
   "pygments_lexer": "ipython2",
   "version": "2.7.17"
  }
 },
 "nbformat": 4,
 "nbformat_minor": 2
}
