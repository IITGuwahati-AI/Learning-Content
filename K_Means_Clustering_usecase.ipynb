{
  "nbformat": 4,
  "nbformat_minor": 0,
  "metadata": {
    "colab": {
      "name": "Welcome To Colaboratory",
      "version": "0.3.2",
      "provenance": [],
      "collapsed_sections": [],
      "include_colab_link": true
    },
    "kernelspec": {
      "display_name": "Python 3",
      "name": "python3"
    }
  },
  "cells": [
    {
      "cell_type": "markdown",
      "metadata": {
        "id": "view-in-github",
        "colab_type": "text"
      },
      "source": [
        "<a href=\"https://colab.research.google.com/github/shreyassks/Learning-Content/blob/master/K_Means_Clustering_usecase.ipynb\" target=\"_parent\"><img src=\"https://colab.research.google.com/assets/colab-badge.svg\" alt=\"Open In Colab\"/></a>"
      ]
    },
    {
      "cell_type": "code",
      "metadata": {
        "id": "JXuqkC_HzXH8",
        "colab_type": "code",
        "outputId": "2fec3fcc-b852-49d8-d928-43c8ef3e6070",
        "colab": {
          "base_uri": "https://localhost:8080/",
          "height": 170
        }
      },
      "source": [
        "import numpy as np\n",
        "import matplotlib.pyplot as plt\n",
        "import pandas as pd\n",
        "\n",
        "# Importing the dataset\n",
        "df = pd.read_csv('cars.csv')\n",
        "\n",
        "df.dtypes"
      ],
      "execution_count": 158,
      "outputs": [
        {
          "output_type": "execute_result",
          "data": {
            "text/plain": [
              "mpg             float64\n",
              " cylinders        int64\n",
              " cubicinches     object\n",
              " hp               int64\n",
              " weightlbs       object\n",
              " time-to-60       int64\n",
              " year             int64\n",
              " brand           object\n",
              "dtype: object"
            ]
          },
          "metadata": {
            "tags": []
          },
          "execution_count": 158
        }
      ]
    },
    {
      "cell_type": "code",
      "metadata": {
        "id": "lciwSCtv89Me",
        "colab_type": "code",
        "outputId": "f3491111-28d0-41b5-902f-7382a150523f",
        "colab": {
          "base_uri": "https://localhost:8080/",
          "height": 204
        }
      },
      "source": [
        "df.head(5)"
      ],
      "execution_count": 159,
      "outputs": [
        {
          "output_type": "execute_result",
          "data": {
            "text/html": [
              "<div>\n",
              "<style scoped>\n",
              "    .dataframe tbody tr th:only-of-type {\n",
              "        vertical-align: middle;\n",
              "    }\n",
              "\n",
              "    .dataframe tbody tr th {\n",
              "        vertical-align: top;\n",
              "    }\n",
              "\n",
              "    .dataframe thead th {\n",
              "        text-align: right;\n",
              "    }\n",
              "</style>\n",
              "<table border=\"1\" class=\"dataframe\">\n",
              "  <thead>\n",
              "    <tr style=\"text-align: right;\">\n",
              "      <th></th>\n",
              "      <th>mpg</th>\n",
              "      <th>cylinders</th>\n",
              "      <th>cubicinches</th>\n",
              "      <th>hp</th>\n",
              "      <th>weightlbs</th>\n",
              "      <th>time-to-60</th>\n",
              "      <th>year</th>\n",
              "      <th>brand</th>\n",
              "    </tr>\n",
              "  </thead>\n",
              "  <tbody>\n",
              "    <tr>\n",
              "      <th>0</th>\n",
              "      <td>14.0</td>\n",
              "      <td>8</td>\n",
              "      <td>350</td>\n",
              "      <td>165</td>\n",
              "      <td>4209</td>\n",
              "      <td>12</td>\n",
              "      <td>1972</td>\n",
              "      <td>US.</td>\n",
              "    </tr>\n",
              "    <tr>\n",
              "      <th>1</th>\n",
              "      <td>31.9</td>\n",
              "      <td>4</td>\n",
              "      <td>89</td>\n",
              "      <td>71</td>\n",
              "      <td>1925</td>\n",
              "      <td>14</td>\n",
              "      <td>1980</td>\n",
              "      <td>Europe.</td>\n",
              "    </tr>\n",
              "    <tr>\n",
              "      <th>2</th>\n",
              "      <td>17.0</td>\n",
              "      <td>8</td>\n",
              "      <td>302</td>\n",
              "      <td>140</td>\n",
              "      <td>3449</td>\n",
              "      <td>11</td>\n",
              "      <td>1971</td>\n",
              "      <td>US.</td>\n",
              "    </tr>\n",
              "    <tr>\n",
              "      <th>3</th>\n",
              "      <td>15.0</td>\n",
              "      <td>8</td>\n",
              "      <td>400</td>\n",
              "      <td>150</td>\n",
              "      <td>3761</td>\n",
              "      <td>10</td>\n",
              "      <td>1971</td>\n",
              "      <td>US.</td>\n",
              "    </tr>\n",
              "    <tr>\n",
              "      <th>4</th>\n",
              "      <td>30.5</td>\n",
              "      <td>4</td>\n",
              "      <td>98</td>\n",
              "      <td>63</td>\n",
              "      <td>2051</td>\n",
              "      <td>17</td>\n",
              "      <td>1978</td>\n",
              "      <td>US.</td>\n",
              "    </tr>\n",
              "  </tbody>\n",
              "</table>\n",
              "</div>"
            ],
            "text/plain": [
              "    mpg   cylinders  cubicinches   hp  weightlbs   time-to-60   year     brand\n",
              "0  14.0           8          350  165       4209           12   1972       US.\n",
              "1  31.9           4           89   71       1925           14   1980   Europe.\n",
              "2  17.0           8          302  140       3449           11   1971       US.\n",
              "3  15.0           8          400  150       3761           10   1971       US.\n",
              "4  30.5           4           98   63       2051           17   1978       US."
            ]
          },
          "metadata": {
            "tags": []
          },
          "execution_count": 159
        }
      ]
    },
    {
      "cell_type": "code",
      "metadata": {
        "id": "vxPWCB1iGUra",
        "colab_type": "code",
        "outputId": "263f12ee-32a0-4fba-c925-5b550116bed8",
        "colab": {
          "base_uri": "https://localhost:8080/",
          "height": 51
        }
      },
      "source": [
        "df.columns = ['mpg','cylinders','cubicinches','hp','weightlbs','time260','year','brand']\n",
        "df.columns.values"
      ],
      "execution_count": 160,
      "outputs": [
        {
          "output_type": "execute_result",
          "data": {
            "text/plain": [
              "array(['mpg', 'cylinders', 'cubicinches', 'hp', 'weightlbs', 'time260',\n",
              "       'year', 'brand'], dtype=object)"
            ]
          },
          "metadata": {
            "tags": []
          },
          "execution_count": 160
        }
      ]
    },
    {
      "cell_type": "code",
      "metadata": {
        "id": "SzQIKoKIWJ2q",
        "colab_type": "code",
        "outputId": "d97cf23f-21ce-4fa9-9b76-0fa5e173edb2",
        "colab": {
          "base_uri": "https://localhost:8080/",
          "height": 85
        }
      },
      "source": [
        "df['brand'].value_counts()"
      ],
      "execution_count": 161,
      "outputs": [
        {
          "output_type": "execute_result",
          "data": {
            "text/plain": [
              " US.        162\n",
              " Japan.      51\n",
              " Europe.     48\n",
              "Name: brand, dtype: int64"
            ]
          },
          "metadata": {
            "tags": []
          },
          "execution_count": 161
        }
      ]
    },
    {
      "cell_type": "code",
      "metadata": {
        "id": "JhJmGXMVEafI",
        "colab_type": "code",
        "colab": {}
      },
      "source": [
        "# Convert columns with Object data type into numeric \n",
        "# This will enable us to find out if there are any missing values\n",
        "df = df.iloc[:,:-1].values # dropping the last column and converting dataframe into a numpy array\n",
        "input_data = pd.DataFrame(df)"
      ],
      "execution_count": 0,
      "outputs": []
    },
    {
      "cell_type": "code",
      "metadata": {
        "id": "gubyHjhSHGsr",
        "colab_type": "code",
        "outputId": "46168975-1727-47de-ecbf-8d4e9e4b8353",
        "colab": {
          "base_uri": "https://localhost:8080/",
          "height": 51
        }
      },
      "source": [
        "input_data.columns = ['mpg','cylinders','cubicinches','hp','weightlbs','time260','year']\n",
        "print(len(input_data.columns))\n",
        "input_data.head(5)\n",
        "type(input_data)"
      ],
      "execution_count": 163,
      "outputs": [
        {
          "output_type": "stream",
          "text": [
            "7\n"
          ],
          "name": "stdout"
        },
        {
          "output_type": "execute_result",
          "data": {
            "text/plain": [
              "pandas.core.frame.DataFrame"
            ]
          },
          "metadata": {
            "tags": []
          },
          "execution_count": 163
        }
      ]
    },
    {
      "cell_type": "code",
      "metadata": {
        "id": "CQ7aRrzCLiiC",
        "colab_type": "code",
        "outputId": "efec1d65-3ff7-4aa6-87ba-829676ae168f",
        "colab": {
          "base_uri": "https://localhost:8080/",
          "height": 153
        }
      },
      "source": [
        "input_data.dtypes"
      ],
      "execution_count": 164,
      "outputs": [
        {
          "output_type": "execute_result",
          "data": {
            "text/plain": [
              "mpg            object\n",
              "cylinders      object\n",
              "cubicinches    object\n",
              "hp             object\n",
              "weightlbs      object\n",
              "time260        object\n",
              "year           object\n",
              "dtype: object"
            ]
          },
          "metadata": {
            "tags": []
          },
          "execution_count": 164
        }
      ]
    },
    {
      "cell_type": "code",
      "metadata": {
        "id": "rUEBmrGfHzNJ",
        "colab_type": "code",
        "outputId": "21f93517-62c8-41e0-f90c-9a0f7150ada8",
        "colab": {
          "base_uri": "https://localhost:8080/",
          "height": 88
        }
      },
      "source": [
        "input_data = input_data.convert_objects(convert_numeric = True) # converts object type to numeric\n",
        "# to find missing values, dtype of a variable should be numeric"
      ],
      "execution_count": 165,
      "outputs": [
        {
          "output_type": "stream",
          "text": [
            "/usr/local/lib/python3.6/dist-packages/ipykernel_launcher.py:1: FutureWarning: convert_objects is deprecated.  To re-infer data dtypes for object columns, use DataFrame.infer_objects()\n",
            "For all other conversions use the data-type specific converters pd.to_datetime, pd.to_timedelta and pd.to_numeric.\n",
            "  \"\"\"Entry point for launching an IPython kernel.\n"
          ],
          "name": "stderr"
        }
      ]
    },
    {
      "cell_type": "code",
      "metadata": {
        "id": "HOwggN42QhTg",
        "colab_type": "code",
        "outputId": "ce17567b-473b-4659-f915-30c6986b570d",
        "colab": {
          "base_uri": "https://localhost:8080/",
          "height": 153
        }
      },
      "source": [
        "input_data.dtypes"
      ],
      "execution_count": 166,
      "outputs": [
        {
          "output_type": "execute_result",
          "data": {
            "text/plain": [
              "mpg            float64\n",
              "cylinders        int64\n",
              "cubicinches    float64\n",
              "hp               int64\n",
              "weightlbs      float64\n",
              "time260          int64\n",
              "year             int64\n",
              "dtype: object"
            ]
          },
          "metadata": {
            "tags": []
          },
          "execution_count": 166
        }
      ]
    },
    {
      "cell_type": "code",
      "metadata": {
        "id": "pcXvnHIBDrkr",
        "colab_type": "code",
        "outputId": "a7fbf0bb-9ea7-4f07-c91e-d6c21b54868f",
        "colab": {
          "base_uri": "https://localhost:8080/",
          "height": 153
        }
      },
      "source": [
        "input_data.apply(lambda x: sum(x.isna())) # missing values in the input data"
      ],
      "execution_count": 167,
      "outputs": [
        {
          "output_type": "execute_result",
          "data": {
            "text/plain": [
              "mpg            0\n",
              "cylinders      0\n",
              "cubicinches    2\n",
              "hp             0\n",
              "weightlbs      3\n",
              "time260        0\n",
              "year           0\n",
              "dtype: int64"
            ]
          },
          "metadata": {
            "tags": []
          },
          "execution_count": 167
        }
      ]
    },
    {
      "cell_type": "code",
      "metadata": {
        "id": "hBASCrM3MDns",
        "colab_type": "code",
        "outputId": "ff8cfa53-c5ad-4302-f8ef-e499c4b4ab14",
        "colab": {
          "base_uri": "https://localhost:8080/",
          "height": 153
        }
      },
      "source": [
        "input_data['cubicinches'] = input_data['cubicinches'].fillna(input_data['cubicinches'].mean())\n",
        "input_data['weightlbs'] = input_data['weightlbs'].fillna(input_data['weightlbs'].mean())\n",
        "input_data.isna().sum()"
      ],
      "execution_count": 168,
      "outputs": [
        {
          "output_type": "execute_result",
          "data": {
            "text/plain": [
              "mpg            0\n",
              "cylinders      0\n",
              "cubicinches    0\n",
              "hp             0\n",
              "weightlbs      0\n",
              "time260        0\n",
              "year           0\n",
              "dtype: int64"
            ]
          },
          "metadata": {
            "tags": []
          },
          "execution_count": 168
        }
      ]
    },
    {
      "cell_type": "code",
      "metadata": {
        "id": "5e-NdBUdQUgY",
        "colab_type": "code",
        "outputId": "1faae4f1-0c7c-45d6-f97d-7b3967abe9cd",
        "colab": {
          "base_uri": "https://localhost:8080/",
          "height": 153
        }
      },
      "source": [
        "input_data.dtypes"
      ],
      "execution_count": 169,
      "outputs": [
        {
          "output_type": "execute_result",
          "data": {
            "text/plain": [
              "mpg            float64\n",
              "cylinders        int64\n",
              "cubicinches    float64\n",
              "hp               int64\n",
              "weightlbs      float64\n",
              "time260          int64\n",
              "year             int64\n",
              "dtype: object"
            ]
          },
          "metadata": {
            "tags": []
          },
          "execution_count": 169
        }
      ]
    },
    {
      "cell_type": "code",
      "metadata": {
        "id": "w8p2WNxb082x",
        "colab_type": "code",
        "colab": {}
      },
      "source": [
        "from sklearn import preprocessing\n",
        "# Get column names first\n",
        "names = input_data.columns\n",
        "# Create the Scaler object\n",
        "scaler = preprocessing.StandardScaler()\n",
        "# Fit your data on the scaler object\n",
        "scaled_df = scaler.fit_transform(input_data)\n",
        "scaled_df = pd.DataFrame(scaled_df, columns=names)"
      ],
      "execution_count": 0,
      "outputs": []
    },
    {
      "cell_type": "code",
      "metadata": {
        "id": "GWnGsz92MpWe",
        "colab_type": "code",
        "outputId": "4972ccfa-694d-4ba6-8032-2d770f777f04",
        "colab": {
          "base_uri": "https://localhost:8080/",
          "height": 312
        }
      },
      "source": [
        "from sklearn.cluster import KMeans\n",
        "\n",
        "wcss = []\n",
        "\n",
        "for i in range(1,7):\n",
        "  km = KMeans(n_clusters = i, max_iter = 100).fit(scaled_df)\n",
        "  wcss.append(km.inertia_)\n",
        "  \n",
        "plt.plot(np.arange(1,7), wcss)\n",
        "plt.xlabel(\"No. of Clusters\")\n",
        "plt.ylabel(\"WCSS\")\n",
        "plt.title(\"Elbow Curve\")"
      ],
      "execution_count": 171,
      "outputs": [
        {
          "output_type": "execute_result",
          "data": {
            "text/plain": [
              "Text(0.5, 1.0, 'Elbow Curve')"
            ]
          },
          "metadata": {
            "tags": []
          },
          "execution_count": 171
        },
        {
          "output_type": "display_data",
          "data": {
            "image/png": "[encoded data removed]",
            "text/plain": [
              "<Figure size 432x288 with 1 Axes>"
            ]
          },
          "metadata": {
            "tags": []
          }
        }
      ]
    },
    {
      "cell_type": "code",
      "metadata": {
        "id": "TtOEEIuSR7Pj",
        "colab_type": "code",
        "colab": {}
      },
      "source": [
        "km = KMeans(n_clusters = 3, max_iter = 100).fit(scaled_df)\n",
        "y_kmeans = km.fit_predict(scaled_df)"
      ],
      "execution_count": 0,
      "outputs": []
    },
    {
      "cell_type": "code",
      "metadata": {
        "id": "TtgEhsY04Alr",
        "colab_type": "code",
        "outputId": "7c742938-d2c1-43ce-99f9-a3d5c8cd91f1",
        "colab": {
          "base_uri": "https://localhost:8080/",
          "height": 238
        }
      },
      "source": [
        "y_kmeans"
      ],
      "execution_count": 173,
      "outputs": [
        {
          "output_type": "execute_result",
          "data": {
            "text/plain": [
              "array([0, 1, 0, 0, 1, 0, 0, 0, 2, 1, 1, 1, 0, 0, 2, 0, 1, 0, 2, 2, 1, 2,\n",
              "       2, 0, 1, 1, 1, 0, 2, 1, 2, 2, 2, 2, 1, 2, 1, 2, 0, 2, 2, 0, 2, 2,\n",
              "       0, 1, 0, 2, 1, 2, 0, 1, 0, 2, 0, 0, 2, 1, 1, 0, 2, 2, 2, 1, 0, 2,\n",
              "       1, 1, 1, 0, 2, 1, 2, 2, 1, 1, 2, 2, 2, 1, 0, 0, 0, 2, 1, 1, 2, 2,\n",
              "       1, 1, 1, 1, 0, 2, 1, 2, 0, 2, 0, 2, 0, 0, 2, 1, 1, 1, 1, 1, 2, 0,\n",
              "       2, 2, 0, 1, 1, 2, 2, 2, 1, 0, 1, 1, 0, 2, 1, 2, 0, 1, 2, 1, 2, 1,\n",
              "       0, 0, 0, 0, 1, 0, 2, 2, 2, 1, 1, 1, 0, 2, 2, 1, 0, 0, 1, 1, 0, 2,\n",
              "       1, 2, 2, 1, 2, 2, 1, 0, 2, 2, 1, 2, 2, 1, 2, 1, 1, 2, 1, 1, 2, 1,\n",
              "       0, 0, 0, 1, 2, 1, 0, 0, 1, 2, 2, 0, 0, 0, 1, 1, 0, 0, 0, 1, 1, 1,\n",
              "       1, 1, 2, 2, 2, 2, 2, 0, 1, 2, 0, 2, 2, 0, 1, 1, 2, 1, 1, 0, 2, 0,\n",
              "       2, 2, 0, 2, 0, 1, 0, 1, 2, 1, 0, 1, 2, 0, 2, 1, 0, 2, 1, 2, 0, 2,\n",
              "       0, 2, 0, 0, 0, 1, 1, 1, 1, 2, 1, 0, 2, 2, 0, 1, 2, 2, 2],\n",
              "      dtype=int32)"
            ]
          },
          "metadata": {
            "tags": []
          },
          "execution_count": 173
        }
      ]
    },
    {
      "cell_type": "code",
      "metadata": {
        "id": "ufdtdbA9THQI",
        "colab_type": "code",
        "outputId": "d19a10c1-a879-4ec3-82d2-60db1a0b5256",
        "colab": {
          "base_uri": "https://localhost:8080/",
          "height": 51
        }
      },
      "source": [
        "input_data = scaled_df.as_matrix(columns=None)"
      ],
      "execution_count": 174,
      "outputs": [
        {
          "output_type": "stream",
          "text": [
            "/usr/local/lib/python3.6/dist-packages/ipykernel_launcher.py:1: FutureWarning: Method .as_matrix will be removed in a future version. Use .values instead.\n",
            "  \"\"\"Entry point for launching an IPython kernel.\n"
          ],
          "name": "stderr"
        }
      ]
    },
    {
      "cell_type": "code",
      "metadata": {
        "id": "cNOj6YybWst_",
        "colab_type": "code",
        "outputId": "68467a6e-5d3b-4f8c-d2d6-57d2ef375f54",
        "colab": {
          "base_uri": "https://localhost:8080/",
          "height": 68
        }
      },
      "source": [
        "print((y_kmeans == 0).sum())\n",
        "print((y_kmeans == 1).sum())\n",
        "print((y_kmeans == 2).sum())"
      ],
      "execution_count": 175,
      "outputs": [
        {
          "output_type": "stream",
          "text": [
            "75\n",
            "91\n",
            "95\n"
          ],
          "name": "stdout"
        }
      ]
    },
    {
      "cell_type": "code",
      "metadata": {
        "id": "EIDwEdxBSJxH",
        "colab_type": "code",
        "outputId": "414f1d6a-52ec-46f6-d0bc-dcafe090fbcd",
        "colab": {
          "base_uri": "https://localhost:8080/",
          "height": 286
        }
      },
      "source": [
        "plt.scatter(input_data[y_kmeans==0,0], input_data[y_kmeans == 0,1], s = 150, color = 'red', label = 'US')\n",
        "plt.scatter(input_data[y_kmeans==1,0], input_data[y_kmeans == 1,1], s = 100, color = 'blue', label = 'Europe')\n",
        "plt.scatter(input_data[y_kmeans==2,0], input_data[y_kmeans == 2,1], s = 75, color = 'green', label = 'Japan')\n",
        "#plt.scatter(input_data[y_kmeans==3,0], input_data[y_kmeans == 3,1], color = 'black')\n",
        "plt.scatter(km.cluster_centers_[:,0], km.cluster_centers_[:,1], s = 150, color = 'Yellow', label = 'centroids')\n",
        "plt.legend()"
      ],
      "execution_count": 176,
      "outputs": [
        {
          "output_type": "execute_result",
          "data": {
            "text/plain": [
              "<matplotlib.legend.Legend at 0x7f4148363cc0>"
            ]
          },
          "metadata": {
            "tags": []
          },
          "execution_count": 176
        },
        {
          "output_type": "display_data",
          "data": {
            "image/png": "[encoded data removed]",
            "text/plain": [
              "<Figure size 432x288 with 1 Axes>"
            ]
          },
          "metadata": {
            "tags": []
          }
        }
      ]
    },
    {
      "cell_type": "code",
      "metadata": {
        "id": "ZM-0883x4Rs0",
        "colab_type": "code",
        "outputId": "9478bc64-3982-4943-d95c-409477b4bdd4",
        "colab": {
          "base_uri": "https://localhost:8080/",
          "height": 272
        }
      },
      "source": [
        "input_data[y_kmeans == 0,0]  # y_kmeans == 0 will filter the rows giving prediction as \"0\" cluster. 0,0 will give 0th column of X corresponding to prediction \"0\" cluster\n",
        "input_data[y_kmeans == 0,1] # y_kmeans == 0 will filter the rows giving prediction as \"0\" cluster. 0,1 will give 1st column of X corresponding to prediction \"0\" cluster"
      ],
      "execution_count": 177,
      "outputs": [
        {
          "output_type": "execute_result",
          "data": {
            "text/plain": [
              "array([1.39305285, 1.39305285, 1.39305285, 1.39305285, 1.39305285,\n",
              "       1.39305285, 1.39305285, 1.39305285, 1.39305285, 1.39305285,\n",
              "       1.39305285, 1.39305285, 1.39305285, 1.39305285, 1.39305285,\n",
              "       1.39305285, 1.39305285, 1.39305285, 1.39305285, 1.39305285,\n",
              "       1.39305285, 1.39305285, 1.39305285, 1.39305285, 1.39305285,\n",
              "       1.39305285, 1.39305285, 1.39305285, 1.39305285, 1.39305285,\n",
              "       1.39305285, 1.39305285, 1.39305285, 1.39305285, 1.39305285,\n",
              "       1.39305285, 1.39305285, 1.39305285, 1.39305285, 1.39305285,\n",
              "       1.39305285, 1.39305285, 1.39305285, 1.39305285, 1.39305285,\n",
              "       1.39305285, 1.39305285, 1.39305285, 1.39305285, 1.39305285,\n",
              "       1.39305285, 1.39305285, 1.39305285, 1.39305285, 1.39305285,\n",
              "       1.39305285, 1.39305285, 1.39305285, 1.39305285, 0.23697401,\n",
              "       1.39305285, 1.39305285, 1.39305285, 1.39305285, 1.39305285,\n",
              "       1.39305285, 1.39305285, 1.39305285, 1.39305285, 1.39305285,\n",
              "       1.39305285, 1.39305285, 1.39305285, 1.39305285, 1.39305285])"
            ]
          },
          "metadata": {
            "tags": []
          },
          "execution_count": 177
        }
      ]
    },
    {
      "cell_type": "code",
      "metadata": {
        "id": "Xo1T4jte61_l",
        "colab_type": "code",
        "outputId": "b0c3976e-bf36-44d4-b285-4a0f816ffcf9",
        "colab": {
          "base_uri": "https://localhost:8080/",
          "height": 34
        }
      },
      "source": [
        "km.cluster_centers_[:,0]"
      ],
      "execution_count": 178,
      "outputs": [
        {
          "output_type": "execute_result",
          "data": {
            "text/plain": [
              "array([-1.0415261 ,  1.11461203, -0.24542355])"
            ]
          },
          "metadata": {
            "tags": []
          },
          "execution_count": 178
        }
      ]
    },
    {
      "cell_type": "code",
      "metadata": {
        "id": "0s_YvkVQYIjX",
        "colab_type": "code",
        "outputId": "d1300947-aab9-4421-d82c-7808a2377c5d",
        "colab": {
          "base_uri": "https://localhost:8080/",
          "height": 766
        }
      },
      "source": [
        "import numpy as np\n",
        "import matplotlib.pyplot as plt\n",
        "import pandas as pd\n",
        "\n",
        "# Importing the dataset\n",
        "dataset = pd.read_csv('cars.csv')\n",
        "\n",
        "X = dataset.iloc[:,:-1].values\n",
        "\n",
        "X = pd.DataFrame(X)\n",
        "X = X.convert_objects(convert_numeric=True)\n",
        "X.columns = ['mpg', ' cylinders', ' cubicinches', ' hp', ' weightlbs', ' time-to-60', 'year']\n",
        "\n",
        "# Eliminating null values\n",
        "for i in X.columns:\n",
        "    X[i] = X[i].fillna(int(X[i].mean()))\n",
        "for i in X.columns:\n",
        "    print(X[i].isnull().sum())\n",
        "    \n",
        "\n",
        "# Using the elbow method to find  the optimal number of clusters\n",
        "from sklearn.cluster import KMeans\n",
        "wcss = []\n",
        "for i in range(1,11):\n",
        "    kmeans = KMeans(n_clusters=i,init='k-means++',max_iter=300,n_init=10,random_state=0)\n",
        "    kmeans.fit(X)\n",
        "    wcss.append(kmeans.inertia_)\n",
        "plt.plot(range(1,11),wcss)\n",
        "plt.title('The Elbow Method')\n",
        "plt.xlabel('Number of clusters')\n",
        "plt.ylabel('WCSS')\n",
        "plt.show()\n",
        "\n",
        "# Applying k-means to the cars dataset\n",
        "kmeans = KMeans(n_clusters=3,init='k-means++',max_iter=300,n_init=10,random_state=0) \n",
        "y_kmeans = kmeans.fit_predict(X)\n",
        "\n",
        "X = X.as_matrix(columns=None)\n",
        "\n",
        "# Visualising the clusters\n",
        "plt.scatter(X[y_kmeans == 0, 0], X[y_kmeans == 0,1],s=100,c='red',label='US')\n",
        "plt.scatter(X[y_kmeans == 1, 0], X[y_kmeans == 1,1],s=100,c='blue',label='Japan')\n",
        "plt.scatter(X[y_kmeans == 2, 0], X[y_kmeans == 2,1],s=100,c='green',label='Europe')\n",
        "plt.scatter(kmeans.cluster_centers_[:,0],kmeans.cluster_centers_[:,1],s=300,c='yellow',label='Centroids')\n",
        "plt.title('Clusters of car brands')\n",
        "plt.legend()\n",
        "plt.show()"
      ],
      "execution_count": 179,
      "outputs": [
        {
          "output_type": "stream",
          "text": [
            "/usr/local/lib/python3.6/dist-packages/ipykernel_launcher.py:11: FutureWarning: convert_objects is deprecated.  To re-infer data dtypes for object columns, use DataFrame.infer_objects()\n",
            "For all other conversions use the data-type specific converters pd.to_datetime, pd.to_timedelta and pd.to_numeric.\n",
            "  # This is added back by InteractiveShellApp.init_path()\n"
          ],
          "name": "stderr"
        },
        {
          "output_type": "stream",
          "text": [
            "0\n",
            "0\n",
            "0\n",
            "0\n",
            "0\n",
            "0\n",
            "0\n"
          ],
          "name": "stdout"
        },
        {
          "output_type": "display_data",
          "data": {
            "image/png": "[encoded data removed]",
            "text/plain": [
              "<Figure size 432x288 with 1 Axes>"
            ]
          },
          "metadata": {
            "tags": []
          }
        },
        {
          "output_type": "stream",
          "text": [
            "/usr/local/lib/python3.6/dist-packages/ipykernel_launcher.py:38: FutureWarning: Method .as_matrix will be removed in a future version. Use .values instead.\n"
          ],
          "name": "stderr"
        },
        {
          "output_type": "display_data",
          "data": {
            "image/png": "[encoded data removed]",
            "text/plain": [
              "<Figure size 432x288 with 1 Axes>"
            ]
          },
          "metadata": {
            "tags": []
          }
        }
      ]
    },
    {
      "cell_type": "code",
      "metadata": {
        "id": "0w4v6IbeYUYS",
        "colab_type": "code",
        "outputId": "5530521e-1dbc-4267-9dae-ade077ec71eb",
        "colab": {
          "base_uri": "https://localhost:8080/",
          "height": 68
        }
      },
      "source": [
        "print((y_kmeans == 0).sum())\n",
        "print((y_kmeans == 1).sum())\n",
        "print((y_kmeans == 2).sum())"
      ],
      "execution_count": 180,
      "outputs": [
        {
          "output_type": "stream",
          "text": [
            "81\n",
            "118\n",
            "62\n"
          ],
          "name": "stdout"
        }
      ]
    },
    {
      "cell_type": "code",
      "metadata": {
        "id": "vbG0IlZRYeUQ",
        "colab_type": "code",
        "outputId": "c3a53bb8-8841-4e64-a3e0-aafe3f0dde3e",
        "colab": {
          "base_uri": "https://localhost:8080/",
          "height": 34
        }
      },
      "source": [
        "kmeans.cluster_centers_[:,0]"
      ],
      "execution_count": 181,
      "outputs": [
        {
          "output_type": "execute_result",
          "data": {
            "text/plain": [
              "array([20.20123457, 29.54661017, 14.80645161])"
            ]
          },
          "metadata": {
            "tags": []
          },
          "execution_count": 181
        }
      ]
    }
  ]
}