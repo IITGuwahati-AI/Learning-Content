{
 "cells": [
  {
   "cell_type": "code",
   "execution_count": null,
   "metadata": {},
   "outputs": [
    {
     "name": "stdout",
     "output_type": "stream",
     "text": [
      "[[1.  0.1 0.6 1.1]\n",
      " [1.  0.2 0.7 1.2]\n",
      " [1.  0.3 0.8 1.3]\n",
      " [1.  0.4 0.9 1.4]\n",
      " [1.  0.5 1.  1.5]]\n",
      "Cost         : 2.534819\n",
      "Expected cost: 2.534819\n",
      "-----------------------\n",
      "Gradients:\n",
      " [0.146561, -0.548558, 0.724722, 1.398003]\n",
      "Expected gradients:\n",
      " [0.146561, -0.548558, 0.724722, 1.398003]\n",
      "[[-7.80529084e+00  0.00000000e+00  0.00000000e+00 ...  5.17338874e-04\n",
      "   2.43366365e-05  0.00000000e+00]\n",
      " [-3.60110562e+00  0.00000000e+00  0.00000000e+00 ...  4.95536310e-03\n",
      "   1.74313805e-07  0.00000000e+00]\n",
      " [-3.85985274e+00  0.00000000e+00  0.00000000e+00 ...  6.46025095e-03\n",
      "  -7.44678726e-04  0.00000000e+00]\n",
      " ...\n",
      " [-2.86292756e+00  0.00000000e+00  0.00000000e+00 ... -5.63595562e-04\n",
      "   7.43018292e-05  0.00000000e+00]\n",
      " [-7.95834311e+00  0.00000000e+00  0.00000000e+00 ... -1.07014708e-04\n",
      "   8.42564984e-06  0.00000000e+00]\n",
      " [-5.51174016e+00  0.00000000e+00  0.00000000e+00 ... -2.97218430e-03\n",
      "   2.27822607e-04  0.00000000e+00]]\n",
      "Training Set Accuracy: 95.38%\n",
      "[0. 0. 0. ... 9. 9. 7.]\n",
      "(5000,)\n",
      "(25, 401)\n",
      "(5000, 400)\n",
      "abc\n",
      "(5000,)\n",
      "(5000, 401)\n",
      "(10, 26)\n",
      "(5000, 10)\n",
      "Training Set Accuracy: 97.5%\n",
      "abc\n",
      "(1,)\n",
      "(1, 401)\n",
      "(10, 26)\n",
      "(1, 10)\n",
      "Neural Network Prediction: 8\n",
      "\n",
      "Submitting Solutions | Programming Exercise multi-class-classification-and-neural-networks\n",
      "\n"
     ]
    }
   ],
   "source": [
    "import week4"
   ]
  },
  {
   "cell_type": "code",
   "execution_count": null,
   "metadata": {},
   "outputs": [],
   "source": []
  }
 ],
 "metadata": {
  "kernelspec": {
   "display_name": "Python 3",
   "language": "python",
   "name": "python3"
  },
  "language_info": {
   "codemirror_mode": {
    "name": "ipython",
    "version": 3
   },
   "file_extension": ".py",
   "mimetype": "text/x-python",
   "name": "python",
   "nbconvert_exporter": "python",
   "pygments_lexer": "ipython3",
   "version": "3.7.3"
  }
 },
 "nbformat": 4,
 "nbformat_minor": 2
}
