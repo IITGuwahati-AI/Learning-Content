{
 "cells": [
  {
   "cell_type": "code",
   "execution_count": null,
   "metadata": {},
   "outputs": [],
   "source": [
    "import os\n",
    "import numpy as np\n",
    "from numpy import loadtxt\n",
    "from matplotlib import pyplot\n",
    "from mpl_toolkits.mplot3d import Axes3D \n",
    "\n",
    "\n",
    "data=np.loadtxt(\"ex1data2.txt\",delimiter=',')\n",
    "X = data[ : ,:2]\n",
    "y = data[:,2]\n",
    "m=y.size\n",
    "\n",
    "def computeCostMulti(X, y, theta):\n",
    "\tm = y.shape[0]\n",
    "\tJ = 0\n",
    "\tcost= ((np.dot(X,theta)-y).T)*(np.dot(X,theta)-y)\n",
    "\tJ = sum(cost)/(2*m)\n",
    "\treturn J"
   ]
  }
 ],
 "metadata": {
  "kernelspec": {
   "display_name": "Python 2",
   "language": "python",
   "name": "python2"
  },
  "language_info": {
   "codemirror_mode": {
    "name": "ipython",
    "version": 2
   },
   "file_extension": ".py",
   "mimetype": "text/x-python",
   "name": "python",
   "nbconvert_exporter": "python",
   "pygments_lexer": "ipython2",
   "version": "2.7.17"
  }
 },
 "nbformat": 4,
 "nbformat_minor": 2
}
