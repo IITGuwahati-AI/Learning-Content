{
 "metadata": {
  "name": "",
  "signature": "sha256:6248a0767da3cc11604f053c1e608074ae344353e7b050c42d8b2f7c494d7c3e"
 },
 "nbformat": 3,
 "nbformat_minor": 0,
 "worksheets": [
  {
   "cells": [
    {
     "cell_type": "heading",
     "level": 1,
     "metadata": {},
     "source": [
      "CS228 Python Tutorial"
     ]
    },
    {
     "cell_type": "markdown",
     "metadata": {},
     "source": [
      "Adapted by [Volodymyr Kuleshov](http://web.stanford.edu/~kuleshov/) and [Isaac Caswell](https://symsys.stanford.edu/viewing/symsysaffiliate/21335) from the `CS231n` Python tutorial by Justin Johnson (http://cs231n.github.io/python-numpy-tutorial/)."
     ]
    },
    {
     "cell_type": "heading",
     "level": 2,
     "metadata": {},
     "source": [
      "Introduction"
     ]
    },
    {
     "cell_type": "markdown",
     "metadata": {},
     "source": [
      "Python is a great general-purpose programming language on its own, but with the help of a few popular libraries (numpy, scipy, matplotlib) it becomes a powerful environment for scientific computing.\n",
      "\n",
      "We expect that many of you will have some experience with Python and numpy; for the rest of you, this section will serve as a quick crash course both on the Python programming language and on the use of Python for scientific computing.\n",
      "\n",
      "Some of you may have previous knowledge in Matlab, in which case we also recommend the numpy for Matlab users page (https://docs.scipy.org/doc/numpy-dev/user/numpy-for-matlab-users.html)."
     ]
    },
    {
     "cell_type": "markdown",
     "metadata": {},
     "source": [
      "In this tutorial, we will cover:\n",
      "\n",
      "* Basic Python: Basic data types (Containers, Lists, Dictionaries, Sets, Tuples), Functions, Classes\n",
      "* Numpy: Arrays, Array indexing, Datatypes, Array math, Broadcasting\n",
      "* Matplotlib: Plotting, Subplots, Images\n",
      "* IPython: Creating notebooks, Typical workflows"
     ]
    },
    {
     "cell_type": "heading",
     "level": 2,
     "metadata": {},
     "source": [
      "Basics of Python"
     ]
    },
    {
     "cell_type": "markdown",
     "metadata": {},
     "source": [
      "Python is a high-level, dynamically typed multiparadigm programming language. Python code is often said to be almost like pseudocode, since it allows you to express very powerful ideas in very few lines of code while being very readable. As an example, here is an implementation of the classic quicksort algorithm in Python:"
     ]
    },
    {
     "cell_type": "code",
     "collapsed": false,
     "input": [
      "def quicksort(arr):\n",
      "    if len(arr) <= 1:\n",
      "        return arr\n",
      "    pivot = arr[len(arr) // 2]\n",
      "    left = [x for x in arr if x < pivot]\n",
      "    middle = [x for x in arr if x == pivot]\n",
      "    right = [x for x in arr if x > pivot]\n",
      "    return quicksort(left) + middle + quicksort(right)\n",
      "\n",
      "print quicksort([3,6,8,10,1,2,1])"
     ],
     "language": "python",
     "metadata": {},
     "outputs": [
      {
       "output_type": "stream",
       "stream": "stdout",
       "text": [
        "[1, 1, 2, 3, 6, 8, 10]\n"
       ]
      }
     ],
     "prompt_number": 1
    },
    {
     "cell_type": "heading",
     "level": 3,
     "metadata": {},
     "source": [
      "Python versions"
     ]
    },
    {
     "cell_type": "markdown",
     "metadata": {},
     "source": [
      "There are currently two different supported versions of Python, 2.7 and 3.4. Somewhat confusingly, Python 3.0 introduced many backwards-incompatible changes to the language, so code written for 2.7 may not work under 3.4 and vice versa. For this class all code will use Python 2.7.\n",
      "\n",
      "You can check your Python version at the command line by running `python --version`."
     ]
    },
    {
     "cell_type": "heading",
     "level": 3,
     "metadata": {},
     "source": [
      "Basic data types"
     ]
    },
    {
     "cell_type": "heading",
     "level": 4,
     "metadata": {},
     "source": [
      "Numbers"
     ]
    },
    {
     "cell_type": "markdown",
     "metadata": {},
     "source": [
      "Integers and floats work as you would expect from other languages:"
     ]
    },
    {
     "cell_type": "code",
     "collapsed": false,
     "input": [
      "x = 3\n",
      "print x, type(x)"
     ],
     "language": "python",
     "metadata": {},
     "outputs": [
      {
       "output_type": "stream",
       "stream": "stdout",
       "text": [
        "3 <type 'int'>\n"
       ]
      }
     ],
     "prompt_number": 13
    },
    {
     "cell_type": "code",
     "collapsed": false,
     "input": [
      "print x + 1   # Addition;\n",
      "print x - 1   # Subtraction;\n",
      "print x * 2   # Multiplication;\n",
      "print x ** 2  # Exponentiation;"
     ],
     "language": "python",
     "metadata": {},
     "outputs": [
      {
       "output_type": "stream",
       "stream": "stdout",
       "text": [
        "4\n",
        "2\n",
        "6\n",
        "9\n"
       ]
      }
     ],
     "prompt_number": 15
    },
    {
     "cell_type": "code",
     "collapsed": false,
     "input": [
      "x += 1\n",
      "print x  # Prints \"4\"\n",
      "x *= 2\n",
      "print x  # Prints \"8\""
     ],
     "language": "python",
     "metadata": {},
     "outputs": [
      {
       "output_type": "stream",
       "stream": "stdout",
       "text": [
        "4\n",
        "8\n"
       ]
      }
     ],
     "prompt_number": 16
    },
    {
     "cell_type": "code",
     "collapsed": false,
     "input": [
      "y = 2.5\n",
      "print type(y) # Prints \"<type 'float'>\"\n",
      "print y, y + 1, y * 2, y ** 2 # Prints \"2.5 3.5 5.0 6.25\""
     ],
     "language": "python",
     "metadata": {},
     "outputs": [
      {
       "output_type": "stream",
       "stream": "stdout",
       "text": [
        "<type 'float'>\n",
        "2.5 3.5 5.0 6.25\n"
       ]
      }
     ],
     "prompt_number": 17
    },
    {
     "cell_type": "markdown",
     "metadata": {},
     "source": [
      "Note that unlike many languages, Python does not have unary increment (x++) or decrement (x--) operators.\n",
      "\n",
      "Python also has built-in types for long integers and complex numbers; you can find all of the details in the [documentation](https://docs.python.org/2/library/stdtypes.html#numeric-types-int-float-long-complex)."
     ]
    },
    {
     "cell_type": "heading",
     "level": 4,
     "metadata": {},
     "source": [
      "Booleans"
     ]
    },
    {
     "cell_type": "markdown",
     "metadata": {},
     "source": [
      "Python implements all of the usual operators for Boolean logic, but uses English words rather than symbols (`&&`, `||`, etc.):"
     ]
    },
    {
     "cell_type": "code",
     "collapsed": false,
     "input": [
      "t, f = True, False\n",
      "print type(t) # Prints \"<type 'bool'>\""
     ],
     "language": "python",
     "metadata": {},
     "outputs": [
      {
       "output_type": "stream",
       "stream": "stdout",
       "text": [
        "<type 'bool'>\n"
       ]
      }
     ],
     "prompt_number": 139
    },
    {
     "cell_type": "markdown",
     "metadata": {},
     "source": [
      "Now we let's look at the operations:"
     ]
    },
    {
     "cell_type": "code",
     "collapsed": false,
     "input": [
      "print t and f # Logical AND;\n",
      "print t or f  # Logical OR;\n",
      "print not t   # Logical NOT;\n",
      "print t != f  # Logical XOR;"
     ],
     "language": "python",
     "metadata": {},
     "outputs": [
      {
       "output_type": "stream",
       "stream": "stdout",
       "text": [
        "False\n",
        "True\n",
        "False\n",
        "True\n"
       ]
      }
     ],
     "prompt_number": 140
    },
    {
     "cell_type": "heading",
     "level": 4,
     "metadata": {},
     "source": [
      "Strings"
     ]
    },
    {
     "cell_type": "code",
     "collapsed": false,
     "input": [
      "hello = 'hello'   # String literals can use single quotes\n",
      "world = \"world\"   # or double quotes; it does not matter.\n",
      "print hello, len(hello)"
     ],
     "language": "python",
     "metadata": {},
     "outputs": [
      {
       "output_type": "stream",
       "stream": "stdout",
       "text": [
        "hello 5\n"
       ]
      }
     ],
     "prompt_number": 142
    },
    {
     "cell_type": "code",
     "collapsed": false,
     "input": [
      "hw = hello + ' ' + world  # String concatenation\n",
      "print hw  # prints \"hello world\""
     ],
     "language": "python",
     "metadata": {},
     "outputs": [
      {
       "output_type": "stream",
       "stream": "stdout",
       "text": [
        "hello world\n"
       ]
      }
     ],
     "prompt_number": 143
    },
    {
     "cell_type": "code",
     "collapsed": false,
     "input": [
      "hw12 = '%s %s %d' % (hello, world, 12)  # sprintf style string formatting\n",
      "print hw12  # prints \"hello world 12\""
     ],
     "language": "python",
     "metadata": {},
     "outputs": [
      {
       "output_type": "stream",
       "stream": "stdout",
       "text": [
        "hello world 12\n"
       ]
      }
     ],
     "prompt_number": 144
    },
    {
     "cell_type": "markdown",
     "metadata": {},
     "source": [
      "String objects have a bunch of useful methods; for example:"
     ]
    },
    {
     "cell_type": "code",
     "collapsed": false,
     "input": [
      "s = \"hello\"\n",
      "print s.capitalize()  # Capitalize a string; prints \"Hello\"\n",
      "print s.upper()       # Convert a string to uppercase; prints \"HELLO\"\n",
      "print s.rjust(7)      # Right-justify a string, padding with spaces; prints \"  hello\"\n",
      "print s.center(7)     # Center a string, padding with spaces; prints \" hello \"\n",
      "print s.replace('l', '(ell)')  # Replace all instances of one substring with another;\n",
      "                               # prints \"he(ell)(ell)o\"\n",
      "print '  world '.strip()  # Strip leading and trailing whitespace; prints \"world\""
     ],
     "language": "python",
     "metadata": {},
     "outputs": [
      {
       "output_type": "stream",
       "stream": "stdout",
       "text": [
        "Hello\n",
        "HELLO\n",
        "  hello\n",
        " hello \n",
        "he(ell)(ell)o\n",
        "world\n"
       ]
      }
     ],
     "prompt_number": 26
    },
    {
     "cell_type": "markdown",
     "metadata": {},
     "source": [
      "You can find a list of all string methods in the [documentation](https://docs.python.org/2/library/stdtypes.html#string-methods)."
     ]
    },
    {
     "cell_type": "heading",
     "level": 3,
     "metadata": {},
     "source": [
      "Containers"
     ]
    },
    {
     "cell_type": "markdown",
     "metadata": {},
     "source": [
      "Python includes several built-in container types: lists, dictionaries, sets, and tuples."
     ]
    },
    {
     "cell_type": "heading",
     "level": 4,
     "metadata": {},
     "source": [
      "Lists"
     ]
    },
    {
     "cell_type": "markdown",
     "metadata": {},
     "source": [
      "A list is the Python equivalent of an array, but is resizeable and can contain elements of different types:"
     ]
    },
    {
     "cell_type": "code",
     "collapsed": false,
     "input": [
      "xs = [3, 1, 2]   # Create a list\n",
      "print xs, xs[2]\n",
      "print xs[-1]     # Negative indices count from the end of the list; prints \"2\""
     ],
     "language": "python",
     "metadata": {},
     "outputs": [
      {
       "output_type": "stream",
       "stream": "stdout",
       "text": [
        "[3, 1, 2] 2\n",
        "2\n"
       ]
      }
     ],
     "prompt_number": 146
    },
    {
     "cell_type": "code",
     "collapsed": false,
     "input": [
      "xs[2] = 'foo'    # Lists can contain elements of different types\n",
      "print xs"
     ],
     "language": "python",
     "metadata": {},
     "outputs": [
      {
       "output_type": "stream",
       "stream": "stdout",
       "text": [
        "[3, 1, 'foo']\n"
       ]
      }
     ],
     "prompt_number": 148
    },
    {
     "cell_type": "code",
     "collapsed": false,
     "input": [
      "xs.append('bar') # Add a new element to the end of the list\n",
      "print xs  "
     ],
     "language": "python",
     "metadata": {},
     "outputs": [
      {
       "output_type": "stream",
       "stream": "stdout",
       "text": [
        "[3, 1, 'foo', 'bar']\n"
       ]
      }
     ],
     "prompt_number": 150
    },
    {
     "cell_type": "code",
     "collapsed": false,
     "input": [
      "x = xs.pop()     # Remove and return the last element of the list\n",
      "print x, xs "
     ],
     "language": "python",
     "metadata": {},
     "outputs": [
      {
       "output_type": "stream",
       "stream": "stdout",
       "text": [
        "bar [3, 1, 'foo']\n"
       ]
      }
     ],
     "prompt_number": 152
    },
    {
     "cell_type": "markdown",
     "metadata": {},
     "source": [
      "As usual, you can find all the gory details about lists in the [documentation](https://docs.python.org/2/tutorial/datastructures.html#more-on-lists)."
     ]
    },
    {
     "cell_type": "heading",
     "level": 4,
     "metadata": {},
     "source": [
      "Slicing"
     ]
    },
    {
     "cell_type": "markdown",
     "metadata": {},
     "source": [
      "In addition to accessing list elements one at a time, Python provides concise syntax to access sublists; this is known as slicing:"
     ]
    },
    {
     "cell_type": "code",
     "collapsed": false,
     "input": [
      "nums = range(5)    # range is a built-in function that creates a list of integers\n",
      "print nums         # Prints \"[0, 1, 2, 3, 4]\"\n",
      "print nums[2:4]    # Get a slice from index 2 to 4 (exclusive); prints \"[2, 3]\"\n",
      "print nums[2:]     # Get a slice from index 2 to the end; prints \"[2, 3, 4]\"\n",
      "print nums[:2]     # Get a slice from the start to index 2 (exclusive); prints \"[0, 1]\"\n",
      "print nums[:]      # Get a slice of the whole list; prints [\"0, 1, 2, 3, 4]\"\n",
      "print nums[:-1]    # Slice indices can be negative; prints [\"0, 1, 2, 3]\"\n",
      "nums[2:4] = [8, 9] # Assign a new sublist to a slice\n",
      "print nums         # Prints \"[0, 1, 8, 9, 4]\""
     ],
     "language": "python",
     "metadata": {},
     "outputs": [
      {
       "output_type": "stream",
       "stream": "stdout",
       "text": [
        "[0, 1, 2, 3, 4]\n",
        "[2, 3]\n",
        "[2, 3, 4]\n",
        "[0, 1]\n",
        "[0, 1, 2, 3, 4]\n",
        "[0, 1, 2, 3]\n",
        "[0, 1, 8, 9, 4]\n"
       ]
      }
     ],
     "prompt_number": 36
    },
    {
     "cell_type": "heading",
     "level": 4,
     "metadata": {},
     "source": [
      "Loops"
     ]
    },
    {
     "cell_type": "markdown",
     "metadata": {},
     "source": [
      "You can loop over the elements of a list like this:"
     ]
    },
    {
     "cell_type": "code",
     "collapsed": false,
     "input": [
      "animals = ['cat', 'dog', 'monkey']\n",
      "for animal in animals:\n",
      "    print animal"
     ],
     "language": "python",
     "metadata": {},
     "outputs": [
      {
       "output_type": "stream",
       "stream": "stdout",
       "text": [
        "cat\n",
        "dog\n",
        "monkey\n"
       ]
      }
     ],
     "prompt_number": 153
    },
    {
     "cell_type": "markdown",
     "metadata": {},
     "source": [
      "If you want access to the index of each element within the body of a loop, use the built-in `enumerate` function:"
     ]
    },
    {
     "cell_type": "code",
     "collapsed": false,
     "input": [
      "animals = ['cat', 'dog', 'monkey']\n",
      "for idx, animal in enumerate(animals):\n",
      "    print '#%d: %s' % (idx + 1, animal)"
     ],
     "language": "python",
     "metadata": {},
     "outputs": [
      {
       "output_type": "stream",
       "stream": "stdout",
       "text": [
        "#1: cat\n",
        "#2: dog\n",
        "#3: monkey\n"
       ]
      }
     ],
     "prompt_number": 154
    },
    {
     "cell_type": "heading",
     "level": 4,
     "metadata": {},
     "source": [
      "List comprehensions:"
     ]
    },
    {
     "cell_type": "markdown",
     "metadata": {},
     "source": [
      "When programming, frequently we want to transform one type of data into another. As a simple example, consider the following code that computes square numbers:"
     ]
    },
    {
     "cell_type": "code",
     "collapsed": false,
     "input": [
      "nums = [0, 1, 2, 3, 4]\n",
      "squares = []\n",
      "for x in nums:\n",
      "    squares.append(x ** 2)\n",
      "print squares"
     ],
     "language": "python",
     "metadata": {},
     "outputs": [
      {
       "output_type": "stream",
       "stream": "stdout",
       "text": [
        "[0, 1, 4, 9, 16]\n"
       ]
      }
     ],
     "prompt_number": 155
    },
    {
     "cell_type": "markdown",
     "metadata": {},
     "source": [
      "You can make this code simpler using a list comprehension:"
     ]
    },
    {
     "cell_type": "code",
     "collapsed": false,
     "input": [
      "nums = [0, 1, 2, 3, 4]\n",
      "squares = [x ** 2 for x in nums]\n",
      "print squares"
     ],
     "language": "python",
     "metadata": {},
     "outputs": [
      {
       "output_type": "stream",
       "stream": "stdout",
       "text": [
        "[0, 1, 4, 9, 16]\n"
       ]
      }
     ],
     "prompt_number": 156
    },
    {
     "cell_type": "markdown",
     "metadata": {},
     "source": [
      "List comprehensions can also contain conditions:"
     ]
    },
    {
     "cell_type": "code",
     "collapsed": false,
     "input": [
      "nums = [0, 1, 2, 3, 4]\n",
      "even_squares = [x ** 2 for x in nums if x % 2 == 0]\n",
      "print even_squares"
     ],
     "language": "python",
     "metadata": {},
     "outputs": [
      {
       "output_type": "stream",
       "stream": "stdout",
       "text": [
        "[0, 4, 16]\n"
       ]
      }
     ],
     "prompt_number": 157
    },
    {
     "cell_type": "heading",
     "level": 4,
     "metadata": {},
     "source": [
      "Dictionaries"
     ]
    },
    {
     "cell_type": "markdown",
     "metadata": {},
     "source": [
      "A dictionary stores (key, value) pairs, similar to a `Map` in Java or an object in Javascript. You can use it like this:"
     ]
    },
    {
     "cell_type": "code",
     "collapsed": false,
     "input": [
      "d = {'cat': 'cute', 'dog': 'furry'}  # Create a new dictionary with some data\n",
      "print d['cat']       # Get an entry from a dictionary; prints \"cute\"\n",
      "print 'cat' in d     # Check if a dictionary has a given key; prints \"True\""
     ],
     "language": "python",
     "metadata": {},
     "outputs": [
      {
       "output_type": "stream",
       "stream": "stdout",
       "text": [
        "cute\n",
        "True\n"
       ]
      }
     ],
     "prompt_number": 158
    },
    {
     "cell_type": "code",
     "collapsed": false,
     "input": [
      "d['fish'] = 'wet'    # Set an entry in a dictionary\n",
      "print d['fish']      # Prints \"wet\""
     ],
     "language": "python",
     "metadata": {},
     "outputs": [
      {
       "output_type": "stream",
       "stream": "stdout",
       "text": [
        "wet\n"
       ]
      }
     ],
     "prompt_number": 159
    },
    {
     "cell_type": "code",
     "collapsed": false,
     "input": [
      "print d['monkey']  # KeyError: 'monkey' not a key of d"
     ],
     "language": "python",
     "metadata": {},
     "outputs": [
      {
       "ename": "KeyError",
       "evalue": "'monkey'",
       "output_type": "pyerr",
       "traceback": [
        "\u001b[0;31m---------------------------------------------------------------------------\u001b[0m\n\u001b[0;31mKeyError\u001b[0m                                  Traceback (most recent call last)",
        "\u001b[0;32m<ipython-input-161-85f0c5ba0fa7>\u001b[0m in \u001b[0;36m<module>\u001b[0;34m()\u001b[0m\n\u001b[0;32m----> 1\u001b[0;31m \u001b[0;32mprint\u001b[0m \u001b[0md\u001b[0m\u001b[0;34m[\u001b[0m\u001b[0;34m'monkey'\u001b[0m\u001b[0;34m]\u001b[0m  \u001b[0;31m# KeyError: 'monkey' not a key of d\u001b[0m\u001b[0;34m\u001b[0m\u001b[0m\n\u001b[0m",
        "\u001b[0;31mKeyError\u001b[0m: 'monkey'"
       ]
      }
     ],
     "prompt_number": 161
    },
    {
     "cell_type": "code",
     "collapsed": false,
     "input": [
      "print d.get('monkey', 'N/A')  # Get an element with a default; prints \"N/A\"\n",
      "print d.get('fish', 'N/A')    # Get an element with a default; prints \"wet\""
     ],
     "language": "python",
     "metadata": {},
     "outputs": [
      {
       "output_type": "stream",
       "stream": "stdout",
       "text": [
        "N/A\n",
        "wet\n"
       ]
      }
     ],
     "prompt_number": 162
    },
    {
     "cell_type": "code",
     "collapsed": false,
     "input": [
      "del d['fish']        # Remove an element from a dictionary\n",
      "print d.get('fish', 'N/A') # \"fish\" is no longer a key; prints \"N/A\""
     ],
     "language": "python",
     "metadata": {},
     "outputs": [
      {
       "output_type": "stream",
       "stream": "stdout",
       "text": [
        "N/A\n"
       ]
      }
     ],
     "prompt_number": 163
    },
    {
     "cell_type": "markdown",
     "metadata": {},
     "source": [
      "You can find all you need to know about dictionaries in the [documentation](https://docs.python.org/2/library/stdtypes.html#dict)."
     ]
    },
    {
     "cell_type": "markdown",
     "metadata": {},
     "source": [
      "It is easy to iterate over the keys in a dictionary:"
     ]
    },
    {
     "cell_type": "code",
     "collapsed": false,
     "input": [
      "d = {'person': 2, 'cat': 4, 'spider': 8}\n",
      "for animal in d:\n",
      "    legs = d[animal]\n",
      "    print 'A %s has %d legs' % (animal, legs)"
     ],
     "language": "python",
     "metadata": {},
     "outputs": [
      {
       "output_type": "stream",
       "stream": "stdout",
       "text": [
        "A person has 2 legs\n",
        "A spider has 8 legs\n",
        "A cat has 4 legs\n"
       ]
      }
     ],
     "prompt_number": 164
    },
    {
     "cell_type": "markdown",
     "metadata": {},
     "source": [
      "If you want access to keys and their corresponding values, use the iteritems method:"
     ]
    },
    {
     "cell_type": "code",
     "collapsed": false,
     "input": [
      "d = {'person': 2, 'cat': 4, 'spider': 8}\n",
      "for animal, legs in d.iteritems():\n",
      "    print 'A %s has %d legs' % (animal, legs)"
     ],
     "language": "python",
     "metadata": {},
     "outputs": [
      {
       "output_type": "stream",
       "stream": "stdout",
       "text": [
        "A person has 2 legs\n",
        "A spider has 8 legs\n",
        "A cat has 4 legs\n"
       ]
      }
     ],
     "prompt_number": 165
    },
    {
     "cell_type": "markdown",
     "metadata": {},
     "source": [
      "Dictionary comprehensions: These are similar to list comprehensions, but allow you to easily construct dictionaries. For example:"
     ]
    },
    {
     "cell_type": "code",
     "collapsed": false,
     "input": [
      "nums = [0, 1, 2, 3, 4]\n",
      "even_num_to_square = {x: x ** 2 for x in nums if x % 2 == 0}\n",
      "print even_num_to_square"
     ],
     "language": "python",
     "metadata": {},
     "outputs": [
      {
       "output_type": "stream",
       "stream": "stdout",
       "text": [
        "{0: 0, 2: 4, 4: 16}\n"
       ]
      }
     ],
     "prompt_number": 166
    },
    {
     "cell_type": "heading",
     "level": 4,
     "metadata": {},
     "source": [
      "Sets"
     ]
    },
    {
     "cell_type": "markdown",
     "metadata": {},
     "source": [
      "A set is an unordered collection of distinct elements. As a simple example, consider the following:"
     ]
    },
    {
     "cell_type": "code",
     "collapsed": false,
     "input": [
      "animals = {'cat', 'dog'}\n",
      "print 'cat' in animals   # Check if an element is in a set; prints \"True\"\n",
      "print 'fish' in animals  # prints \"False\"\n"
     ],
     "language": "python",
     "metadata": {},
     "outputs": [
      {
       "output_type": "stream",
       "stream": "stdout",
       "text": [
        "True\n",
        "False\n"
       ]
      }
     ],
     "prompt_number": 167
    },
    {
     "cell_type": "code",
     "collapsed": false,
     "input": [
      "animals.add('fish')      # Add an element to a set\n",
      "print 'fish' in animals\n",
      "print len(animals)       # Number of elements in a set;"
     ],
     "language": "python",
     "metadata": {},
     "outputs": [
      {
       "output_type": "stream",
       "stream": "stdout",
       "text": [
        "True\n",
        "3\n"
       ]
      }
     ],
     "prompt_number": 170
    },
    {
     "cell_type": "code",
     "collapsed": false,
     "input": [
      "animals.add('cat')       # Adding an element that is already in the set does nothing\n",
      "print len(animals)       \n",
      "animals.remove('cat')    # Remove an element from a set\n",
      "print len(animals)       "
     ],
     "language": "python",
     "metadata": {},
     "outputs": [
      {
       "output_type": "stream",
       "stream": "stdout",
       "text": [
        "3\n",
        "2\n"
       ]
      }
     ],
     "prompt_number": 171
    },
    {
     "cell_type": "markdown",
     "metadata": {},
     "source": [
      "_Loops_: Iterating over a set has the same syntax as iterating over a list; however since sets are unordered, you cannot make assumptions about the order in which you visit the elements of the set:"
     ]
    },
    {
     "cell_type": "code",
     "collapsed": false,
     "input": [
      "animals = {'cat', 'dog', 'fish'}\n",
      "for idx, animal in enumerate(animals):\n",
      "    print '#%d: %s' % (idx + 1, animal)\n",
      "# Prints \"#1: fish\", \"#2: dog\", \"#3: cat\""
     ],
     "language": "python",
     "metadata": {},
     "outputs": [
      {
       "output_type": "stream",
       "stream": "stdout",
       "text": [
        "#1: fish\n",
        "#2: dog\n",
        "#3: cat\n"
       ]
      }
     ],
     "prompt_number": 63
    },
    {
     "cell_type": "markdown",
     "metadata": {},
     "source": [
      "Set comprehensions: Like lists and dictionaries, we can easily construct sets using set comprehensions:"
     ]
    },
    {
     "cell_type": "code",
     "collapsed": false,
     "input": [
      "from math import sqrt\n",
      "print {int(sqrt(x)) for x in range(30)}"
     ],
     "language": "python",
     "metadata": {},
     "outputs": [
      {
       "output_type": "stream",
       "stream": "stdout",
       "text": [
        "set([0, 1, 2, 3, 4, 5])\n"
       ]
      }
     ],
     "prompt_number": 172
    },
    {
     "cell_type": "heading",
     "level": 4,
     "metadata": {},
     "source": [
      "Tuples"
     ]
    },
    {
     "cell_type": "markdown",
     "metadata": {},
     "source": [
      "A tuple is an (immutable) ordered list of values. A tuple is in many ways similar to a list; one of the most important differences is that tuples can be used as keys in dictionaries and as elements of sets, while lists cannot. Here is a trivial example:"
     ]
    },
    {
     "cell_type": "code",
     "collapsed": false,
     "input": [
      "d = {(x, x + 1): x for x in range(10)}  # Create a dictionary with tuple keys\n",
      "t = (5, 6)       # Create a tuple\n",
      "print type(t)\n",
      "print d[t]       \n",
      "print d[(1, 2)]"
     ],
     "language": "python",
     "metadata": {},
     "outputs": [
      {
       "output_type": "stream",
       "stream": "stdout",
       "text": [
        "<type 'tuple'>\n",
        "5\n",
        "1\n"
       ]
      }
     ],
     "prompt_number": 173
    },
    {
     "cell_type": "code",
     "collapsed": false,
     "input": [
      "t[0] = 1"
     ],
     "language": "python",
     "metadata": {},
     "outputs": [
      {
       "ename": "TypeError",
       "evalue": "'tuple' object does not support item assignment",
       "output_type": "pyerr",
       "traceback": [
        "\u001b[0;31m---------------------------------------------------------------------------\u001b[0m\n\u001b[0;31mTypeError\u001b[0m                                 Traceback (most recent call last)",
        "\u001b[0;32m<ipython-input-176-0a69537257d5>\u001b[0m in \u001b[0;36m<module>\u001b[0;34m()\u001b[0m\n\u001b[0;32m----> 1\u001b[0;31m \u001b[0mt\u001b[0m\u001b[0;34m[\u001b[0m\u001b[0;36m0\u001b[0m\u001b[0;34m]\u001b[0m \u001b[0;34m=\u001b[0m \u001b[0;36m1\u001b[0m\u001b[0;34m\u001b[0m\u001b[0m\n\u001b[0m",
        "\u001b[0;31mTypeError\u001b[0m: 'tuple' object does not support item assignment"
       ]
      }
     ],
     "prompt_number": 176
    },
    {
     "cell_type": "heading",
     "level": 3,
     "metadata": {},
     "source": [
      "Functions"
     ]
    },
    {
     "cell_type": "markdown",
     "metadata": {},
     "source": [
      "Python functions are defined using the `def` keyword. For example:"
     ]
    },
    {
     "cell_type": "code",
     "collapsed": false,
     "input": [
      "def sign(x):\n",
      "    if x > 0:\n",
      "        return 'positive'\n",
      "    elif x < 0:\n",
      "        return 'negative'\n",
      "    else:\n",
      "        return 'zero'\n",
      "\n",
      "for x in [-1, 0, 1]:\n",
      "    print sign(x)"
     ],
     "language": "python",
     "metadata": {},
     "outputs": [
      {
       "output_type": "stream",
       "stream": "stdout",
       "text": [
        "negative\n",
        "zero\n",
        "positive\n"
       ]
      }
     ],
     "prompt_number": 178
    },
    {
     "cell_type": "markdown",
     "metadata": {},
     "source": [
      "We will often define functions to take optional keyword arguments, like this:"
     ]
    },
    {
     "cell_type": "code",
     "collapsed": false,
     "input": [
      "def hello(name, loud=False):\n",
      "    if loud:\n",
      "        print 'HELLO, %s' % name.upper()\n",
      "    else:\n",
      "        print 'Hello, %s!' % name\n",
      "\n",
      "hello('Bob')\n",
      "hello('Fred', loud=True)"
     ],
     "language": "python",
     "metadata": {},
     "outputs": [
      {
       "output_type": "stream",
       "stream": "stdout",
       "text": [
        "Hello, Bob!\n",
        "HELLO, FRED\n"
       ]
      }
     ],
     "prompt_number": 179
    },
    {
     "cell_type": "heading",
     "level": 3,
     "metadata": {},
     "source": [
      "Classes"
     ]
    },
    {
     "cell_type": "markdown",
     "metadata": {},
     "source": [
      "The syntax for defining classes in Python is straightforward:"
     ]
    },
    {
     "cell_type": "code",
     "collapsed": false,
     "input": [
      "class Greeter:\n",
      "\n",
      "    # Constructor\n",
      "    def __init__(self, name):\n",
      "        self.name = name  # Create an instance variable\n",
      "\n",
      "    # Instance method\n",
      "    def greet(self, loud=False):\n",
      "        if loud:\n",
      "            print 'HELLO, %s!' % self.name.upper()\n",
      "        else:\n",
      "            print 'Hello, %s' % self.name\n",
      "\n",
      "g = Greeter('Fred')  # Construct an instance of the Greeter class\n",
      "g.greet()            # Call an instance method; prints \"Hello, Fred\"\n",
      "g.greet(loud=True)   # Call an instance method; prints \"HELLO, FRED!\""
     ],
     "language": "python",
     "metadata": {},
     "outputs": [
      {
       "output_type": "stream",
       "stream": "stdout",
       "text": [
        "Hello, Fred\n",
        "HELLO, FRED!\n"
       ]
      }
     ],
     "prompt_number": 76
    },
    {
     "cell_type": "heading",
     "level": 2,
     "metadata": {},
     "source": [
      "Numpy"
     ]
    },
    {
     "cell_type": "markdown",
     "metadata": {},
     "source": [
      "Numpy is the core library for scientific computing in Python. It provides a high-performance multidimensional array object, and tools for working with these arrays. If you are already familiar with MATLAB, you might find this [tutorial](http://wiki.scipy.org/NumPy_for_Matlab_Users) useful to get started with Numpy."
     ]
    },
    {
     "cell_type": "markdown",
     "metadata": {},
     "source": [
      "To use Numpy, we first need to import the `numpy` package:"
     ]
    },
    {
     "cell_type": "code",
     "collapsed": false,
     "input": [
      "import numpy as np"
     ],
     "language": "python",
     "metadata": {},
     "outputs": [],
     "prompt_number": 181
    },
    {
     "cell_type": "heading",
     "level": 3,
     "metadata": {},
     "source": [
      "Arrays"
     ]
    },
    {
     "cell_type": "markdown",
     "metadata": {},
     "source": [
      "A numpy array is a grid of values, all of the same type, and is indexed by a tuple of nonnegative integers. The number of dimensions is the rank of the array; the shape of an array is a tuple of integers giving the size of the array along each dimension."
     ]
    },
    {
     "cell_type": "markdown",
     "metadata": {},
     "source": [
      "We can initialize numpy arrays from nested Python lists, and access elements using square brackets:"
     ]
    },
    {
     "cell_type": "code",
     "collapsed": false,
     "input": [
      "a = np.array([1, 2, 3])  # Create a rank 1 array\n",
      "print type(a), a.shape, a[0], a[1], a[2]\n",
      "a[0] = 5                 # Change an element of the array\n",
      "print a                  "
     ],
     "language": "python",
     "metadata": {},
     "outputs": [
      {
       "output_type": "stream",
       "stream": "stdout",
       "text": [
        "<type 'numpy.ndarray'> (3,) 1 2 3\n",
        "[5 2 3]\n"
       ]
      }
     ],
     "prompt_number": 196
    },
    {
     "cell_type": "code",
     "collapsed": false,
     "input": [
      "b = np.array([[1,2,3],[4,5,6]])   # Create a rank 2 array\n",
      "print b"
     ],
     "language": "python",
     "metadata": {},
     "outputs": [
      {
       "output_type": "stream",
       "stream": "stdout",
       "text": [
        "[[1 2 3]\n",
        " [4 5 6]]\n"
       ]
      }
     ],
     "prompt_number": 198
    },
    {
     "cell_type": "code",
     "collapsed": false,
     "input": [
      "print b.shape                   \n",
      "print b[0, 0], b[0, 1], b[1, 0]"
     ],
     "language": "python",
     "metadata": {},
     "outputs": [
      {
       "output_type": "stream",
       "stream": "stdout",
       "text": [
        "(2, 3)\n",
        "1 2 4\n"
       ]
      }
     ],
     "prompt_number": 199
    },
    {
     "cell_type": "markdown",
     "metadata": {},
     "source": [
      "Numpy also provides many functions to create arrays:"
     ]
    },
    {
     "cell_type": "code",
     "collapsed": false,
     "input": [
      "a = np.zeros((2,2))  # Create an array of all zeros\n",
      "print a"
     ],
     "language": "python",
     "metadata": {},
     "outputs": [
      {
       "output_type": "stream",
       "stream": "stdout",
       "text": [
        "[[ 0.  0.]\n",
        " [ 0.  0.]]\n"
       ]
      }
     ],
     "prompt_number": 186
    },
    {
     "cell_type": "code",
     "collapsed": false,
     "input": [
      "b = np.ones((1,2))   # Create an array of all ones\n",
      "print b"
     ],
     "language": "python",
     "metadata": {},
     "outputs": [
      {
       "output_type": "stream",
       "stream": "stdout",
       "text": [
        "[[ 1.  1.]]\n"
       ]
      }
     ],
     "prompt_number": 187
    },
    {
     "cell_type": "code",
     "collapsed": false,
     "input": [
      "c = np.full((2,2), 7) # Create a constant array\n",
      "print c "
     ],
     "language": "python",
     "metadata": {},
     "outputs": [
      {
       "output_type": "stream",
       "stream": "stdout",
       "text": [
        "[[ 7.  7.]\n",
        " [ 7.  7.]]\n"
       ]
      }
     ],
     "prompt_number": 188
    },
    {
     "cell_type": "code",
     "collapsed": false,
     "input": [
      "d = np.eye(2)        # Create a 2x2 identity matrix\n",
      "print d"
     ],
     "language": "python",
     "metadata": {},
     "outputs": [
      {
       "output_type": "stream",
       "stream": "stdout",
       "text": [
        "[[ 1.  0.]\n",
        " [ 0.  1.]]\n"
       ]
      }
     ],
     "prompt_number": 190
    },
    {
     "cell_type": "code",
     "collapsed": false,
     "input": [
      "e = np.random.random((2,2)) # Create an array filled with random values\n",
      "print e"
     ],
     "language": "python",
     "metadata": {},
     "outputs": [
      {
       "output_type": "stream",
       "stream": "stdout",
       "text": [
        "[[ 0.09477679  0.79267634]\n",
        " [ 0.78291274  0.38962829]]\n"
       ]
      }
     ],
     "prompt_number": 192
    },
    {
     "cell_type": "heading",
     "level": 3,
     "metadata": {},
     "source": [
      "Array indexing"
     ]
    },
    {
     "cell_type": "markdown",
     "metadata": {},
     "source": [
      "Numpy offers several ways to index into arrays."
     ]
    },
    {
     "cell_type": "markdown",
     "metadata": {},
     "source": [
      "Slicing: Similar to Python lists, numpy arrays can be sliced. Since arrays may be multidimensional, you must specify a slice for each dimension of the array:"
     ]
    },
    {
     "cell_type": "code",
     "collapsed": false,
     "input": [
      "import numpy as np\n",
      "\n",
      "# Create the following rank 2 array with shape (3, 4)\n",
      "# [[ 1  2  3  4]\n",
      "#  [ 5  6  7  8]\n",
      "#  [ 9 10 11 12]]\n",
      "a = np.array([[1,2,3,4], [5,6,7,8], [9,10,11,12]])\n",
      "\n",
      "# Use slicing to pull out the subarray consisting of the first 2 rows\n",
      "# and columns 1 and 2; b is the following array of shape (2, 2):\n",
      "# [[2 3]\n",
      "#  [6 7]]\n",
      "b = a[:2, 1:3]\n",
      "print b"
     ],
     "language": "python",
     "metadata": {},
     "outputs": [
      {
       "output_type": "stream",
       "stream": "stdout",
       "text": [
        "[[2 3]\n",
        " [6 7]]\n"
       ]
      }
     ],
     "prompt_number": 203
    },
    {
     "cell_type": "markdown",
     "metadata": {},
     "source": [
      "A slice of an array is a view into the same data, so modifying it will modify the original array."
     ]
    },
    {
     "cell_type": "code",
     "collapsed": false,
     "input": [
      "print a[0, 1]  \n",
      "b[0, 0] = 77    # b[0, 0] is the same piece of data as a[0, 1]\n",
      "print a[0, 1] "
     ],
     "language": "python",
     "metadata": {},
     "outputs": [
      {
       "output_type": "stream",
       "stream": "stdout",
       "text": [
        "2\n",
        "77\n"
       ]
      }
     ],
     "prompt_number": 202
    },
    {
     "cell_type": "markdown",
     "metadata": {},
     "source": [
      "You can also mix integer indexing with slice indexing. However, doing so will yield an array of lower rank than the original array. Note that this is quite different from the way that MATLAB handles array slicing:"
     ]
    },
    {
     "cell_type": "code",
     "collapsed": false,
     "input": [
      "# Create the following rank 2 array with shape (3, 4)\n",
      "a = np.array([[1,2,3,4], [5,6,7,8], [9,10,11,12]])\n",
      "print a"
     ],
     "language": "python",
     "metadata": {},
     "outputs": [
      {
       "output_type": "stream",
       "stream": "stdout",
       "text": [
        "[[ 1  2  3  4]\n",
        " [ 5  6  7  8]\n",
        " [ 9 10 11 12]]\n"
       ]
      }
     ],
     "prompt_number": 209
    },
    {
     "cell_type": "markdown",
     "metadata": {},
     "source": [
      "Two ways of accessing the data in the middle row of the array.\n",
      "Mixing integer indexing with slices yields an array of lower rank,\n",
      "while using only slices yields an array of the same rank as the\n",
      "original array:"
     ]
    },
    {
     "cell_type": "code",
     "collapsed": false,
     "input": [
      "row_r1 = a[1, :]    # Rank 1 view of the second row of a  \n",
      "row_r2 = a[1:2, :]  # Rank 2 view of the second row of a\n",
      "row_r3 = a[[1], :]  # Rank 2 view of the second row of a\n",
      "print row_r1, row_r1.shape \n",
      "print row_r2, row_r2.shape\n",
      "print row_r3, row_r3.shape"
     ],
     "language": "python",
     "metadata": {},
     "outputs": [
      {
       "output_type": "stream",
       "stream": "stdout",
       "text": [
        "[ 4  5 26] (3,)\n",
        "[[ 4  5 26]] (1, 3)\n",
        "[[ 4  5 26]] (1, 3)\n"
       ]
      }
     ],
     "prompt_number": 219
    },
    {
     "cell_type": "code",
     "collapsed": false,
     "input": [
      "# We can make the same distinction when accessing columns of an array:\n",
      "col_r1 = a[:, 1]\n",
      "col_r2 = a[:, 1:2]\n",
      "print col_r1, col_r1.shape\n",
      "print\n",
      "print col_r2, col_r2.shape"
     ],
     "language": "python",
     "metadata": {},
     "outputs": [
      {
       "output_type": "stream",
       "stream": "stdout",
       "text": [
        "[ 2  6 10] (3,)\n",
        "\n",
        "[[ 2]\n",
        " [ 6]\n",
        " [10]] (3, 1)\n"
       ]
      }
     ],
     "prompt_number": 212
    },
    {
     "cell_type": "markdown",
     "metadata": {},
     "source": [
      "Integer array indexing: When you index into numpy arrays using slicing, the resulting array view will always be a subarray of the original array. In contrast, integer array indexing allows you to construct arbitrary arrays using the data from another array. Here is an example:"
     ]
    },
    {
     "cell_type": "code",
     "collapsed": false,
     "input": [
      "a = np.array([[1,2], [3, 4], [5, 6]])\n",
      "\n",
      "# An example of integer array indexing.\n",
      "# The returned array will have shape (3,) and \n",
      "print a[[0, 1, 2], [0, 1, 0]]\n",
      "\n",
      "# The above example of integer array indexing is equivalent to this:\n",
      "print np.array([a[0, 0], a[1, 1], a[2, 0]])"
     ],
     "language": "python",
     "metadata": {},
     "outputs": [
      {
       "output_type": "stream",
       "stream": "stdout",
       "text": [
        "[1 4 5]\n",
        "[1 4 5]\n"
       ]
      }
     ],
     "prompt_number": 220
    },
    {
     "cell_type": "code",
     "collapsed": false,
     "input": [
      "# When using integer array indexing, you can reuse the same\n",
      "# element from the source array:\n",
      "print a[[0, 0], [1, 1]]\n",
      "\n",
      "# Equivalent to the previous integer array indexing example\n",
      "print np.array([a[0, 1], a[0, 1]])"
     ],
     "language": "python",
     "metadata": {},
     "outputs": [
      {
       "output_type": "stream",
       "stream": "stdout",
       "text": [
        "[2 2]\n",
        "[2 2]\n"
       ]
      }
     ],
     "prompt_number": 221
    },
    {
     "cell_type": "markdown",
     "metadata": {},
     "source": [
      "One useful trick with integer array indexing is selecting or mutating one element from each row of a matrix:"
     ]
    },
    {
     "cell_type": "code",
     "collapsed": false,
     "input": [
      "# Create a new array from which we will select elements\n",
      "a = np.array([[1,2,3], [4,5,6], [7,8,9], [10, 11, 12]])\n",
      "print a"
     ],
     "language": "python",
     "metadata": {},
     "outputs": [
      {
       "output_type": "stream",
       "stream": "stdout",
       "text": [
        "[[ 1  2  3]\n",
        " [ 4  5  6]\n",
        " [ 7  8  9]\n",
        " [10 11 12]]\n"
       ]
      }
     ],
     "prompt_number": 215
    },
    {
     "cell_type": "code",
     "collapsed": false,
     "input": [
      "# Create an array of indices\n",
      "b = np.array([0, 2, 0, 1])\n",
      "\n",
      "# Select one element from each row of a using the indices in b\n",
      "print a[np.arange(4), b]  # Prints \"[ 1  6  7 11]\""
     ],
     "language": "python",
     "metadata": {},
     "outputs": [
      {
       "output_type": "stream",
       "stream": "stdout",
       "text": [
        "[ 1  6  7 11]\n"
       ]
      }
     ],
     "prompt_number": 216
    },
    {
     "cell_type": "code",
     "collapsed": false,
     "input": [
      "# Mutate one element from each row of a using the indices in b\n",
      "a[np.arange(4), b] += 10\n",
      "print a"
     ],
     "language": "python",
     "metadata": {},
     "outputs": [
      {
       "output_type": "stream",
       "stream": "stdout",
       "text": [
        "[[11  2  3]\n",
        " [ 4  5 16]\n",
        " [17  8  9]\n",
        " [10 21 12]]\n"
       ]
      }
     ],
     "prompt_number": 218
    },
    {
     "cell_type": "markdown",
     "metadata": {},
     "source": [
      "Boolean array indexing: Boolean array indexing lets you pick out arbitrary elements of an array. Frequently this type of indexing is used to select the elements of an array that satisfy some condition. Here is an example:"
     ]
    },
    {
     "cell_type": "code",
     "collapsed": false,
     "input": [
      "import numpy as np\n",
      "\n",
      "a = np.array([[1,2], [3, 4], [5, 6]])\n",
      "\n",
      "bool_idx = (a > 2)  # Find the elements of a that are bigger than 2;\n",
      "                    # this returns a numpy array of Booleans of the same\n",
      "                    # shape as a, where each slot of bool_idx tells\n",
      "                    # whether that element of a is > 2.\n",
      "\n",
      "print bool_idx"
     ],
     "language": "python",
     "metadata": {},
     "outputs": [
      {
       "output_type": "stream",
       "stream": "stdout",
       "text": [
        "[[False False]\n",
        " [ True  True]\n",
        " [ True  True]]\n"
       ]
      }
     ],
     "prompt_number": 223
    },
    {
     "cell_type": "code",
     "collapsed": false,
     "input": [
      "# We use boolean array indexing to construct a rank 1 array\n",
      "# consisting of the elements of a corresponding to the True values\n",
      "# of bool_idx\n",
      "print a[bool_idx]\n",
      "\n",
      "# We can do all of the above in a single concise statement:\n",
      "print a[a > 2]"
     ],
     "language": "python",
     "metadata": {},
     "outputs": [
      {
       "output_type": "stream",
       "stream": "stdout",
       "text": [
        "[3 4 5 6]\n",
        "[3 4 5 6]\n"
       ]
      }
     ],
     "prompt_number": 225
    },
    {
     "cell_type": "markdown",
     "metadata": {},
     "source": [
      "For brevity we have left out a lot of details about numpy array indexing; if you want to know more you should read the documentation."
     ]
    },
    {
     "cell_type": "heading",
     "level": 3,
     "metadata": {},
     "source": [
      "Datatypes"
     ]
    },
    {
     "cell_type": "markdown",
     "metadata": {},
     "source": [
      "Every numpy array is a grid of elements of the same type. Numpy provides a large set of numeric datatypes that you can use to construct arrays. Numpy tries to guess a datatype when you create an array, but functions that construct arrays usually also include an optional argument to explicitly specify the datatype. Here is an example:"
     ]
    },
    {
     "cell_type": "code",
     "collapsed": false,
     "input": [
      "x = np.array([1, 2])  # Let numpy choose the datatype\n",
      "y = np.array([1.0, 2.0])  # Let numpy choose the datatype\n",
      "z = np.array([1, 2], dtype=np.int64)  # Force a particular datatype\n",
      "\n",
      "print x.dtype, y.dtype, z.dtype"
     ],
     "language": "python",
     "metadata": {},
     "outputs": [
      {
       "output_type": "stream",
       "stream": "stdout",
       "text": [
        "int64 float64 int64\n"
       ]
      }
     ],
     "prompt_number": 226
    },
    {
     "cell_type": "markdown",
     "metadata": {},
     "source": [
      "You can read all about numpy datatypes in the [documentation](http://docs.scipy.org/doc/numpy/reference/arrays.dtypes.html)."
     ]
    },
    {
     "cell_type": "heading",
     "level": 3,
     "metadata": {},
     "source": [
      "Array math"
     ]
    },
    {
     "cell_type": "markdown",
     "metadata": {},
     "source": [
      "Basic mathematical functions operate elementwise on arrays, and are available both as operator overloads and as functions in the numpy module:"
     ]
    },
    {
     "cell_type": "code",
     "collapsed": false,
     "input": [
      "x = np.array([[1,2],[3,4]], dtype=np.float64)\n",
      "y = np.array([[5,6],[7,8]], dtype=np.float64)\n",
      "\n",
      "# Elementwise sum; both produce the array\n",
      "print x + y\n",
      "print np.add(x, y)"
     ],
     "language": "python",
     "metadata": {},
     "outputs": [
      {
       "output_type": "stream",
       "stream": "stdout",
       "text": [
        "[[  6.   8.]\n",
        " [ 10.  12.]]\n",
        "[[  6.   8.]\n",
        " [ 10.  12.]]\n"
       ]
      }
     ],
     "prompt_number": 227
    },
    {
     "cell_type": "code",
     "collapsed": false,
     "input": [
      "# Elementwise difference; both produce the array\n",
      "print x - y\n",
      "print np.subtract(x, y)"
     ],
     "language": "python",
     "metadata": {},
     "outputs": [
      {
       "output_type": "stream",
       "stream": "stdout",
       "text": [
        "[[-4. -4.]\n",
        " [-4. -4.]]\n",
        "[[-4. -4.]\n",
        " [-4. -4.]]\n"
       ]
      }
     ],
     "prompt_number": 228
    },
    {
     "cell_type": "code",
     "collapsed": false,
     "input": [
      "# Elementwise product; both produce the array\n",
      "print x * y\n",
      "print np.multiply(x, y)"
     ],
     "language": "python",
     "metadata": {},
     "outputs": [
      {
       "output_type": "stream",
       "stream": "stdout",
       "text": [
        "[[  5.  12.]\n",
        " [ 21.  32.]]\n",
        "[[  5.  12.]\n",
        " [ 21.  32.]]\n"
       ]
      }
     ],
     "prompt_number": 229
    },
    {
     "cell_type": "code",
     "collapsed": false,
     "input": [
      "# Elementwise division; both produce the array\n",
      "# [[ 0.2         0.33333333]\n",
      "#  [ 0.42857143  0.5       ]]\n",
      "print x / y\n",
      "print np.divide(x, y)"
     ],
     "language": "python",
     "metadata": {},
     "outputs": [
      {
       "output_type": "stream",
       "stream": "stdout",
       "text": [
        "[[ 0.2         0.33333333]\n",
        " [ 0.42857143  0.5       ]]\n",
        "[[ 0.2         0.33333333]\n",
        " [ 0.42857143  0.5       ]]\n"
       ]
      }
     ],
     "prompt_number": 230
    },
    {
     "cell_type": "code",
     "collapsed": false,
     "input": [
      "# Elementwise square root; produces the array\n",
      "# [[ 1.          1.41421356]\n",
      "#  [ 1.73205081  2.        ]]\n",
      "print np.sqrt(x)"
     ],
     "language": "python",
     "metadata": {},
     "outputs": [
      {
       "output_type": "stream",
       "stream": "stdout",
       "text": [
        "[[ 1.          1.41421356]\n",
        " [ 1.73205081  2.        ]]\n"
       ]
      }
     ],
     "prompt_number": 231
    },
    {
     "cell_type": "markdown",
     "metadata": {},
     "source": [
      "Note that unlike MATLAB, `*` is elementwise multiplication, not matrix multiplication. We instead use the dot function to compute inner products of vectors, to multiply a vector by a matrix, and to multiply matrices. dot is available both as a function in the numpy module and as an instance method of array objects:"
     ]
    },
    {
     "cell_type": "code",
     "collapsed": false,
     "input": [
      "x = np.array([[1,2],[3,4]])\n",
      "y = np.array([[5,6],[7,8]])\n",
      "\n",
      "v = np.array([9,10])\n",
      "w = np.array([11, 12])\n",
      "\n",
      "# Inner product of vectors; both produce 219\n",
      "print v.dot(w)\n",
      "print np.dot(v, w)"
     ],
     "language": "python",
     "metadata": {},
     "outputs": [
      {
       "output_type": "stream",
       "stream": "stdout",
       "text": [
        "219\n",
        "219\n"
       ]
      }
     ],
     "prompt_number": 232
    },
    {
     "cell_type": "code",
     "collapsed": false,
     "input": [
      "# Matrix / vector product; both produce the rank 1 array [29 67]\n",
      "print x.dot(v)\n",
      "print np.dot(x, v)"
     ],
     "language": "python",
     "metadata": {},
     "outputs": [
      {
       "output_type": "stream",
       "stream": "stdout",
       "text": [
        "[29 67]\n",
        "[29 67]\n"
       ]
      }
     ],
     "prompt_number": 233
    },
    {
     "cell_type": "code",
     "collapsed": false,
     "input": [
      "# Matrix / matrix product; both produce the rank 2 array\n",
      "# [[19 22]\n",
      "#  [43 50]]\n",
      "print x.dot(y)\n",
      "print np.dot(x, y)"
     ],
     "language": "python",
     "metadata": {},
     "outputs": [
      {
       "output_type": "stream",
       "stream": "stdout",
       "text": [
        "[[19 22]\n",
        " [43 50]]\n",
        "[[19 22]\n",
        " [43 50]]\n"
       ]
      }
     ],
     "prompt_number": 234
    },
    {
     "cell_type": "markdown",
     "metadata": {},
     "source": [
      "Numpy provides many useful functions for performing computations on arrays; one of the most useful is `sum`:"
     ]
    },
    {
     "cell_type": "code",
     "collapsed": false,
     "input": [
      "x = np.array([[1,2],[3,4]])\n",
      "\n",
      "print np.sum(x)  # Compute sum of all elements; prints \"10\"\n",
      "print np.sum(x, axis=0)  # Compute sum of each column; prints \"[4 6]\"\n",
      "print np.sum(x, axis=1)  # Compute sum of each row; prints \"[3 7]\""
     ],
     "language": "python",
     "metadata": {},
     "outputs": [
      {
       "output_type": "stream",
       "stream": "stdout",
       "text": [
        "10\n",
        "[4 6]\n",
        "[3 7]\n"
       ]
      }
     ],
     "prompt_number": 235
    },
    {
     "cell_type": "markdown",
     "metadata": {},
     "source": [
      "You can find the full list of mathematical functions provided by numpy in the [documentation](http://docs.scipy.org/doc/numpy/reference/routines.math.html).\n",
      "\n",
      "Apart from computing mathematical functions using arrays, we frequently need to reshape or otherwise manipulate data in arrays. The simplest example of this type of operation is transposing a matrix; to transpose a matrix, simply use the T attribute of an array object:"
     ]
    },
    {
     "cell_type": "code",
     "collapsed": false,
     "input": [
      "print x\n",
      "print x.T"
     ],
     "language": "python",
     "metadata": {},
     "outputs": [
      {
       "output_type": "stream",
       "stream": "stdout",
       "text": [
        "[[1 2]\n",
        " [3 4]]\n",
        "[[1 3]\n",
        " [2 4]]\n"
       ]
      }
     ],
     "prompt_number": 236
    },
    {
     "cell_type": "code",
     "collapsed": false,
     "input": [
      "v = np.array([[1,2,3]])\n",
      "print v \n",
      "print v.T"
     ],
     "language": "python",
     "metadata": {},
     "outputs": [
      {
       "output_type": "stream",
       "stream": "stdout",
       "text": [
        "[1 2 3]\n",
        "[1 2 3]\n"
       ]
      }
     ],
     "prompt_number": 237
    },
    {
     "cell_type": "heading",
     "level": 3,
     "metadata": {},
     "source": [
      "Broadcasting"
     ]
    },
    {
     "cell_type": "markdown",
     "metadata": {},
     "source": [
      "Broadcasting is a powerful mechanism that allows numpy to work with arrays of different shapes when performing arithmetic operations. Frequently we have a smaller array and a larger array, and we want to use the smaller array multiple times to perform some operation on the larger array.\n",
      "\n",
      "For example, suppose that we want to add a constant vector to each row of a matrix. We could do it like this:"
     ]
    },
    {
     "cell_type": "code",
     "collapsed": false,
     "input": [
      "# We will add the vector v to each row of the matrix x,\n",
      "# storing the result in the matrix y\n",
      "x = np.array([[1,2,3], [4,5,6], [7,8,9], [10, 11, 12]])\n",
      "v = np.array([1, 0, 1])\n",
      "y = np.empty_like(x)   # Create an empty matrix with the same shape as x\n",
      "\n",
      "# Add the vector v to each row of the matrix x with an explicit loop\n",
      "for i in range(4):\n",
      "    y[i, :] = x[i, :] + v\n",
      "\n",
      "print y"
     ],
     "language": "python",
     "metadata": {},
     "outputs": [
      {
       "output_type": "stream",
       "stream": "stdout",
       "text": [
        "[[ 2  2  4]\n",
        " [ 5  5  7]\n",
        " [ 8  8 10]\n",
        " [11 11 13]]\n"
       ]
      }
     ],
     "prompt_number": 238
    },
    {
     "cell_type": "markdown",
     "metadata": {},
     "source": [
      "This works; however when the matrix `x` is very large, computing an explicit loop in Python could be slow. Note that adding the vector v to each row of the matrix `x` is equivalent to forming a matrix `vv` by stacking multiple copies of `v` vertically, then performing elementwise summation of `x` and `vv`. We could implement this approach like this:"
     ]
    },
    {
     "cell_type": "code",
     "collapsed": false,
     "input": [
      "vv = np.tile(v, (4, 1))  # Stack 4 copies of v on top of each other\n",
      "print vv                 # Prints \"[[1 0 1]\n",
      "                         #          [1 0 1]\n",
      "                         #          [1 0 1]\n",
      "                         #          [1 0 1]]\""
     ],
     "language": "python",
     "metadata": {},
     "outputs": [
      {
       "output_type": "stream",
       "stream": "stdout",
       "text": [
        "[[1 0 1]\n",
        " [1 0 1]\n",
        " [1 0 1]\n",
        " [1 0 1]]\n"
       ]
      }
     ],
     "prompt_number": 240
    },
    {
     "cell_type": "code",
     "collapsed": false,
     "input": [
      "y = x + vv  # Add x and vv elementwise\n",
      "print y"
     ],
     "language": "python",
     "metadata": {},
     "outputs": [
      {
       "output_type": "stream",
       "stream": "stdout",
       "text": [
        "[[ 2  2  4]\n",
        " [ 5  5  7]\n",
        " [ 8  8 10]\n",
        " [11 11 13]]\n"
       ]
      }
     ],
     "prompt_number": 241
    },
    {
     "cell_type": "markdown",
     "metadata": {},
     "source": [
      "Numpy broadcasting allows us to perform this computation without actually creating multiple copies of v. Consider this version, using broadcasting:"
     ]
    },
    {
     "cell_type": "code",
     "collapsed": false,
     "input": [
      "import numpy as np\n",
      "\n",
      "# We will add the vector v to each row of the matrix x,\n",
      "# storing the result in the matrix y\n",
      "x = np.array([[1,2,3], [4,5,6], [7,8,9], [10, 11, 12]])\n",
      "v = np.array([1, 0, 1])\n",
      "y = x + v  # Add v to each row of x using broadcasting\n",
      "print y"
     ],
     "language": "python",
     "metadata": {},
     "outputs": [
      {
       "output_type": "stream",
       "stream": "stdout",
       "text": [
        "[[ 2  2  4]\n",
        " [ 5  5  7]\n",
        " [ 8  8 10]\n",
        " [11 11 13]]\n"
       ]
      }
     ],
     "prompt_number": 242
    },
    {
     "cell_type": "markdown",
     "metadata": {},
     "source": [
      "The line `y = x + v` works even though `x` has shape `(4, 3)` and `v` has shape `(3,)` due to broadcasting; this line works as if v actually had shape `(4, 3)`, where each row was a copy of `v`, and the sum was performed elementwise.\n",
      "\n",
      "Broadcasting two arrays together follows these rules:\n",
      "\n",
      "1. If the arrays do not have the same rank, prepend the shape of the lower rank array with 1s until both shapes have the same length.\n",
      "2. The two arrays are said to be compatible in a dimension if they have the same size in the dimension, or if one of the arrays has size 1 in that dimension.\n",
      "3. The arrays can be broadcast together if they are compatible in all dimensions.\n",
      "4. After broadcasting, each array behaves as if it had shape equal to the elementwise maximum of shapes of the two input arrays.\n",
      "5. In any dimension where one array had size 1 and the other array had size greater than 1, the first array behaves as if it were copied along that dimension\n",
      "\n",
      "If this explanation does not make sense, try reading the explanation from the [documentation](http://docs.scipy.org/doc/numpy/user/basics.broadcasting.html) or this [explanation](http://wiki.scipy.org/EricsBroadcastingDoc).\n",
      "\n",
      "Functions that support broadcasting are known as universal functions. You can find the list of all universal functions in the [documentation](http://docs.scipy.org/doc/numpy/reference/ufuncs.html#available-ufuncs).\n",
      "\n",
      "Here are some applications of broadcasting:"
     ]
    },
    {
     "cell_type": "code",
     "collapsed": false,
     "input": [
      "# Compute outer product of vectors\n",
      "v = np.array([1,2,3])  # v has shape (3,)\n",
      "w = np.array([4,5])    # w has shape (2,)\n",
      "# To compute an outer product, we first reshape v to be a column\n",
      "# vector of shape (3, 1); we can then broadcast it against w to yield\n",
      "# an output of shape (3, 2), which is the outer product of v and w:\n",
      "\n",
      "print np.reshape(v, (3, 1)) * w"
     ],
     "language": "python",
     "metadata": {},
     "outputs": [
      {
       "output_type": "stream",
       "stream": "stdout",
       "text": [
        "[[ 4  5]\n",
        " [ 8 10]\n",
        " [12 15]]\n"
       ]
      }
     ],
     "prompt_number": 243
    },
    {
     "cell_type": "code",
     "collapsed": false,
     "input": [
      "# Add a vector to each row of a matrix\n",
      "x = np.array([[1,2,3], [4,5,6]])\n",
      "# x has shape (2, 3) and v has shape (3,) so they broadcast to (2, 3),\n",
      "# giving the following matrix:\n",
      "\n",
      "print x + v"
     ],
     "language": "python",
     "metadata": {},
     "outputs": [
      {
       "output_type": "stream",
       "stream": "stdout",
       "text": [
        "[[2 4 6]\n",
        " [5 7 9]]\n"
       ]
      }
     ],
     "prompt_number": 244
    },
    {
     "cell_type": "code",
     "collapsed": false,
     "input": [
      "# Add a vector to each column of a matrix\n",
      "# x has shape (2, 3) and w has shape (2,).\n",
      "# If we transpose x then it has shape (3, 2) and can be broadcast\n",
      "# against w to yield a result of shape (3, 2); transposing this result\n",
      "# yields the final result of shape (2, 3) which is the matrix x with\n",
      "# the vector w added to each column. Gives the following matrix:\n",
      "\n",
      "print (x.T + w).T"
     ],
     "language": "python",
     "metadata": {},
     "outputs": [
      {
       "output_type": "stream",
       "stream": "stdout",
       "text": [
        "[[ 5  6  7]\n",
        " [ 9 10 11]]\n"
       ]
      }
     ],
     "prompt_number": 245
    },
    {
     "cell_type": "code",
     "collapsed": false,
     "input": [
      "# Another solution is to reshape w to be a row vector of shape (2, 1);\n",
      "# we can then broadcast it directly against x to produce the same\n",
      "# output.\n",
      "print x + np.reshape(w, (2, 1))"
     ],
     "language": "python",
     "metadata": {},
     "outputs": [
      {
       "output_type": "stream",
       "stream": "stdout",
       "text": [
        "[[ 5  6  7]\n",
        " [ 9 10 11]]\n"
       ]
      }
     ],
     "prompt_number": 246
    },
    {
     "cell_type": "code",
     "collapsed": false,
     "input": [
      "# Multiply a matrix by a constant:\n",
      "# x has shape (2, 3). Numpy treats scalars as arrays of shape ();\n",
      "# these can be broadcast together to shape (2, 3), producing the\n",
      "# following array:\n",
      "print x * 2"
     ],
     "language": "python",
     "metadata": {},
     "outputs": [
      {
       "output_type": "stream",
       "stream": "stdout",
       "text": [
        "[[ 2  4  6]\n",
        " [ 8 10 12]]\n"
       ]
      }
     ],
     "prompt_number": 247
    },
    {
     "cell_type": "markdown",
     "metadata": {},
     "source": [
      "Broadcasting typically makes your code more concise and faster, so you should strive to use it where possible."
     ]
    },
    {
     "cell_type": "markdown",
     "metadata": {},
     "source": [
      "This brief overview has touched on many of the important things that you need to know about numpy, but is far from complete. Check out the [numpy reference](http://docs.scipy.org/doc/numpy/reference/) to find out much more about numpy."
     ]
    },
    {
     "cell_type": "heading",
     "level": 2,
     "metadata": {},
     "source": [
      "Matplotlib"
     ]
    },
    {
     "cell_type": "markdown",
     "metadata": {},
     "source": [
      "Matplotlib is a plotting library. In this section give a brief introduction to the `matplotlib.pyplot` module, which provides a plotting system similar to that of MATLAB."
     ]
    },
    {
     "cell_type": "code",
     "collapsed": false,
     "input": [
      "import matplotlib.pyplot as plt"
     ],
     "language": "python",
     "metadata": {},
     "outputs": [],
     "prompt_number": 250
    },
    {
     "cell_type": "markdown",
     "metadata": {},
     "source": [
      "By running this special iPython command, we will be displaying plots inline:"
     ]
    },
    {
     "cell_type": "code",
     "collapsed": false,
     "input": [
      "%matplotlib inline"
     ],
     "language": "python",
     "metadata": {},
     "outputs": [],
     "prompt_number": 251
    },
    {
     "cell_type": "heading",
     "level": 3,
     "metadata": {},
     "source": [
      "Plotting"
     ]
    },
    {
     "cell_type": "markdown",
     "metadata": {},
     "source": [
      "The most important function in `matplotlib` is plot, which allows you to plot 2D data. Here is a simple example:"
     ]
    },
    {
     "cell_type": "code",
     "collapsed": false,
     "input": [
      "# Compute the x and y coordinates for points on a sine curve\n",
      "x = np.arange(0, 3 * np.pi, 0.1)\n",
      "y = np.sin(x)\n",
      "\n",
      "# Plot the points using matplotlib\n",
      "plt.plot(x, y)"
     ],
     "language": "python",
     "metadata": {},
     "outputs": [
      {
       "metadata": {},
       "output_type": "pyout",
       "prompt_number": 252,
       "text": [
        "[<matplotlib.lines.Line2D at 0x112d11710>]"
       ]
      },
      {
       "metadata": {},
       "output_type": "display_data",
       "png": "[encoded data removed]",
       "text": [
        "<matplotlib.figure.Figure at 0x112dff850>"
       ]
      }
     ],
     "prompt_number": 252
    },
    {
     "cell_type": "markdown",
     "metadata": {},
     "source": [
      "With just a little bit of extra work we can easily plot multiple lines at once, and add a title, legend, and axis labels:"
     ]
    },
    {
     "cell_type": "code",
     "collapsed": false,
     "input": [
      "y_sin = np.sin(x)\n",
      "y_cos = np.cos(x)\n",
      "\n",
      "# Plot the points using matplotlib\n",
      "plt.plot(x, y_sin)\n",
      "plt.plot(x, y_cos)\n",
      "plt.xlabel('x axis label')\n",
      "plt.ylabel('y axis label')\n",
      "plt.title('Sine and Cosine')\n",
      "plt.legend(['Sine', 'Cosine'])"
     ],
     "language": "python",
     "metadata": {},
     "outputs": [
      {
       "metadata": {},
       "output_type": "pyout",
       "prompt_number": 254,
       "text": [
        "<matplotlib.legend.Legend at 0x11739ac50>"
       ]
      },
      {
       "metadata": {},
       "output_type": "display_data",
       "png": "[encoded data removed]",
       "text": [
        "<matplotlib.figure.Figure at 0x11426ba50>"
       ]
      }
     ],
     "prompt_number": 254
    },
    {
     "cell_type": "heading",
     "level": 3,
     "metadata": {},
     "source": [
      "Subplots "
     ]
    },
    {
     "cell_type": "markdown",
     "metadata": {},
     "source": [
      "You can plot different things in the same figure using the subplot function. Here is an example:"
     ]
    },
    {
     "cell_type": "code",
     "collapsed": false,
     "input": [
      "# Compute the x and y coordinates for points on sine and cosine curves\n",
      "x = np.arange(0, 3 * np.pi, 0.1)\n",
      "y_sin = np.sin(x)\n",
      "y_cos = np.cos(x)\n",
      "\n",
      "# Set up a subplot grid that has height 2 and width 1,\n",
      "# and set the first such subplot as active.\n",
      "plt.subplot(2, 1, 1)\n",
      "\n",
      "# Make the first plot\n",
      "plt.plot(x, y_sin)\n",
      "plt.title('Sine')\n",
      "\n",
      "# Set the second subplot as active, and make the second plot.\n",
      "plt.subplot(2, 1, 2)\n",
      "plt.plot(x, y_cos)\n",
      "plt.title('Cosine')\n",
      "\n",
      "# Show the figure.\n",
      "plt.show()"
     ],
     "language": "python",
     "metadata": {},
     "outputs": [
      {
       "metadata": {},
       "output_type": "display_data",
       "png": "[encoded data removed]",
       "text": [
        "<matplotlib.figure.Figure at 0x11426b710>"
       ]
      }
     ],
     "prompt_number": 255
    },
    {
     "cell_type": "markdown",
     "metadata": {},
     "source": [
      "You can read much more about the `subplot` function in the [documentation](http://matplotlib.org/api/pyplot_api.html#matplotlib.pyplot.subplot)."
     ]
    },
    {
     "cell_type": "code",
     "collapsed": false,
     "input": [],
     "language": "python",
     "metadata": {},
     "outputs": []
    }
   ],
   "metadata": {}
  }
 ]
}
