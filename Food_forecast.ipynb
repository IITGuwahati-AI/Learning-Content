{
  "nbformat": 4,
  "nbformat_minor": 0,
  "metadata": {
    "colab": {
      "name": "Food forecast",
      "version": "0.3.2",
      "provenance": [],
      "collapsed_sections": [],
      "include_colab_link": true
    },
    "kernelspec": {
      "name": "python3",
      "display_name": "Python 3"
    }
  },
  "cells": [
    {
      "cell_type": "markdown",
      "metadata": {
        "id": "view-in-github",
        "colab_type": "text"
      },
      "source": [
        "<a href=\"https://colab.research.google.com/github/shreyassks/Learning-Content/blob/master/Food_forecast.ipynb\" target=\"_parent\"><img src=\"https://colab.research.google.com/assets/colab-badge.svg\" alt=\"Open In Colab\"/></a>"
      ]
    },
    {
      "cell_type": "code",
      "metadata": {
        "id": "IMNP5bugDSRG",
        "colab_type": "code",
        "colab": {}
      },
      "source": [
        "import pandas as pd\n",
        "import numpy as np\n",
        "import seaborn as sns\n",
        "import matplotlib.pyplot as plt\n",
        "\n",
        "df_train = pd.read_csv(\"train_fd.csv\")\n",
        "df_test = pd.read_csv(\"test_fd.csv\")\n",
        "meal_info = pd.read_csv(\"meal_info.csv\")\n",
        "center_info = pd.read_csv(\"fulfilment_center_info.csv\")"
      ],
      "execution_count": 0,
      "outputs": []
    },
    {
      "cell_type": "code",
      "metadata": {
        "id": "PqWrB8ZCEBmW",
        "colab_type": "code",
        "outputId": "e4c39fff-7344-4142-bdba-03a7e2071822",
        "colab": {
          "base_uri": "https://localhost:8080/",
          "height": 255
        }
      },
      "source": [
        "df_train.info()"
      ],
      "execution_count": 2,
      "outputs": [
        {
          "output_type": "stream",
          "text": [
            "<class 'pandas.core.frame.DataFrame'>\n",
            "RangeIndex: 456548 entries, 0 to 456547\n",
            "Data columns (total 9 columns):\n",
            "id                       456548 non-null int64\n",
            "week                     456548 non-null int64\n",
            "center_id                456548 non-null int64\n",
            "meal_id                  456548 non-null int64\n",
            "checkout_price           456548 non-null float64\n",
            "base_price               456548 non-null float64\n",
            "emailer_for_promotion    456548 non-null int64\n",
            "homepage_featured        456548 non-null int64\n",
            "num_orders               456548 non-null int64\n",
            "dtypes: float64(2), int64(7)\n",
            "memory usage: 31.3 MB\n"
          ],
          "name": "stdout"
        }
      ]
    },
    {
      "cell_type": "code",
      "metadata": {
        "id": "kv5rOBr4EKUS",
        "colab_type": "code",
        "outputId": "3a9faa30-18d0-4687-989d-003f79cbc0eb",
        "colab": {
          "base_uri": "https://localhost:8080/",
          "height": 238
        }
      },
      "source": [
        "df_test.info()"
      ],
      "execution_count": 3,
      "outputs": [
        {
          "output_type": "stream",
          "text": [
            "<class 'pandas.core.frame.DataFrame'>\n",
            "RangeIndex: 32573 entries, 0 to 32572\n",
            "Data columns (total 8 columns):\n",
            "id                       32573 non-null int64\n",
            "week                     32573 non-null int64\n",
            "center_id                32573 non-null int64\n",
            "meal_id                  32573 non-null int64\n",
            "checkout_price           32573 non-null float64\n",
            "base_price               32573 non-null float64\n",
            "emailer_for_promotion    32573 non-null int64\n",
            "homepage_featured        32573 non-null int64\n",
            "dtypes: float64(2), int64(6)\n",
            "memory usage: 2.0 MB\n"
          ],
          "name": "stdout"
        }
      ]
    },
    {
      "cell_type": "code",
      "metadata": {
        "id": "5uc0aUdbESjZ",
        "colab_type": "code",
        "outputId": "9e5f2b0d-30ea-4138-ab55-c7a63fb4e5d9",
        "colab": {
          "base_uri": "https://localhost:8080/",
          "height": 153
        }
      },
      "source": [
        "meal_info.info()"
      ],
      "execution_count": 4,
      "outputs": [
        {
          "output_type": "stream",
          "text": [
            "<class 'pandas.core.frame.DataFrame'>\n",
            "RangeIndex: 51 entries, 0 to 50\n",
            "Data columns (total 3 columns):\n",
            "meal_id     51 non-null int64\n",
            "category    51 non-null object\n",
            "cuisine     51 non-null object\n",
            "dtypes: int64(1), object(2)\n",
            "memory usage: 1.3+ KB\n"
          ],
          "name": "stdout"
        }
      ]
    },
    {
      "cell_type": "code",
      "metadata": {
        "id": "bKkp2GEzExD3",
        "colab_type": "code",
        "outputId": "22f5a278-f813-48e6-b133-9264857438bc",
        "colab": {
          "base_uri": "https://localhost:8080/",
          "height": 204
        }
      },
      "source": [
        "meal_info.head(5)"
      ],
      "execution_count": 5,
      "outputs": [
        {
          "output_type": "execute_result",
          "data": {
            "text/html": [
              "<div>\n",
              "<style scoped>\n",
              "    .dataframe tbody tr th:only-of-type {\n",
              "        vertical-align: middle;\n",
              "    }\n",
              "\n",
              "    .dataframe tbody tr th {\n",
              "        vertical-align: top;\n",
              "    }\n",
              "\n",
              "    .dataframe thead th {\n",
              "        text-align: right;\n",
              "    }\n",
              "</style>\n",
              "<table border=\"1\" class=\"dataframe\">\n",
              "  <thead>\n",
              "    <tr style=\"text-align: right;\">\n",
              "      <th></th>\n",
              "      <th>meal_id</th>\n",
              "      <th>category</th>\n",
              "      <th>cuisine</th>\n",
              "    </tr>\n",
              "  </thead>\n",
              "  <tbody>\n",
              "    <tr>\n",
              "      <th>0</th>\n",
              "      <td>1885</td>\n",
              "      <td>Beverages</td>\n",
              "      <td>Thai</td>\n",
              "    </tr>\n",
              "    <tr>\n",
              "      <th>1</th>\n",
              "      <td>1993</td>\n",
              "      <td>Beverages</td>\n",
              "      <td>Thai</td>\n",
              "    </tr>\n",
              "    <tr>\n",
              "      <th>2</th>\n",
              "      <td>2539</td>\n",
              "      <td>Beverages</td>\n",
              "      <td>Thai</td>\n",
              "    </tr>\n",
              "    <tr>\n",
              "      <th>3</th>\n",
              "      <td>1248</td>\n",
              "      <td>Beverages</td>\n",
              "      <td>Indian</td>\n",
              "    </tr>\n",
              "    <tr>\n",
              "      <th>4</th>\n",
              "      <td>2631</td>\n",
              "      <td>Beverages</td>\n",
              "      <td>Indian</td>\n",
              "    </tr>\n",
              "  </tbody>\n",
              "</table>\n",
              "</div>"
            ],
            "text/plain": [
              "   meal_id   category cuisine\n",
              "0     1885  Beverages    Thai\n",
              "1     1993  Beverages    Thai\n",
              "2     2539  Beverages    Thai\n",
              "3     1248  Beverages  Indian\n",
              "4     2631  Beverages  Indian"
            ]
          },
          "metadata": {
            "tags": []
          },
          "execution_count": 5
        }
      ]
    },
    {
      "cell_type": "code",
      "metadata": {
        "id": "wOVMEq35EZvR",
        "colab_type": "code",
        "outputId": "9b11ea2e-106d-4b37-c6b3-ef13d13ea580",
        "colab": {
          "base_uri": "https://localhost:8080/",
          "height": 187
        }
      },
      "source": [
        "center_info.info()"
      ],
      "execution_count": 6,
      "outputs": [
        {
          "output_type": "stream",
          "text": [
            "<class 'pandas.core.frame.DataFrame'>\n",
            "RangeIndex: 77 entries, 0 to 76\n",
            "Data columns (total 5 columns):\n",
            "center_id      77 non-null int64\n",
            "city_code      77 non-null int64\n",
            "region_code    77 non-null int64\n",
            "center_type    77 non-null object\n",
            "op_area        77 non-null float64\n",
            "dtypes: float64(1), int64(3), object(1)\n",
            "memory usage: 3.1+ KB\n"
          ],
          "name": "stdout"
        }
      ]
    },
    {
      "cell_type": "code",
      "metadata": {
        "id": "a01vhS7XE2uI",
        "colab_type": "code",
        "outputId": "0fce3932-764f-4b49-9548-8fa016c37785",
        "colab": {
          "base_uri": "https://localhost:8080/",
          "height": 204
        }
      },
      "source": [
        "center_info.head(5)"
      ],
      "execution_count": 7,
      "outputs": [
        {
          "output_type": "execute_result",
          "data": {
            "text/html": [
              "<div>\n",
              "<style scoped>\n",
              "    .dataframe tbody tr th:only-of-type {\n",
              "        vertical-align: middle;\n",
              "    }\n",
              "\n",
              "    .dataframe tbody tr th {\n",
              "        vertical-align: top;\n",
              "    }\n",
              "\n",
              "    .dataframe thead th {\n",
              "        text-align: right;\n",
              "    }\n",
              "</style>\n",
              "<table border=\"1\" class=\"dataframe\">\n",
              "  <thead>\n",
              "    <tr style=\"text-align: right;\">\n",
              "      <th></th>\n",
              "      <th>center_id</th>\n",
              "      <th>city_code</th>\n",
              "      <th>region_code</th>\n",
              "      <th>center_type</th>\n",
              "      <th>op_area</th>\n",
              "    </tr>\n",
              "  </thead>\n",
              "  <tbody>\n",
              "    <tr>\n",
              "      <th>0</th>\n",
              "      <td>11</td>\n",
              "      <td>679</td>\n",
              "      <td>56</td>\n",
              "      <td>TYPE_A</td>\n",
              "      <td>3.7</td>\n",
              "    </tr>\n",
              "    <tr>\n",
              "      <th>1</th>\n",
              "      <td>13</td>\n",
              "      <td>590</td>\n",
              "      <td>56</td>\n",
              "      <td>TYPE_B</td>\n",
              "      <td>6.7</td>\n",
              "    </tr>\n",
              "    <tr>\n",
              "      <th>2</th>\n",
              "      <td>124</td>\n",
              "      <td>590</td>\n",
              "      <td>56</td>\n",
              "      <td>TYPE_C</td>\n",
              "      <td>4.0</td>\n",
              "    </tr>\n",
              "    <tr>\n",
              "      <th>3</th>\n",
              "      <td>66</td>\n",
              "      <td>648</td>\n",
              "      <td>34</td>\n",
              "      <td>TYPE_A</td>\n",
              "      <td>4.1</td>\n",
              "    </tr>\n",
              "    <tr>\n",
              "      <th>4</th>\n",
              "      <td>94</td>\n",
              "      <td>632</td>\n",
              "      <td>34</td>\n",
              "      <td>TYPE_C</td>\n",
              "      <td>3.6</td>\n",
              "    </tr>\n",
              "  </tbody>\n",
              "</table>\n",
              "</div>"
            ],
            "text/plain": [
              "   center_id  city_code  region_code center_type  op_area\n",
              "0         11        679           56      TYPE_A      3.7\n",
              "1         13        590           56      TYPE_B      6.7\n",
              "2        124        590           56      TYPE_C      4.0\n",
              "3         66        648           34      TYPE_A      4.1\n",
              "4         94        632           34      TYPE_C      3.6"
            ]
          },
          "metadata": {
            "tags": []
          },
          "execution_count": 7
        }
      ]
    },
    {
      "cell_type": "code",
      "metadata": {
        "id": "DRhdNpZBFvR4",
        "colab_type": "code",
        "outputId": "55acd8b9-3a4b-4fa9-d2aa-d10e052f1b07",
        "colab": {
          "base_uri": "https://localhost:8080/",
          "height": 224
        }
      },
      "source": [
        "train = pd.merge(df_train, center_info, on = 'center_id')\n",
        "test = pd.merge(df_test, center_info, on = 'center_id')\n",
        "train.head(5)"
      ],
      "execution_count": 8,
      "outputs": [
        {
          "output_type": "execute_result",
          "data": {
            "text/html": [
              "<div>\n",
              "<style scoped>\n",
              "    .dataframe tbody tr th:only-of-type {\n",
              "        vertical-align: middle;\n",
              "    }\n",
              "\n",
              "    .dataframe tbody tr th {\n",
              "        vertical-align: top;\n",
              "    }\n",
              "\n",
              "    .dataframe thead th {\n",
              "        text-align: right;\n",
              "    }\n",
              "</style>\n",
              "<table border=\"1\" class=\"dataframe\">\n",
              "  <thead>\n",
              "    <tr style=\"text-align: right;\">\n",
              "      <th></th>\n",
              "      <th>id</th>\n",
              "      <th>week</th>\n",
              "      <th>center_id</th>\n",
              "      <th>meal_id</th>\n",
              "      <th>checkout_price</th>\n",
              "      <th>base_price</th>\n",
              "      <th>emailer_for_promotion</th>\n",
              "      <th>homepage_featured</th>\n",
              "      <th>num_orders</th>\n",
              "      <th>city_code</th>\n",
              "      <th>region_code</th>\n",
              "      <th>center_type</th>\n",
              "      <th>op_area</th>\n",
              "    </tr>\n",
              "  </thead>\n",
              "  <tbody>\n",
              "    <tr>\n",
              "      <th>0</th>\n",
              "      <td>1379560</td>\n",
              "      <td>1</td>\n",
              "      <td>55</td>\n",
              "      <td>1885</td>\n",
              "      <td>136.83</td>\n",
              "      <td>152.29</td>\n",
              "      <td>0</td>\n",
              "      <td>0</td>\n",
              "      <td>177</td>\n",
              "      <td>647</td>\n",
              "      <td>56</td>\n",
              "      <td>TYPE_C</td>\n",
              "      <td>2.0</td>\n",
              "    </tr>\n",
              "    <tr>\n",
              "      <th>1</th>\n",
              "      <td>1466964</td>\n",
              "      <td>1</td>\n",
              "      <td>55</td>\n",
              "      <td>1993</td>\n",
              "      <td>136.83</td>\n",
              "      <td>135.83</td>\n",
              "      <td>0</td>\n",
              "      <td>0</td>\n",
              "      <td>270</td>\n",
              "      <td>647</td>\n",
              "      <td>56</td>\n",
              "      <td>TYPE_C</td>\n",
              "      <td>2.0</td>\n",
              "    </tr>\n",
              "    <tr>\n",
              "      <th>2</th>\n",
              "      <td>1346989</td>\n",
              "      <td>1</td>\n",
              "      <td>55</td>\n",
              "      <td>2539</td>\n",
              "      <td>134.86</td>\n",
              "      <td>135.86</td>\n",
              "      <td>0</td>\n",
              "      <td>0</td>\n",
              "      <td>189</td>\n",
              "      <td>647</td>\n",
              "      <td>56</td>\n",
              "      <td>TYPE_C</td>\n",
              "      <td>2.0</td>\n",
              "    </tr>\n",
              "    <tr>\n",
              "      <th>3</th>\n",
              "      <td>1338232</td>\n",
              "      <td>1</td>\n",
              "      <td>55</td>\n",
              "      <td>2139</td>\n",
              "      <td>339.50</td>\n",
              "      <td>437.53</td>\n",
              "      <td>0</td>\n",
              "      <td>0</td>\n",
              "      <td>54</td>\n",
              "      <td>647</td>\n",
              "      <td>56</td>\n",
              "      <td>TYPE_C</td>\n",
              "      <td>2.0</td>\n",
              "    </tr>\n",
              "    <tr>\n",
              "      <th>4</th>\n",
              "      <td>1448490</td>\n",
              "      <td>1</td>\n",
              "      <td>55</td>\n",
              "      <td>2631</td>\n",
              "      <td>243.50</td>\n",
              "      <td>242.50</td>\n",
              "      <td>0</td>\n",
              "      <td>0</td>\n",
              "      <td>40</td>\n",
              "      <td>647</td>\n",
              "      <td>56</td>\n",
              "      <td>TYPE_C</td>\n",
              "      <td>2.0</td>\n",
              "    </tr>\n",
              "  </tbody>\n",
              "</table>\n",
              "</div>"
            ],
            "text/plain": [
              "        id  week  center_id  ...  region_code  center_type  op_area\n",
              "0  1379560     1         55  ...           56       TYPE_C      2.0\n",
              "1  1466964     1         55  ...           56       TYPE_C      2.0\n",
              "2  1346989     1         55  ...           56       TYPE_C      2.0\n",
              "3  1338232     1         55  ...           56       TYPE_C      2.0\n",
              "4  1448490     1         55  ...           56       TYPE_C      2.0\n",
              "\n",
              "[5 rows x 13 columns]"
            ]
          },
          "metadata": {
            "tags": []
          },
          "execution_count": 8
        }
      ]
    },
    {
      "cell_type": "code",
      "metadata": {
        "id": "V5WW_z3lInyC",
        "colab_type": "code",
        "outputId": "f06abb22-060c-4238-f140-b3059eefba40",
        "colab": {
          "base_uri": "https://localhost:8080/",
          "height": 379
        }
      },
      "source": [
        "train = pd.merge(train, meal_info, on = 'meal_id')\n",
        "train.head(10)"
      ],
      "execution_count": 9,
      "outputs": [
        {
          "output_type": "execute_result",
          "data": {
            "text/html": [
              "<div>\n",
              "<style scoped>\n",
              "    .dataframe tbody tr th:only-of-type {\n",
              "        vertical-align: middle;\n",
              "    }\n",
              "\n",
              "    .dataframe tbody tr th {\n",
              "        vertical-align: top;\n",
              "    }\n",
              "\n",
              "    .dataframe thead th {\n",
              "        text-align: right;\n",
              "    }\n",
              "</style>\n",
              "<table border=\"1\" class=\"dataframe\">\n",
              "  <thead>\n",
              "    <tr style=\"text-align: right;\">\n",
              "      <th></th>\n",
              "      <th>id</th>\n",
              "      <th>week</th>\n",
              "      <th>center_id</th>\n",
              "      <th>meal_id</th>\n",
              "      <th>checkout_price</th>\n",
              "      <th>base_price</th>\n",
              "      <th>emailer_for_promotion</th>\n",
              "      <th>homepage_featured</th>\n",
              "      <th>num_orders</th>\n",
              "      <th>city_code</th>\n",
              "      <th>region_code</th>\n",
              "      <th>center_type</th>\n",
              "      <th>op_area</th>\n",
              "      <th>category</th>\n",
              "      <th>cuisine</th>\n",
              "    </tr>\n",
              "  </thead>\n",
              "  <tbody>\n",
              "    <tr>\n",
              "      <th>0</th>\n",
              "      <td>1379560</td>\n",
              "      <td>1</td>\n",
              "      <td>55</td>\n",
              "      <td>1885</td>\n",
              "      <td>136.83</td>\n",
              "      <td>152.29</td>\n",
              "      <td>0</td>\n",
              "      <td>0</td>\n",
              "      <td>177</td>\n",
              "      <td>647</td>\n",
              "      <td>56</td>\n",
              "      <td>TYPE_C</td>\n",
              "      <td>2.0</td>\n",
              "      <td>Beverages</td>\n",
              "      <td>Thai</td>\n",
              "    </tr>\n",
              "    <tr>\n",
              "      <th>1</th>\n",
              "      <td>1018704</td>\n",
              "      <td>2</td>\n",
              "      <td>55</td>\n",
              "      <td>1885</td>\n",
              "      <td>135.83</td>\n",
              "      <td>152.29</td>\n",
              "      <td>0</td>\n",
              "      <td>0</td>\n",
              "      <td>323</td>\n",
              "      <td>647</td>\n",
              "      <td>56</td>\n",
              "      <td>TYPE_C</td>\n",
              "      <td>2.0</td>\n",
              "      <td>Beverages</td>\n",
              "      <td>Thai</td>\n",
              "    </tr>\n",
              "    <tr>\n",
              "      <th>2</th>\n",
              "      <td>1196273</td>\n",
              "      <td>3</td>\n",
              "      <td>55</td>\n",
              "      <td>1885</td>\n",
              "      <td>132.92</td>\n",
              "      <td>133.92</td>\n",
              "      <td>0</td>\n",
              "      <td>0</td>\n",
              "      <td>96</td>\n",
              "      <td>647</td>\n",
              "      <td>56</td>\n",
              "      <td>TYPE_C</td>\n",
              "      <td>2.0</td>\n",
              "      <td>Beverages</td>\n",
              "      <td>Thai</td>\n",
              "    </tr>\n",
              "    <tr>\n",
              "      <th>3</th>\n",
              "      <td>1116527</td>\n",
              "      <td>4</td>\n",
              "      <td>55</td>\n",
              "      <td>1885</td>\n",
              "      <td>135.86</td>\n",
              "      <td>134.86</td>\n",
              "      <td>0</td>\n",
              "      <td>0</td>\n",
              "      <td>163</td>\n",
              "      <td>647</td>\n",
              "      <td>56</td>\n",
              "      <td>TYPE_C</td>\n",
              "      <td>2.0</td>\n",
              "      <td>Beverages</td>\n",
              "      <td>Thai</td>\n",
              "    </tr>\n",
              "    <tr>\n",
              "      <th>4</th>\n",
              "      <td>1343872</td>\n",
              "      <td>5</td>\n",
              "      <td>55</td>\n",
              "      <td>1885</td>\n",
              "      <td>146.50</td>\n",
              "      <td>147.50</td>\n",
              "      <td>0</td>\n",
              "      <td>0</td>\n",
              "      <td>215</td>\n",
              "      <td>647</td>\n",
              "      <td>56</td>\n",
              "      <td>TYPE_C</td>\n",
              "      <td>2.0</td>\n",
              "      <td>Beverages</td>\n",
              "      <td>Thai</td>\n",
              "    </tr>\n",
              "    <tr>\n",
              "      <th>5</th>\n",
              "      <td>1493612</td>\n",
              "      <td>6</td>\n",
              "      <td>55</td>\n",
              "      <td>1885</td>\n",
              "      <td>146.53</td>\n",
              "      <td>146.53</td>\n",
              "      <td>0</td>\n",
              "      <td>0</td>\n",
              "      <td>285</td>\n",
              "      <td>647</td>\n",
              "      <td>56</td>\n",
              "      <td>TYPE_C</td>\n",
              "      <td>2.0</td>\n",
              "      <td>Beverages</td>\n",
              "      <td>Thai</td>\n",
              "    </tr>\n",
              "    <tr>\n",
              "      <th>6</th>\n",
              "      <td>1110832</td>\n",
              "      <td>7</td>\n",
              "      <td>55</td>\n",
              "      <td>1885</td>\n",
              "      <td>145.53</td>\n",
              "      <td>146.53</td>\n",
              "      <td>0</td>\n",
              "      <td>0</td>\n",
              "      <td>148</td>\n",
              "      <td>647</td>\n",
              "      <td>56</td>\n",
              "      <td>TYPE_C</td>\n",
              "      <td>2.0</td>\n",
              "      <td>Beverages</td>\n",
              "      <td>Thai</td>\n",
              "    </tr>\n",
              "    <tr>\n",
              "      <th>7</th>\n",
              "      <td>1461167</td>\n",
              "      <td>8</td>\n",
              "      <td>55</td>\n",
              "      <td>1885</td>\n",
              "      <td>146.53</td>\n",
              "      <td>145.53</td>\n",
              "      <td>0</td>\n",
              "      <td>0</td>\n",
              "      <td>135</td>\n",
              "      <td>647</td>\n",
              "      <td>56</td>\n",
              "      <td>TYPE_C</td>\n",
              "      <td>2.0</td>\n",
              "      <td>Beverages</td>\n",
              "      <td>Thai</td>\n",
              "    </tr>\n",
              "    <tr>\n",
              "      <th>8</th>\n",
              "      <td>1102364</td>\n",
              "      <td>9</td>\n",
              "      <td>55</td>\n",
              "      <td>1885</td>\n",
              "      <td>134.83</td>\n",
              "      <td>134.83</td>\n",
              "      <td>0</td>\n",
              "      <td>0</td>\n",
              "      <td>175</td>\n",
              "      <td>647</td>\n",
              "      <td>56</td>\n",
              "      <td>TYPE_C</td>\n",
              "      <td>2.0</td>\n",
              "      <td>Beverages</td>\n",
              "      <td>Thai</td>\n",
              "    </tr>\n",
              "    <tr>\n",
              "      <th>9</th>\n",
              "      <td>1018130</td>\n",
              "      <td>10</td>\n",
              "      <td>55</td>\n",
              "      <td>1885</td>\n",
              "      <td>144.56</td>\n",
              "      <td>143.56</td>\n",
              "      <td>0</td>\n",
              "      <td>0</td>\n",
              "      <td>175</td>\n",
              "      <td>647</td>\n",
              "      <td>56</td>\n",
              "      <td>TYPE_C</td>\n",
              "      <td>2.0</td>\n",
              "      <td>Beverages</td>\n",
              "      <td>Thai</td>\n",
              "    </tr>\n",
              "  </tbody>\n",
              "</table>\n",
              "</div>"
            ],
            "text/plain": [
              "        id  week  center_id  meal_id  ...  center_type  op_area   category  cuisine\n",
              "0  1379560     1         55     1885  ...       TYPE_C      2.0  Beverages     Thai\n",
              "1  1018704     2         55     1885  ...       TYPE_C      2.0  Beverages     Thai\n",
              "2  1196273     3         55     1885  ...       TYPE_C      2.0  Beverages     Thai\n",
              "3  1116527     4         55     1885  ...       TYPE_C      2.0  Beverages     Thai\n",
              "4  1343872     5         55     1885  ...       TYPE_C      2.0  Beverages     Thai\n",
              "5  1493612     6         55     1885  ...       TYPE_C      2.0  Beverages     Thai\n",
              "6  1110832     7         55     1885  ...       TYPE_C      2.0  Beverages     Thai\n",
              "7  1461167     8         55     1885  ...       TYPE_C      2.0  Beverages     Thai\n",
              "8  1102364     9         55     1885  ...       TYPE_C      2.0  Beverages     Thai\n",
              "9  1018130    10         55     1885  ...       TYPE_C      2.0  Beverages     Thai\n",
              "\n",
              "[10 rows x 15 columns]"
            ]
          },
          "metadata": {
            "tags": []
          },
          "execution_count": 9
        }
      ]
    },
    {
      "cell_type": "code",
      "metadata": {
        "id": "_HmZXkm_z8Bn",
        "colab_type": "code",
        "outputId": "94d0f307-1134-4c99-dce7-0199ca2e1a35",
        "colab": {
          "base_uri": "https://localhost:8080/",
          "height": 34
        }
      },
      "source": [
        "train['num_orders'].groupby(train['center_type'])"
      ],
      "execution_count": 10,
      "outputs": [
        {
          "output_type": "execute_result",
          "data": {
            "text/plain": [
              "<pandas.core.groupby.generic.SeriesGroupBy object at 0x7f381ce90dd8>"
            ]
          },
          "metadata": {
            "tags": []
          },
          "execution_count": 10
        }
      ]
    },
    {
      "cell_type": "code",
      "metadata": {
        "id": "HPsX0egO0O_h",
        "colab_type": "code",
        "outputId": "4371bb40-5736-4825-d6e0-9d1f37d2f936",
        "colab": {
          "base_uri": "https://localhost:8080/",
          "height": 34
        }
      },
      "source": [
        "len(list(train['num_orders'].groupby(train['center_type'])))"
      ],
      "execution_count": 11,
      "outputs": [
        {
          "output_type": "execute_result",
          "data": {
            "text/plain": [
              "3"
            ]
          },
          "metadata": {
            "tags": []
          },
          "execution_count": 11
        }
      ]
    },
    {
      "cell_type": "code",
      "metadata": {
        "id": "FwRq8VCm0YgA",
        "colab_type": "code",
        "outputId": "83f94c69-4baf-47f4-aaa9-441ff37b064c",
        "colab": {
          "base_uri": "https://localhost:8080/",
          "height": 34
        }
      },
      "source": [
        "np.mean(list(train['num_orders'].groupby(train['center_type']))[2][1])"
      ],
      "execution_count": 12,
      "outputs": [
        {
          "output_type": "execute_result",
          "data": {
            "text/plain": [
              "206.6700972959947"
            ]
          },
          "metadata": {
            "tags": []
          },
          "execution_count": 12
        }
      ]
    },
    {
      "cell_type": "code",
      "metadata": {
        "id": "WQ9ph-Vo3TBI",
        "colab_type": "code",
        "outputId": "253c242c-a283-4826-f345-46eccdc14c8a",
        "colab": {
          "base_uri": "https://localhost:8080/",
          "height": 204
        }
      },
      "source": [
        "train.groupby('center_type').agg({'num_orders':['sum', 'mean', lambda x: np.max(x) - np.min(x)]})"
      ],
      "execution_count": 13,
      "outputs": [
        {
          "output_type": "execute_result",
          "data": {
            "text/html": [
              "<div>\n",
              "<style scoped>\n",
              "    .dataframe tbody tr th:only-of-type {\n",
              "        vertical-align: middle;\n",
              "    }\n",
              "\n",
              "    .dataframe tbody tr th {\n",
              "        vertical-align: top;\n",
              "    }\n",
              "\n",
              "    .dataframe thead tr th {\n",
              "        text-align: left;\n",
              "    }\n",
              "\n",
              "    .dataframe thead tr:last-of-type th {\n",
              "        text-align: right;\n",
              "    }\n",
              "</style>\n",
              "<table border=\"1\" class=\"dataframe\">\n",
              "  <thead>\n",
              "    <tr>\n",
              "      <th></th>\n",
              "      <th colspan=\"3\" halign=\"left\">num_orders</th>\n",
              "    </tr>\n",
              "    <tr>\n",
              "      <th></th>\n",
              "      <th>sum</th>\n",
              "      <th>mean</th>\n",
              "      <th>&lt;lambda&gt;</th>\n",
              "    </tr>\n",
              "    <tr>\n",
              "      <th>center_type</th>\n",
              "      <th></th>\n",
              "      <th></th>\n",
              "      <th></th>\n",
              "    </tr>\n",
              "  </thead>\n",
              "  <tbody>\n",
              "    <tr>\n",
              "      <th>TYPE_A</th>\n",
              "      <td>68978517</td>\n",
              "      <td>262.394456</td>\n",
              "      <td>24286</td>\n",
              "    </tr>\n",
              "    <tr>\n",
              "      <th>TYPE_B</th>\n",
              "      <td>29996073</td>\n",
              "      <td>318.856145</td>\n",
              "      <td>13567</td>\n",
              "    </tr>\n",
              "    <tr>\n",
              "      <th>TYPE_C</th>\n",
              "      <td>20582895</td>\n",
              "      <td>206.670097</td>\n",
              "      <td>10111</td>\n",
              "    </tr>\n",
              "  </tbody>\n",
              "</table>\n",
              "</div>"
            ],
            "text/plain": [
              "            num_orders                     \n",
              "                   sum        mean <lambda>\n",
              "center_type                                \n",
              "TYPE_A        68978517  262.394456    24286\n",
              "TYPE_B        29996073  318.856145    13567\n",
              "TYPE_C        20582895  206.670097    10111"
            ]
          },
          "metadata": {
            "tags": []
          },
          "execution_count": 13
        }
      ]
    },
    {
      "cell_type": "code",
      "metadata": {
        "id": "qCYuM5u2KBw_",
        "colab_type": "code",
        "outputId": "4c7b04bf-7a67-46c3-de9f-8f58cfcb6b83",
        "colab": {
          "base_uri": "https://localhost:8080/",
          "height": 224
        }
      },
      "source": [
        "test = pd.merge(test, meal_info, on = 'meal_id')\n",
        "test.head(5)"
      ],
      "execution_count": 14,
      "outputs": [
        {
          "output_type": "execute_result",
          "data": {
            "text/html": [
              "<div>\n",
              "<style scoped>\n",
              "    .dataframe tbody tr th:only-of-type {\n",
              "        vertical-align: middle;\n",
              "    }\n",
              "\n",
              "    .dataframe tbody tr th {\n",
              "        vertical-align: top;\n",
              "    }\n",
              "\n",
              "    .dataframe thead th {\n",
              "        text-align: right;\n",
              "    }\n",
              "</style>\n",
              "<table border=\"1\" class=\"dataframe\">\n",
              "  <thead>\n",
              "    <tr style=\"text-align: right;\">\n",
              "      <th></th>\n",
              "      <th>id</th>\n",
              "      <th>week</th>\n",
              "      <th>center_id</th>\n",
              "      <th>meal_id</th>\n",
              "      <th>checkout_price</th>\n",
              "      <th>base_price</th>\n",
              "      <th>emailer_for_promotion</th>\n",
              "      <th>homepage_featured</th>\n",
              "      <th>city_code</th>\n",
              "      <th>region_code</th>\n",
              "      <th>center_type</th>\n",
              "      <th>op_area</th>\n",
              "      <th>category</th>\n",
              "      <th>cuisine</th>\n",
              "    </tr>\n",
              "  </thead>\n",
              "  <tbody>\n",
              "    <tr>\n",
              "      <th>0</th>\n",
              "      <td>1028232</td>\n",
              "      <td>146</td>\n",
              "      <td>55</td>\n",
              "      <td>1885</td>\n",
              "      <td>158.11</td>\n",
              "      <td>159.11</td>\n",
              "      <td>0</td>\n",
              "      <td>0</td>\n",
              "      <td>647</td>\n",
              "      <td>56</td>\n",
              "      <td>TYPE_C</td>\n",
              "      <td>2.0</td>\n",
              "      <td>Beverages</td>\n",
              "      <td>Thai</td>\n",
              "    </tr>\n",
              "    <tr>\n",
              "      <th>1</th>\n",
              "      <td>1262649</td>\n",
              "      <td>147</td>\n",
              "      <td>55</td>\n",
              "      <td>1885</td>\n",
              "      <td>159.11</td>\n",
              "      <td>159.11</td>\n",
              "      <td>0</td>\n",
              "      <td>0</td>\n",
              "      <td>647</td>\n",
              "      <td>56</td>\n",
              "      <td>TYPE_C</td>\n",
              "      <td>2.0</td>\n",
              "      <td>Beverages</td>\n",
              "      <td>Thai</td>\n",
              "    </tr>\n",
              "    <tr>\n",
              "      <th>2</th>\n",
              "      <td>1453211</td>\n",
              "      <td>149</td>\n",
              "      <td>55</td>\n",
              "      <td>1885</td>\n",
              "      <td>157.14</td>\n",
              "      <td>158.14</td>\n",
              "      <td>0</td>\n",
              "      <td>0</td>\n",
              "      <td>647</td>\n",
              "      <td>56</td>\n",
              "      <td>TYPE_C</td>\n",
              "      <td>2.0</td>\n",
              "      <td>Beverages</td>\n",
              "      <td>Thai</td>\n",
              "    </tr>\n",
              "    <tr>\n",
              "      <th>3</th>\n",
              "      <td>1262599</td>\n",
              "      <td>150</td>\n",
              "      <td>55</td>\n",
              "      <td>1885</td>\n",
              "      <td>159.14</td>\n",
              "      <td>157.14</td>\n",
              "      <td>0</td>\n",
              "      <td>0</td>\n",
              "      <td>647</td>\n",
              "      <td>56</td>\n",
              "      <td>TYPE_C</td>\n",
              "      <td>2.0</td>\n",
              "      <td>Beverages</td>\n",
              "      <td>Thai</td>\n",
              "    </tr>\n",
              "    <tr>\n",
              "      <th>4</th>\n",
              "      <td>1495848</td>\n",
              "      <td>151</td>\n",
              "      <td>55</td>\n",
              "      <td>1885</td>\n",
              "      <td>160.11</td>\n",
              "      <td>159.11</td>\n",
              "      <td>0</td>\n",
              "      <td>0</td>\n",
              "      <td>647</td>\n",
              "      <td>56</td>\n",
              "      <td>TYPE_C</td>\n",
              "      <td>2.0</td>\n",
              "      <td>Beverages</td>\n",
              "      <td>Thai</td>\n",
              "    </tr>\n",
              "  </tbody>\n",
              "</table>\n",
              "</div>"
            ],
            "text/plain": [
              "        id  week  center_id  meal_id  ...  center_type  op_area   category  cuisine\n",
              "0  1028232   146         55     1885  ...       TYPE_C      2.0  Beverages     Thai\n",
              "1  1262649   147         55     1885  ...       TYPE_C      2.0  Beverages     Thai\n",
              "2  1453211   149         55     1885  ...       TYPE_C      2.0  Beverages     Thai\n",
              "3  1262599   150         55     1885  ...       TYPE_C      2.0  Beverages     Thai\n",
              "4  1495848   151         55     1885  ...       TYPE_C      2.0  Beverages     Thai\n",
              "\n",
              "[5 rows x 14 columns]"
            ]
          },
          "metadata": {
            "tags": []
          },
          "execution_count": 14
        }
      ]
    },
    {
      "cell_type": "code",
      "metadata": {
        "id": "kxrGJWW4J4RY",
        "colab_type": "code",
        "outputId": "a4ce7283-ab9d-427f-faa5-26d91b63470d",
        "colab": {
          "base_uri": "https://localhost:8080/",
          "height": 749
        }
      },
      "source": [
        "from matplotlib import rcParams\n",
        "\n",
        "# figure size in inches\n",
        "rcParams['figure.figsize'] = 15.7,12.27\n",
        "sns.lineplot(train['week'],train['num_orders']) # takes the mean of all num_orders in every week and plots the graph in confidence intervals"
      ],
      "execution_count": 15,
      "outputs": [
        {
          "output_type": "execute_result",
          "data": {
            "text/plain": [
              "<matplotlib.axes._subplots.AxesSubplot at 0x7f381ce906d8>"
            ]
          },
          "metadata": {
            "tags": []
          },
          "execution_count": 15
        },
        {
          "output_type": "display_data",
          "data": {
            "image/png": "[encoded data removed]",
            "text/plain": [
              "<Figure size 1130.4x883.44 with 1 Axes>"
            ]
          },
          "metadata": {
            "tags": []
          }
        }
      ]
    },
    {
      "cell_type": "code",
      "metadata": {
        "id": "EfhLd9LVKmD_",
        "colab_type": "code",
        "outputId": "e744f956-b4ed-4a8b-b411-f8343cd4d6fa",
        "colab": {
          "base_uri": "https://localhost:8080/",
          "height": 34
        }
      },
      "source": [
        "np.mean(train.loc[train['week'] == 3,'num_orders'])"
      ],
      "execution_count": 16,
      "outputs": [
        {
          "output_type": "execute_result",
          "data": {
            "text/plain": [
              "239.82821662642291"
            ]
          },
          "metadata": {
            "tags": []
          },
          "execution_count": 16
        }
      ]
    },
    {
      "cell_type": "code",
      "metadata": {
        "id": "FgUUznieSgNM",
        "colab_type": "code",
        "outputId": "3d3c4d30-e0a9-47fb-f73a-50af1812a8e7",
        "colab": {
          "base_uri": "https://localhost:8080/",
          "height": 844
        }
      },
      "source": [
        "\n",
        "sns.barplot(train['center_id'], train['num_orders'])\n",
        "plt.xticks(rotation = 90)"
      ],
      "execution_count": 17,
      "outputs": [
        {
          "output_type": "execute_result",
          "data": {
            "text/plain": [
              "(array([ 0,  1,  2,  3,  4,  5,  6,  7,  8,  9, 10, 11, 12, 13, 14, 15, 16,\n",
              "        17, 18, 19, 20, 21, 22, 23, 24, 25, 26, 27, 28, 29, 30, 31, 32, 33,\n",
              "        34, 35, 36, 37, 38, 39, 40, 41, 42, 43, 44, 45, 46, 47, 48, 49, 50,\n",
              "        51, 52, 53, 54, 55, 56, 57, 58, 59, 60, 61, 62, 63, 64, 65, 66, 67,\n",
              "        68, 69, 70, 71, 72, 73, 74, 75, 76]),\n",
              " <a list of 77 Text xticklabel objects>)"
            ]
          },
          "metadata": {
            "tags": []
          },
          "execution_count": 17
        },
        {
          "output_type": "display_data",
          "data": {
            "image/png": "[encoded data removed]",
            "text/plain": [
              "<Figure size 1130.4x883.44 with 1 Axes>"
            ]
          },
          "metadata": {
            "tags": []
          }
        }
      ]
    },
    {
      "cell_type": "code",
      "metadata": {
        "id": "Kt7jIe6gUeHp",
        "colab_type": "code",
        "outputId": "bd690c3d-3737-4eb0-fc44-0fa6f8100cd8",
        "colab": {
          "base_uri": "https://localhost:8080/",
          "height": 34
        }
      },
      "source": [
        "np.mean(train.loc[train['center_id'] == 13, 'num_orders'])"
      ],
      "execution_count": 18,
      "outputs": [
        {
          "output_type": "execute_result",
          "data": {
            "text/plain": [
              "609.7849843883055"
            ]
          },
          "metadata": {
            "tags": []
          },
          "execution_count": 18
        }
      ]
    },
    {
      "cell_type": "code",
      "metadata": {
        "id": "YiiJb0EDVTiZ",
        "colab_type": "code",
        "outputId": "6b5b9120-3967-4db6-e8b0-723dbf9ad519",
        "colab": {
          "base_uri": "https://localhost:8080/",
          "height": 817
        }
      },
      "source": [
        "sns.barplot(train['meal_id'],train['num_orders'])\n",
        "plt.xticks(rotation = 90)"
      ],
      "execution_count": 19,
      "outputs": [
        {
          "output_type": "execute_result",
          "data": {
            "text/plain": [
              "(array([ 0,  1,  2,  3,  4,  5,  6,  7,  8,  9, 10, 11, 12, 13, 14, 15, 16,\n",
              "        17, 18, 19, 20, 21, 22, 23, 24, 25, 26, 27, 28, 29, 30, 31, 32, 33,\n",
              "        34, 35, 36, 37, 38, 39, 40, 41, 42, 43, 44, 45, 46, 47, 48, 49, 50]),\n",
              " <a list of 51 Text xticklabel objects>)"
            ]
          },
          "metadata": {
            "tags": []
          },
          "execution_count": 19
        },
        {
          "output_type": "display_data",
          "data": {
            "image/png": "[encoded data removed]",
            "text/plain": [
              "<Figure size 1130.4x883.44 with 1 Axes>"
            ]
          },
          "metadata": {
            "tags": []
          }
        }
      ]
    },
    {
      "cell_type": "code",
      "metadata": {
        "id": "BeWA9TO3V8mR",
        "colab_type": "code",
        "outputId": "fd260d8c-81da-4f6a-e60d-26b86ac4abf9",
        "colab": {
          "base_uri": "https://localhost:8080/",
          "height": 34
        }
      },
      "source": [
        "np.mean(train.loc[train['meal_id'] == 1885, 'num_orders'])"
      ],
      "execution_count": 20,
      "outputs": [
        {
          "output_type": "execute_result",
          "data": {
            "text/plain": [
              "752.4563649477101"
            ]
          },
          "metadata": {
            "tags": []
          },
          "execution_count": 20
        }
      ]
    },
    {
      "cell_type": "code",
      "metadata": {
        "id": "eJ9g8gioWtOl",
        "colab_type": "code",
        "outputId": "9394b1e9-7407-4c3e-a4df-c6d59fbe48e5",
        "colab": {
          "base_uri": "https://localhost:8080/",
          "height": 85
        }
      },
      "source": [
        "train['center_type'].value_counts()"
      ],
      "execution_count": 21,
      "outputs": [
        {
          "output_type": "execute_result",
          "data": {
            "text/plain": [
              "TYPE_A    262881\n",
              "TYPE_C     99593\n",
              "TYPE_B     94074\n",
              "Name: center_type, dtype: int64"
            ]
          },
          "metadata": {
            "tags": []
          },
          "execution_count": 21
        }
      ]
    },
    {
      "cell_type": "code",
      "metadata": {
        "id": "DDUXSc-LYZTP",
        "colab_type": "code",
        "outputId": "fcf1a9ed-dcbf-4c71-c946-3eb8688b265c",
        "colab": {
          "base_uri": "https://localhost:8080/",
          "height": 817
        }
      },
      "source": [
        "sns.barplot(train['meal_id'],train['checkout_price'])\n",
        "plt.xticks(rotation = 90)"
      ],
      "execution_count": 22,
      "outputs": [
        {
          "output_type": "execute_result",
          "data": {
            "text/plain": [
              "(array([ 0,  1,  2,  3,  4,  5,  6,  7,  8,  9, 10, 11, 12, 13, 14, 15, 16,\n",
              "        17, 18, 19, 20, 21, 22, 23, 24, 25, 26, 27, 28, 29, 30, 31, 32, 33,\n",
              "        34, 35, 36, 37, 38, 39, 40, 41, 42, 43, 44, 45, 46, 47, 48, 49, 50]),\n",
              " <a list of 51 Text xticklabel objects>)"
            ]
          },
          "metadata": {
            "tags": []
          },
          "execution_count": 22
        },
        {
          "output_type": "display_data",
          "data": {
            "image/png": "[encoded data removed]",
            "text/plain": [
              "<Figure size 1130.4x883.44 with 1 Axes>"
            ]
          },
          "metadata": {
            "tags": []
          }
        }
      ]
    },
    {
      "cell_type": "code",
      "metadata": {
        "id": "ThibxiYVZyYA",
        "colab_type": "code",
        "outputId": "18b0e149-2d2b-42d6-a897-65f6017f404f",
        "colab": {
          "base_uri": "https://localhost:8080/",
          "height": 750
        }
      },
      "source": [
        "sns.boxplot(train['num_orders'])"
      ],
      "execution_count": 23,
      "outputs": [
        {
          "output_type": "execute_result",
          "data": {
            "text/plain": [
              "<matplotlib.axes._subplots.AxesSubplot at 0x7f38188a2550>"
            ]
          },
          "metadata": {
            "tags": []
          },
          "execution_count": 23
        },
        {
          "output_type": "display_data",
          "data": {
            "image/png": "[encoded data removed]",
            "text/plain": [
              "<Figure size 1130.4x883.44 with 1 Axes>"
            ]
          },
          "metadata": {
            "tags": []
          }
        }
      ]
    },
    {
      "cell_type": "code",
      "metadata": {
        "id": "98ttlaYPgwJ_",
        "colab_type": "code",
        "outputId": "ab0e3384-0f15-4e97-f16d-acbc48a8a5a1",
        "colab": {
          "base_uri": "https://localhost:8080/",
          "height": 810
        }
      },
      "source": [
        "sns.barplot(train['city_code'],train['num_orders'])\n",
        "plt.xticks(rotation = 90)"
      ],
      "execution_count": 24,
      "outputs": [
        {
          "output_type": "execute_result",
          "data": {
            "text/plain": [
              "(array([ 0,  1,  2,  3,  4,  5,  6,  7,  8,  9, 10, 11, 12, 13, 14, 15, 16,\n",
              "        17, 18, 19, 20, 21, 22, 23, 24, 25, 26, 27, 28, 29, 30, 31, 32, 33,\n",
              "        34, 35, 36, 37, 38, 39, 40, 41, 42, 43, 44, 45, 46, 47, 48, 49, 50]),\n",
              " <a list of 51 Text xticklabel objects>)"
            ]
          },
          "metadata": {
            "tags": []
          },
          "execution_count": 24
        },
        {
          "output_type": "display_data",
          "data": {
            "image/png": "[encoded data removed]",
            "text/plain": [
              "<Figure size 1130.4x883.44 with 1 Axes>"
            ]
          },
          "metadata": {
            "tags": []
          }
        }
      ]
    },
    {
      "cell_type": "code",
      "metadata": {
        "id": "K2Ml0L4chf1z",
        "colab_type": "code",
        "outputId": "34719929-4a31-44a6-df6b-846e600ef452",
        "colab": {
          "base_uri": "https://localhost:8080/",
          "height": 751
        }
      },
      "source": [
        "sns.barplot(train['center_type'],train['num_orders'])\n"
      ],
      "execution_count": 25,
      "outputs": [
        {
          "output_type": "execute_result",
          "data": {
            "text/plain": [
              "<matplotlib.axes._subplots.AxesSubplot at 0x7f381855a400>"
            ]
          },
          "metadata": {
            "tags": []
          },
          "execution_count": 25
        },
        {
          "output_type": "display_data",
          "data": {
            "image/png": "[encoded data removed]",
            "text/plain": [
              "<Figure size 1130.4x883.44 with 1 Axes>"
            ]
          },
          "metadata": {
            "tags": []
          }
        }
      ]
    },
    {
      "cell_type": "code",
      "metadata": {
        "id": "m2KVkwEkiSdw",
        "colab_type": "code",
        "outputId": "f2fed1a6-f594-4bcb-ae70-0a07bd6b408a",
        "colab": {
          "base_uri": "https://localhost:8080/",
          "height": 272
        }
      },
      "source": [
        "train['category'].value_counts()"
      ],
      "execution_count": 26,
      "outputs": [
        {
          "output_type": "execute_result",
          "data": {
            "text/plain": [
              "Beverages       127890\n",
              "Rice Bowl        33408\n",
              "Sandwich         33291\n",
              "Pizza            33138\n",
              "Starters         29941\n",
              "Other Snacks     29379\n",
              "Desert           29294\n",
              "Salad            28559\n",
              "Pasta            27694\n",
              "Seafood          26916\n",
              "Biryani          20614\n",
              "Extras           13562\n",
              "Soup             12675\n",
              "Fish             10187\n",
              "Name: category, dtype: int64"
            ]
          },
          "metadata": {
            "tags": []
          },
          "execution_count": 26
        }
      ]
    },
    {
      "cell_type": "code",
      "metadata": {
        "id": "hIkMfZ0viYe1",
        "colab_type": "code",
        "outputId": "9b883020-8d15-4636-d1ca-b27897555493",
        "colab": {
          "base_uri": "https://localhost:8080/",
          "height": 823
        }
      },
      "source": [
        "sns.barplot(train['category'],train['num_orders'])\n",
        "plt.xticks(rotation = 90)"
      ],
      "execution_count": 27,
      "outputs": [
        {
          "output_type": "execute_result",
          "data": {
            "text/plain": [
              "(array([ 0,  1,  2,  3,  4,  5,  6,  7,  8,  9, 10, 11, 12, 13]),\n",
              " <a list of 14 Text xticklabel objects>)"
            ]
          },
          "metadata": {
            "tags": []
          },
          "execution_count": 27
        },
        {
          "output_type": "display_data",
          "data": {
            "image/png": "[encoded data removed]",
            "text/plain": [
              "<Figure size 1130.4x883.44 with 1 Axes>"
            ]
          },
          "metadata": {
            "tags": []
          }
        }
      ]
    },
    {
      "cell_type": "code",
      "metadata": {
        "id": "Kt0vbBxWjhSb",
        "colab_type": "code",
        "outputId": "7af0aa12-ce1d-4fc6-bdb5-33d5f34bf77f",
        "colab": {
          "base_uri": "https://localhost:8080/",
          "height": 102
        }
      },
      "source": [
        "train['cuisine'].value_counts()"
      ],
      "execution_count": 28,
      "outputs": [
        {
          "output_type": "execute_result",
          "data": {
            "text/plain": [
              "Italian        122925\n",
              "Thai           118216\n",
              "Indian         112612\n",
              "Continental    102795\n",
              "Name: cuisine, dtype: int64"
            ]
          },
          "metadata": {
            "tags": []
          },
          "execution_count": 28
        }
      ]
    },
    {
      "cell_type": "code",
      "metadata": {
        "id": "Lyx4Ynk_eld0",
        "colab_type": "code",
        "outputId": "41a6034d-3da5-4870-f361-f114c46732f5",
        "colab": {
          "base_uri": "https://localhost:8080/",
          "height": 204
        }
      },
      "source": [
        "train.groupby('cuisine').num_orders.agg(['mean'])"
      ],
      "execution_count": 29,
      "outputs": [
        {
          "output_type": "execute_result",
          "data": {
            "text/html": [
              "<div>\n",
              "<style scoped>\n",
              "    .dataframe tbody tr th:only-of-type {\n",
              "        vertical-align: middle;\n",
              "    }\n",
              "\n",
              "    .dataframe tbody tr th {\n",
              "        vertical-align: top;\n",
              "    }\n",
              "\n",
              "    .dataframe thead th {\n",
              "        text-align: right;\n",
              "    }\n",
              "</style>\n",
              "<table border=\"1\" class=\"dataframe\">\n",
              "  <thead>\n",
              "    <tr style=\"text-align: right;\">\n",
              "      <th></th>\n",
              "      <th>mean</th>\n",
              "    </tr>\n",
              "    <tr>\n",
              "      <th>cuisine</th>\n",
              "      <th></th>\n",
              "    </tr>\n",
              "  </thead>\n",
              "  <tbody>\n",
              "    <tr>\n",
              "      <th>Continental</th>\n",
              "      <td>164.545348</td>\n",
              "    </tr>\n",
              "    <tr>\n",
              "      <th>Indian</th>\n",
              "      <td>229.039037</td>\n",
              "    </tr>\n",
              "    <tr>\n",
              "      <th>Italian</th>\n",
              "      <td>359.347830</td>\n",
              "    </tr>\n",
              "    <tr>\n",
              "      <th>Thai</th>\n",
              "      <td>276.423411</td>\n",
              "    </tr>\n",
              "  </tbody>\n",
              "</table>\n",
              "</div>"
            ],
            "text/plain": [
              "                   mean\n",
              "cuisine                \n",
              "Continental  164.545348\n",
              "Indian       229.039037\n",
              "Italian      359.347830\n",
              "Thai         276.423411"
            ]
          },
          "metadata": {
            "tags": []
          },
          "execution_count": 29
        }
      ]
    },
    {
      "cell_type": "code",
      "metadata": {
        "id": "pOu5uIwGjmeJ",
        "colab_type": "code",
        "outputId": "e883f6ac-8686-41ce-8ca7-5e21bfffce02",
        "colab": {
          "base_uri": "https://localhost:8080/",
          "height": 749
        }
      },
      "source": [
        "sns.barplot(train['cuisine'],train['num_orders'])"
      ],
      "execution_count": 30,
      "outputs": [
        {
          "output_type": "execute_result",
          "data": {
            "text/plain": [
              "<matplotlib.axes._subplots.AxesSubplot at 0x7f381846e2e8>"
            ]
          },
          "metadata": {
            "tags": []
          },
          "execution_count": 30
        },
        {
          "output_type": "display_data",
          "data": {
            "image/png": "[encoded data removed]",
            "text/plain": [
              "<Figure size 1130.4x883.44 with 1 Axes>"
            ]
          },
          "metadata": {
            "tags": []
          }
        }
      ]
    },
    {
      "cell_type": "code",
      "metadata": {
        "id": "i-dCbqfDj9J0",
        "colab_type": "code",
        "outputId": "e7b2caf4-bb20-4b0b-c80b-c6e6b510b75d",
        "colab": {
          "base_uri": "https://localhost:8080/",
          "height": 68
        }
      },
      "source": [
        "train['op_area'].unique()"
      ],
      "execution_count": 31,
      "outputs": [
        {
          "output_type": "execute_result",
          "data": {
            "text/plain": [
              "array([2. , 3.6, 3.7, 5.3, 3.8, 6.7, 5.6, 3.9, 3.4, 5. , 2.8, 2.4, 4.8,\n",
              "       4. , 4.6, 4.4, 4.5, 4.1, 0.9, 4.2, 2.9, 2.7, 4.7, 3.2, 3. , 7. ,\n",
              "       1.9, 3.5, 6.3, 5.1])"
            ]
          },
          "metadata": {
            "tags": []
          },
          "execution_count": 31
        }
      ]
    },
    {
      "cell_type": "code",
      "metadata": {
        "id": "wCKzbXFMkFvT",
        "colab_type": "code",
        "outputId": "4d8acf76-dd6a-4ea1-e2e2-e992755158cd",
        "colab": {
          "base_uri": "https://localhost:8080/",
          "height": 789
        }
      },
      "source": [
        "sns.barplot(train['op_area'],train['num_orders'])\n",
        "plt.xticks(rotation = 90)"
      ],
      "execution_count": 32,
      "outputs": [
        {
          "output_type": "execute_result",
          "data": {
            "text/plain": [
              "(array([ 0,  1,  2,  3,  4,  5,  6,  7,  8,  9, 10, 11, 12, 13, 14, 15, 16,\n",
              "        17, 18, 19, 20, 21, 22, 23, 24, 25, 26, 27, 28, 29]),\n",
              " <a list of 30 Text xticklabel objects>)"
            ]
          },
          "metadata": {
            "tags": []
          },
          "execution_count": 32
        },
        {
          "output_type": "display_data",
          "data": {
            "image/png": "[encoded data removed]",
            "text/plain": [
              "<Figure size 1130.4x883.44 with 1 Axes>"
            ]
          },
          "metadata": {
            "tags": []
          }
        }
      ]
    },
    {
      "cell_type": "code",
      "metadata": {
        "id": "xdG_384kkqbX",
        "colab_type": "code",
        "outputId": "b72b46f1-e4d9-43bd-ac6d-c0870ae3763c",
        "colab": {
          "base_uri": "https://localhost:8080/",
          "height": 34
        }
      },
      "source": [
        "train['region_code'].unique()"
      ],
      "execution_count": 33,
      "outputs": [
        {
          "output_type": "execute_result",
          "data": {
            "text/plain": [
              "array([56, 85, 77, 34, 35, 71, 93, 23])"
            ]
          },
          "metadata": {
            "tags": []
          },
          "execution_count": 33
        }
      ]
    },
    {
      "cell_type": "code",
      "metadata": {
        "id": "1RzifZUifM1J",
        "colab_type": "code",
        "outputId": "054cac13-76a8-4f58-83a7-3d61e48e2dfc",
        "colab": {
          "base_uri": "https://localhost:8080/",
          "height": 328
        }
      },
      "source": [
        "train.groupby('region_code').num_orders.agg({'mean'})"
      ],
      "execution_count": 34,
      "outputs": [
        {
          "output_type": "execute_result",
          "data": {
            "text/html": [
              "<div>\n",
              "<style scoped>\n",
              "    .dataframe tbody tr th:only-of-type {\n",
              "        vertical-align: middle;\n",
              "    }\n",
              "\n",
              "    .dataframe tbody tr th {\n",
              "        vertical-align: top;\n",
              "    }\n",
              "\n",
              "    .dataframe thead th {\n",
              "        text-align: right;\n",
              "    }\n",
              "</style>\n",
              "<table border=\"1\" class=\"dataframe\">\n",
              "  <thead>\n",
              "    <tr style=\"text-align: right;\">\n",
              "      <th></th>\n",
              "      <th>mean</th>\n",
              "    </tr>\n",
              "    <tr>\n",
              "      <th>region_code</th>\n",
              "      <th></th>\n",
              "    </tr>\n",
              "  </thead>\n",
              "  <tbody>\n",
              "    <tr>\n",
              "      <th>23</th>\n",
              "      <td>250.218527</td>\n",
              "    </tr>\n",
              "    <tr>\n",
              "      <th>34</th>\n",
              "      <td>206.075870</td>\n",
              "    </tr>\n",
              "    <tr>\n",
              "      <th>35</th>\n",
              "      <td>131.277356</td>\n",
              "    </tr>\n",
              "    <tr>\n",
              "      <th>56</th>\n",
              "      <td>316.481849</td>\n",
              "    </tr>\n",
              "    <tr>\n",
              "      <th>71</th>\n",
              "      <td>334.225648</td>\n",
              "    </tr>\n",
              "    <tr>\n",
              "      <th>77</th>\n",
              "      <td>216.987835</td>\n",
              "    </tr>\n",
              "    <tr>\n",
              "      <th>85</th>\n",
              "      <td>286.807318</td>\n",
              "    </tr>\n",
              "    <tr>\n",
              "      <th>93</th>\n",
              "      <td>238.820136</td>\n",
              "    </tr>\n",
              "  </tbody>\n",
              "</table>\n",
              "</div>"
            ],
            "text/plain": [
              "                   mean\n",
              "region_code            \n",
              "23           250.218527\n",
              "34           206.075870\n",
              "35           131.277356\n",
              "56           316.481849\n",
              "71           334.225648\n",
              "77           216.987835\n",
              "85           286.807318\n",
              "93           238.820136"
            ]
          },
          "metadata": {
            "tags": []
          },
          "execution_count": 34
        }
      ]
    },
    {
      "cell_type": "code",
      "metadata": {
        "id": "RRQu6_o2kugF",
        "colab_type": "code",
        "outputId": "14b3301a-0ba7-472a-f854-8dd30f476c99",
        "colab": {
          "base_uri": "https://localhost:8080/",
          "height": 750
        }
      },
      "source": [
        "sns.barplot(train['region_code'],train['num_orders'])"
      ],
      "execution_count": 35,
      "outputs": [
        {
          "output_type": "execute_result",
          "data": {
            "text/plain": [
              "<matplotlib.axes._subplots.AxesSubplot at 0x7f3818312978>"
            ]
          },
          "metadata": {
            "tags": []
          },
          "execution_count": 35
        },
        {
          "output_type": "display_data",
          "data": {
            "image/png": "[encoded data removed]",
            "text/plain": [
              "<Figure size 1130.4x883.44 with 1 Axes>"
            ]
          },
          "metadata": {
            "tags": []
          }
        }
      ]
    },
    {
      "cell_type": "code",
      "metadata": {
        "id": "VKg6IbeolDmN",
        "colab_type": "code",
        "outputId": "6820ea39-aeb9-4146-f3a3-59501192764f",
        "colab": {
          "base_uri": "https://localhost:8080/",
          "height": 34
        }
      },
      "source": [
        "train['emailer_for_promotion'].unique()"
      ],
      "execution_count": 36,
      "outputs": [
        {
          "output_type": "execute_result",
          "data": {
            "text/plain": [
              "array([0, 1])"
            ]
          },
          "metadata": {
            "tags": []
          },
          "execution_count": 36
        }
      ]
    },
    {
      "cell_type": "code",
      "metadata": {
        "id": "innPccovffly",
        "colab_type": "code",
        "outputId": "73fb5164-f875-4aaf-f9c0-15c596b3bd2e",
        "colab": {
          "base_uri": "https://localhost:8080/",
          "height": 173
        }
      },
      "source": [
        "train.groupby('emailer_for_promotion').agg({'num_orders':['mean']})"
      ],
      "execution_count": 37,
      "outputs": [
        {
          "output_type": "execute_result",
          "data": {
            "text/html": [
              "<div>\n",
              "<style scoped>\n",
              "    .dataframe tbody tr th:only-of-type {\n",
              "        vertical-align: middle;\n",
              "    }\n",
              "\n",
              "    .dataframe tbody tr th {\n",
              "        vertical-align: top;\n",
              "    }\n",
              "\n",
              "    .dataframe thead tr th {\n",
              "        text-align: left;\n",
              "    }\n",
              "\n",
              "    .dataframe thead tr:last-of-type th {\n",
              "        text-align: right;\n",
              "    }\n",
              "</style>\n",
              "<table border=\"1\" class=\"dataframe\">\n",
              "  <thead>\n",
              "    <tr>\n",
              "      <th></th>\n",
              "      <th>num_orders</th>\n",
              "    </tr>\n",
              "    <tr>\n",
              "      <th></th>\n",
              "      <th>mean</th>\n",
              "    </tr>\n",
              "    <tr>\n",
              "      <th>emailer_for_promotion</th>\n",
              "      <th></th>\n",
              "    </tr>\n",
              "  </thead>\n",
              "  <tbody>\n",
              "    <tr>\n",
              "      <th>0</th>\n",
              "      <td>229.262883</td>\n",
              "    </tr>\n",
              "    <tr>\n",
              "      <th>1</th>\n",
              "      <td>631.097544</td>\n",
              "    </tr>\n",
              "  </tbody>\n",
              "</table>\n",
              "</div>"
            ],
            "text/plain": [
              "                       num_orders\n",
              "                             mean\n",
              "emailer_for_promotion            \n",
              "0                      229.262883\n",
              "1                      631.097544"
            ]
          },
          "metadata": {
            "tags": []
          },
          "execution_count": 37
        }
      ]
    },
    {
      "cell_type": "code",
      "metadata": {
        "id": "zFla8i7WlPjs",
        "colab_type": "code",
        "outputId": "6001299b-7a08-4c76-ba8b-5a715d1397fc",
        "colab": {
          "base_uri": "https://localhost:8080/",
          "height": 750
        }
      },
      "source": [
        "sns.barplot(train['emailer_for_promotion'],train['num_orders'])"
      ],
      "execution_count": 38,
      "outputs": [
        {
          "output_type": "execute_result",
          "data": {
            "text/plain": [
              "<matplotlib.axes._subplots.AxesSubplot at 0x7f3818226ac8>"
            ]
          },
          "metadata": {
            "tags": []
          },
          "execution_count": 38
        },
        {
          "output_type": "display_data",
          "data": {
            "image/png": "[encoded data removed]",
            "text/plain": [
              "<Figure size 1130.4x883.44 with 1 Axes>"
            ]
          },
          "metadata": {
            "tags": []
          }
        }
      ]
    },
    {
      "cell_type": "code",
      "metadata": {
        "id": "u4UhGVAulgni",
        "colab_type": "code",
        "outputId": "535d60be-e498-4c90-f878-2dfe6a995d6b",
        "colab": {
          "base_uri": "https://localhost:8080/",
          "height": 34
        }
      },
      "source": [
        "train['homepage_featured'].unique()"
      ],
      "execution_count": 39,
      "outputs": [
        {
          "output_type": "execute_result",
          "data": {
            "text/plain": [
              "array([0, 1])"
            ]
          },
          "metadata": {
            "tags": []
          },
          "execution_count": 39
        }
      ]
    },
    {
      "cell_type": "code",
      "metadata": {
        "id": "OEejajmkljrk",
        "colab_type": "code",
        "outputId": "bcee5da2-8505-4de6-f3de-06bd194a552b",
        "colab": {
          "base_uri": "https://localhost:8080/",
          "height": 750
        }
      },
      "source": [
        "sns.barplot(train['homepage_featured'],train['num_orders'])"
      ],
      "execution_count": 40,
      "outputs": [
        {
          "output_type": "execute_result",
          "data": {
            "text/plain": [
              "<matplotlib.axes._subplots.AxesSubplot at 0x7f38181f8048>"
            ]
          },
          "metadata": {
            "tags": []
          },
          "execution_count": 40
        },
        {
          "output_type": "display_data",
          "data": {
            "image/png": "[encoded data removed]",
            "text/plain": [
              "<Figure size 1130.4x883.44 with 1 Axes>"
            ]
          },
          "metadata": {
            "tags": []
          }
        }
      ]
    },
    {
      "cell_type": "markdown",
      "metadata": {
        "id": "JUEAOOO_kFmx",
        "colab_type": "text"
      },
      "source": [
        "**Joint Distribution Plot** \n",
        "\n",
        "1.   Produces bivariate and univariate graphs\n",
        "2.   You can draw histograms with scatter plot (default)\n",
        "\n",
        "\n",
        "3.   Custom changes to be made to plot kernel density plots and regression\n",
        "4.   Hexagonal pattern plots can also be obtained"
      ]
    },
    {
      "cell_type": "code",
      "metadata": {
        "id": "J_HN_qP-plMe",
        "colab_type": "code",
        "outputId": "cc9af869-418a-4b36-a672-c1a87b7d6f22",
        "colab": {
          "base_uri": "https://localhost:8080/",
          "height": 458
        }
      },
      "source": [
        "sns.jointplot(train['center_id'], train['op_area'], kind = 'reg') "
      ],
      "execution_count": 41,
      "outputs": [
        {
          "output_type": "execute_result",
          "data": {
            "text/plain": [
              "<seaborn.axisgrid.JointGrid at 0x7f38181b8240>"
            ]
          },
          "metadata": {
            "tags": []
          },
          "execution_count": 41
        },
        {
          "output_type": "display_data",
          "data": {
            "image/png": "[encoded data removed]",
            "text/plain": [
              "<Figure size 432x432 with 3 Axes>"
            ]
          },
          "metadata": {
            "tags": []
          }
        }
      ]
    },
    {
      "cell_type": "code",
      "metadata": {
        "id": "tOie-eJynutV",
        "colab_type": "code",
        "outputId": "67d9528e-a824-4d45-e7a3-bc211f353ab6",
        "colab": {
          "base_uri": "https://localhost:8080/",
          "height": 458
        }
      },
      "source": [
        "sns.jointplot(train['checkout_price'], train['num_orders']) "
      ],
      "execution_count": 42,
      "outputs": [
        {
          "output_type": "execute_result",
          "data": {
            "text/plain": [
              "<seaborn.axisgrid.JointGrid at 0x7f38180375c0>"
            ]
          },
          "metadata": {
            "tags": []
          },
          "execution_count": 42
        },
        {
          "output_type": "display_data",
          "data": {
            "image/png": "[encoded data removed]",
            "text/plain": [
              "<Figure size 432x432 with 3 Axes>"
            ]
          },
          "metadata": {
            "tags": []
          }
        }
      ]
    },
    {
      "cell_type": "code",
      "metadata": {
        "id": "-XmJtWp6o0zl",
        "colab_type": "code",
        "outputId": "b441ee4e-44f6-42be-fb0d-4aa54e506ce3",
        "colab": {
          "base_uri": "https://localhost:8080/",
          "height": 458
        }
      },
      "source": [
        "sns.jointplot(train['op_area'], train['num_orders'])"
      ],
      "execution_count": 43,
      "outputs": [
        {
          "output_type": "execute_result",
          "data": {
            "text/plain": [
              "<seaborn.axisgrid.JointGrid at 0x7f3817e8ff98>"
            ]
          },
          "metadata": {
            "tags": []
          },
          "execution_count": 43
        },
        {
          "output_type": "display_data",
          "data": {
            "image/png": "[encoded data removed]",
            "text/plain": [
              "<Figure size 432x432 with 3 Axes>"
            ]
          },
          "metadata": {
            "tags": []
          }
        }
      ]
    },
    {
      "cell_type": "code",
      "metadata": {
        "id": "gN0RW_rup9JV",
        "colab_type": "code",
        "outputId": "207d8a11-1af3-40de-936b-583f9737b611",
        "colab": {
          "base_uri": "https://localhost:8080/",
          "height": 458
        }
      },
      "source": [
        "sns.jointplot(train['region_code'], train['num_orders'])"
      ],
      "execution_count": 44,
      "outputs": [
        {
          "output_type": "execute_result",
          "data": {
            "text/plain": [
              "<seaborn.axisgrid.JointGrid at 0x7f3817cb7198>"
            ]
          },
          "metadata": {
            "tags": []
          },
          "execution_count": 44
        },
        {
          "output_type": "display_data",
          "data": {
            "image/png": "[encoded data removed]",
            "text/plain": [
              "<Figure size 432x432 with 3 Axes>"
            ]
          },
          "metadata": {
            "tags": []
          }
        }
      ]
    },
    {
      "cell_type": "code",
      "metadata": {
        "id": "NrTBqAqnqGh9",
        "colab_type": "code",
        "outputId": "b1a4d232-b85c-4419-be1a-da40320306ab",
        "colab": {
          "base_uri": "https://localhost:8080/",
          "height": 458
        }
      },
      "source": [
        "sns.jointplot(train['city_code'], train['num_orders'])"
      ],
      "execution_count": 45,
      "outputs": [
        {
          "output_type": "execute_result",
          "data": {
            "text/plain": [
              "<seaborn.axisgrid.JointGrid at 0x7f3817a7ed68>"
            ]
          },
          "metadata": {
            "tags": []
          },
          "execution_count": 45
        },
        {
          "output_type": "display_data",
          "data": {
            "image/png": "[encoded data removed]",
            "text/plain": [
              "<Figure size 432x432 with 3 Axes>"
            ]
          },
          "metadata": {
            "tags": []
          }
        }
      ]
    },
    {
      "cell_type": "code",
      "metadata": {
        "id": "NGzohRqYrwZ2",
        "colab_type": "code",
        "outputId": "eba0ca2e-cb36-48a5-dc61-092887b0808d",
        "colab": {
          "base_uri": "https://localhost:8080/",
          "height": 749
        }
      },
      "source": [
        "sns.boxplot('category','num_orders', data = train)"
      ],
      "execution_count": 46,
      "outputs": [
        {
          "output_type": "execute_result",
          "data": {
            "text/plain": [
              "<matplotlib.axes._subplots.AxesSubplot at 0x7f3817865cc0>"
            ]
          },
          "metadata": {
            "tags": []
          },
          "execution_count": 46
        },
        {
          "output_type": "display_data",
          "data": {
            "image/png": "[encoded data removed]",
            "text/plain": [
              "<Figure size 1130.4x883.44 with 1 Axes>"
            ]
          },
          "metadata": {
            "tags": []
          }
        }
      ]
    },
    {
      "cell_type": "code",
      "metadata": {
        "id": "crztedUKw1NK",
        "colab_type": "code",
        "outputId": "28335d0c-c8ac-4514-a308-2c607f4644c2",
        "colab": {
          "base_uri": "https://localhost:8080/",
          "height": 749
        }
      },
      "source": [
        "sns.boxplot('cuisine','num_orders', data = train)"
      ],
      "execution_count": 47,
      "outputs": [
        {
          "output_type": "execute_result",
          "data": {
            "text/plain": [
              "<matplotlib.axes._subplots.AxesSubplot at 0x7f3817d3af60>"
            ]
          },
          "metadata": {
            "tags": []
          },
          "execution_count": 47
        },
        {
          "output_type": "display_data",
          "data": {
            "image/png": "[encoded data removed]",
            "text/plain": [
              "<Figure size 1130.4x883.44 with 1 Axes>"
            ]
          },
          "metadata": {
            "tags": []
          }
        }
      ]
    },
    {
      "cell_type": "code",
      "metadata": {
        "id": "l6FxhFqzzEVG",
        "colab_type": "code",
        "outputId": "fc4ebafc-893d-4757-c58b-98fe062d404c",
        "colab": {
          "base_uri": "https://localhost:8080/",
          "height": 34
        }
      },
      "source": [
        "print(\"The number of cities are : \" +str(train['city_code'].nunique())) # nunique() will yield the length of unique() function"
      ],
      "execution_count": 48,
      "outputs": [
        {
          "output_type": "stream",
          "text": [
            "The number of cities are : 51\n"
          ],
          "name": "stdout"
        }
      ]
    },
    {
      "cell_type": "code",
      "metadata": {
        "id": "p8s1PE043wtX",
        "colab_type": "code",
        "outputId": "b862990f-2fe0-410c-a253-7b3060df2e7e",
        "colab": {
          "base_uri": "https://localhost:8080/",
          "height": 34
        }
      },
      "source": [
        "print(\"The number of meal_types sold are : \" +str(train['meal_id'].nunique())) "
      ],
      "execution_count": 49,
      "outputs": [
        {
          "output_type": "stream",
          "text": [
            "The number of meal_types sold are : 51\n"
          ],
          "name": "stdout"
        }
      ]
    },
    {
      "cell_type": "code",
      "metadata": {
        "id": "11wN4S3qzbTO",
        "colab_type": "code",
        "outputId": "3eb3b581-b5d0-457b-d392-e815f32adcd1",
        "colab": {
          "base_uri": "https://localhost:8080/",
          "height": 34
        }
      },
      "source": [
        "print(\"The number of centers are : \" +str(train['center_id'].nunique())) # There are 77 centers in 51 cities"
      ],
      "execution_count": 50,
      "outputs": [
        {
          "output_type": "stream",
          "text": [
            "The number of centers are : 77\n"
          ],
          "name": "stdout"
        }
      ]
    },
    {
      "cell_type": "code",
      "metadata": {
        "id": "yQ4Lsz2BzxR3",
        "colab_type": "code",
        "outputId": "bf53f23a-a19c-4b2d-b187-385ff1370b92",
        "colab": {
          "base_uri": "https://localhost:8080/",
          "height": 51
        }
      },
      "source": [
        "# Find the number of center-meal pairs \n",
        "\n",
        "center_meal_pairs = (train['center_id'].astype(str) + \"-\" + train['meal_id'].astype(str)).nunique() # astype() will type cast into given datatype\n",
        "print(\"There are \" + str(center_meal_pairs) + \" center-meal pairs in the training dataset\")\n",
        "\n",
        "center_meal_test = (test['center_id'].astype(str) + \"-\" + test['meal_id'].astype(str)).nunique() # astype() will type cast into given datatype\n",
        "print(\"There are \" + str(center_meal_test) + \" center-meal pairs in the testing dataset\")"
      ],
      "execution_count": 51,
      "outputs": [
        {
          "output_type": "stream",
          "text": [
            "There are 3597 center-meal pairs in the training dataset\n",
            "There are 3548 center-meal pairs in the testing dataset\n"
          ],
          "name": "stdout"
        }
      ]
    },
    {
      "cell_type": "code",
      "metadata": {
        "id": "YW0Ecezz4e5M",
        "colab_type": "code",
        "outputId": "f0fe25d5-044b-4e31-83a0-5c1e2ae403d2",
        "colab": {
          "base_uri": "https://localhost:8080/",
          "height": 68
        }
      },
      "source": [
        "print(\"There should be \" +str(145*center_meal_pairs) + \" entires in the training set\")\n",
        "print(\"But there are \" + str(len(train['week'])) + \" entries in the given training set\")\n",
        "print(\"The discrepancy in the entries implies that some of the centers didn't sell some type of meals for certain weeks\")"
      ],
      "execution_count": 52,
      "outputs": [
        {
          "output_type": "stream",
          "text": [
            "There should be 521565 entires in the training set\n",
            "But there are 456548 entries in the given training set\n",
            "The discrepancy in the entries implies that some of the centers didn't sell some type of meals for certain weeks\n"
          ],
          "name": "stdout"
        }
      ]
    },
    {
      "cell_type": "code",
      "metadata": {
        "id": "CFDkoGCs6Mwb",
        "colab_type": "code",
        "outputId": "76b9daef-0634-4b7a-b240-b14bc46949cf",
        "colab": {
          "base_uri": "https://localhost:8080/",
          "height": 68
        }
      },
      "source": [
        "print(\"There should be \" +str(10*center_meal_test) + \" entires in the testing set\")\n",
        "print(\"But there are \" + str(len(test['week'])) + \" entries in the given testing set\")\n",
        "print(\"The discrepancy in the entries implies that some of the centers didn't sell some type of meals for certain weeks\")"
      ],
      "execution_count": 53,
      "outputs": [
        {
          "output_type": "stream",
          "text": [
            "There should be 35480 entires in the testing set\n",
            "But there are 32573 entries in the given testing set\n",
            "The discrepancy in the entries implies that some of the centers didn't sell some type of meals for certain weeks\n"
          ],
          "name": "stdout"
        }
      ]
    },
    {
      "cell_type": "code",
      "metadata": {
        "id": "Ig80yysQmJye",
        "colab_type": "code",
        "outputId": "bcabab67-83d1-47de-aa54-9e969efa1bc5",
        "colab": {
          "base_uri": "https://localhost:8080/",
          "height": 51
        }
      },
      "source": [
        "class Employee():\n",
        "  \n",
        "  def __init__(self, name, id, salary):\n",
        "    self.name = name\n",
        "    self.id = id\n",
        "    self.salary = salary\n",
        "    \n",
        "emp1 = Employee(\"Shreyas\", 174104, 89000)\n",
        "emp2 = Employee(\"Nishanth\", 184104, 65000)\n",
        "\n",
        "print(emp1.__dict__)\n",
        "print(emp2.__dict__)"
      ],
      "execution_count": 54,
      "outputs": [
        {
          "output_type": "stream",
          "text": [
            "{'name': 'Shreyas', 'id': 174104, 'salary': 89000}\n",
            "{'name': 'Nishanth', 'id': 184104, 'salary': 65000}\n"
          ],
          "name": "stdout"
        }
      ]
    },
    {
      "cell_type": "code",
      "metadata": {
        "id": "5l3SS5aLpAUz",
        "colab_type": "code",
        "outputId": "1fe62ae9-46ce-494a-8f56-4c42616e15cc",
        "colab": {
          "base_uri": "https://localhost:8080/",
          "height": 102
        }
      },
      "source": [
        "# Single Inheritance example\n",
        "'''\n",
        "enables a derived class to inherit properties/ behavior of the parent class\n",
        "'''\n",
        "\n",
        "class Emp(): # Parent class\n",
        "  def __init__(self, name, id): # __init__ is a constructor which initializes the attributes with parameters passed in\n",
        "    self.name = name\n",
        "    self.id = id\n",
        "    \n",
        "class Fresher(Emp): # Child class which inherits properties/behaviour of parent class\n",
        "  def __init__(self, salary, age, name, id):\n",
        "    super().__init__(name, id)\n",
        "    self.salary = salary\n",
        "    self.age = age\n",
        "    \n",
        "emp1 = Fresher(89000, 24, \"Shreyas\", 104) # emp1 is an instance of the class. It is instntiated against the parameters passed in\n",
        "print(emp1.age)\n",
        "print(emp1.name)\n",
        "print(emp1.id)\n",
        "print(emp1.salary)\n",
        "emp2 = Emp(\"Shreyas\", 104)\n",
        "print(emp2.name)"
      ],
      "execution_count": 55,
      "outputs": [
        {
          "output_type": "stream",
          "text": [
            "24\n",
            "Shreyas\n",
            "104\n",
            "89000\n",
            "Shreyas\n"
          ],
          "name": "stdout"
        }
      ]
    },
    {
      "cell_type": "code",
      "metadata": {
        "id": "xGjekUl8ulBH",
        "colab_type": "code",
        "outputId": "72be4a60-025f-4673-8912-da7303d6ee00",
        "colab": {
          "base_uri": "https://localhost:8080/",
          "height": 68
        }
      },
      "source": [
        "# Multi level Inheritance\n",
        "\n",
        "'''\n",
        "enables a derived class o inherit from it's immediate parent class which further inherits properties \n",
        "from its parent class\n",
        "'''\n",
        "\n",
        "class animal(): # Super class\n",
        "  \n",
        "  def __init__(self, name, age):\n",
        "    self.name = name\n",
        "    self.age = age\n",
        "    \n",
        "class donkey(animal): # child class for animal and parent class for donkey_child\n",
        "  \n",
        "  def __init__(self, name, age, tail):\n",
        "    super().__init__(name, age)\n",
        "    self.tail = tail\n",
        "    \n",
        "class donkey_child(donkey): # child class for donkey\n",
        "  \n",
        "  def __init__(self, name, age, tail):\n",
        "    super().__init__(name, age, tail)\n",
        "    \n",
        "ani1 = animal(\"donkey\", 12)\n",
        "ani2 = donkey(\"kussy\", 13, \"yes\")\n",
        "ani3 = donkey_child(\"Piss\", 2, \"No\")\n",
        "\n",
        "print(ani1.name)\n",
        "print(ani3.name)\n",
        "print(ani2.tail)"
      ],
      "execution_count": 56,
      "outputs": [
        {
          "output_type": "stream",
          "text": [
            "donkey\n",
            "Piss\n",
            "yes\n"
          ],
          "name": "stdout"
        }
      ]
    },
    {
      "cell_type": "code",
      "metadata": {
        "id": "PEEvv0U0yS8H",
        "colab_type": "code",
        "outputId": "1d730c60-8449-4e65-f7a5-94ae6f0ee460",
        "colab": {
          "base_uri": "https://localhost:8080/",
          "height": 85
        }
      },
      "source": [
        "# Hierarchical Inheritance\n",
        "\n",
        "'''\n",
        "enables morethan one derived class to inherit properties from the parent class\n",
        "\n",
        "'''\n",
        "\n",
        "class Animal():  # Parent class\n",
        "  def __init__(self, name, age):\n",
        "    self.name = name\n",
        "    self.age = age\n",
        "    \n",
        "class donkey(Animal): # child class of animal\n",
        "  def __init__(self, name, age, tail):\n",
        "    super().__init__(name, age)\n",
        "    self.tail = tail\n",
        "    \n",
        "class monkey(Animal): # child class of animal\n",
        "  def __init__(self, name, age, gender):\n",
        "    super().__init__(name, age)\n",
        "    self.gender = gender\n",
        "    \n",
        "animal1 = Animal(\"ann\", 12)\n",
        "animal2 = monkey(\"yell\", 2, \"male\")\n",
        "animal3 = donkey(\"katthe\", 3, \"no\")\n",
        "\n",
        "print(animal2.gender)\n",
        "print(animal3.age)\n",
        "print(animal3.name)\n",
        "print(animal1.age)"
      ],
      "execution_count": 57,
      "outputs": [
        {
          "output_type": "stream",
          "text": [
            "male\n",
            "3\n",
            "katthe\n",
            "12\n"
          ],
          "name": "stdout"
        }
      ]
    },
    {
      "cell_type": "code",
      "metadata": {
        "id": "ew_qt5Bn0TW7",
        "colab_type": "code",
        "outputId": "89c3b4a5-5e32-4893-9793-201e14ae893a",
        "colab": {
          "base_uri": "https://localhost:8080/",
          "height": 51
        }
      },
      "source": [
        "# Multiple Inheritance\n",
        "'''\n",
        "enables a derived class to inherit properties from morethan one parent class\n",
        "'''\n",
        "\n",
        "class Animal(): # Parent class 1\n",
        "  def __init__(self, name, age):\n",
        "    self.name = name\n",
        "    self.age = age\n",
        "    \n",
        "class Bird(): # Parent class 2\n",
        "  def __init__(self, name, age, wings):\n",
        "    self.name = name\n",
        "    self.age = age\n",
        "    self.wings = wings\n",
        "    \n",
        "class dragon(Animal, Bird): # child class inheriting from both parent classes\n",
        "  def __init__(self, name, age, wings):\n",
        "    super().__init__(name, age)\n",
        "    self.wings = wings\n",
        "    \n",
        "bird1 = dragon(\"apocalyptus\", 23, \"yes\")\n",
        "\n",
        "print(bird1.name)\n",
        "bird1.wings"
      ],
      "execution_count": 58,
      "outputs": [
        {
          "output_type": "stream",
          "text": [
            "apocalyptus\n"
          ],
          "name": "stdout"
        },
        {
          "output_type": "execute_result",
          "data": {
            "text/plain": [
              "'yes'"
            ]
          },
          "metadata": {
            "tags": []
          },
          "execution_count": 58
        }
      ]
    },
    {
      "cell_type": "code",
      "metadata": {
        "id": "XqnPcM0sw2aV",
        "colab_type": "code",
        "colab": {
          "base_uri": "https://localhost:8080/",
          "height": 34
        },
        "outputId": "da1f8573-539b-4d69-d457-75da4f1ca6e4"
      },
      "source": [
        "# Encapsulation\n",
        "\n",
        "'''\n",
        "Binding up of data in a single class\n",
        "'''\n",
        "\n",
        "class annamalai():\n",
        "  def __init__(self):\n",
        "    self.__salary = 45678\n",
        "    \n",
        "  def my_salary(self):\n",
        "    return self.__salary\n",
        "  \n",
        "ob = annamalai()\n",
        "ob.my_salary()\n",
        "#print(ob.__salary) # double underscore indicates it as a private variable and hence it cannot be accessed directly. "
      ],
      "execution_count": 65,
      "outputs": [
        {
          "output_type": "execute_result",
          "data": {
            "text/plain": [
              "45678"
            ]
          },
          "metadata": {
            "tags": []
          },
          "execution_count": 65
        }
      ]
    },
    {
      "cell_type": "code",
      "metadata": {
        "id": "mKKYTszIyLE-",
        "colab_type": "code",
        "colab": {
          "base_uri": "https://localhost:8080/",
          "height": 68
        },
        "outputId": "3f8e53d6-6b01-43a7-a8df-2b9a14f7a989"
      },
      "source": [
        "# Encapsulation extended \n",
        "\n",
        "'''\n",
        "Create a setter function which will give an indirect access to private class method\n",
        "'''\n",
        "\n",
        "class annamalai():\n",
        "  def __init__(self):\n",
        "    self.__salary = 45678\n",
        "    \n",
        "  def my_salary(self):\n",
        "    return self.__salary\n",
        "  \n",
        "  def setmy_salary(self,salary): # setter function\n",
        "    self.__salary = salary\n",
        "\n",
        "oj = annamalai()\n",
        "print(oj.my_salary()) # Gives an error as private variables cant be accessed directly\n",
        "oj.__salary = 1000\n",
        "print(oj.my_salary()) # This will not change the value of salary variable\n",
        "\n",
        "oj.setmy_salary(salary = 30000) # private variables can be modified/accessed only through a function\n",
        "print(oj.my_salary())"
      ],
      "execution_count": 73,
      "outputs": [
        {
          "output_type": "stream",
          "text": [
            "45678\n",
            "45678\n",
            "30000\n"
          ],
          "name": "stdout"
        }
      ]
    },
    {
      "cell_type": "code",
      "metadata": {
        "id": "Ru7yFd9A0kPX",
        "colab_type": "code",
        "colab": {
          "base_uri": "https://localhost:8080/",
          "height": 68
        },
        "outputId": "4387215e-f855-4786-a9f3-928f11f87b2d"
      },
      "source": [
        "from abc import ABC, abstractmethod\n",
        "\n",
        "class employee(ABC):\n",
        "  def what(self, id):\n",
        "    print(\"kk\")\n",
        "    pass\n",
        "  \n",
        "class student(employee):\n",
        "  def which(self, id):\n",
        "    print(\"I'm Insidious and exorcist!! \")\n",
        "    \n",
        "emi = student()\n",
        "print(emi.which(id))\n",
        "emj = employee()\n",
        "emj.what(id)"
      ],
      "execution_count": 83,
      "outputs": [
        {
          "output_type": "stream",
          "text": [
            "I'm Insidious and exorcist!! \n",
            "None\n",
            "kk\n"
          ],
          "name": "stdout"
        }
      ]
    },
    {
      "cell_type": "code",
      "metadata": {
        "id": "ZAK_2Jk_Nxdt",
        "colab_type": "code",
        "colab": {
          "base_uri": "https://localhost:8080/",
          "height": 85
        },
        "outputId": "7ce85949-d0b4-4b23-b204-020467e86c48"
      },
      "source": [
        "class employee:\n",
        "    def __init__(self, first, last, sal):\n",
        "        self.fname=first\n",
        "        self.lname=last   # Instance variables which are automatically called by __init__ function\n",
        "        self.sal=sal\n",
        "        self.email=first + '.' + last + '@company.com'\n",
        " \n",
        "    def fullname(self):  # self is used while defining methods so that it will work with all instances\n",
        "        return '{}{}'.format(self.fname,self.lname)\n",
        " \n",
        "emp_1 = employee('aayushi','johari',350000)   # emp1 is also an instance variable\n",
        "emp_2 = employee('test','test',100000)\n",
        "print(emp_1.email)\n",
        "print(emp_2.email)\n",
        "print(emp_1.fullname())\n",
        "print(emp_2.fullname())"
      ],
      "execution_count": 87,
      "outputs": [
        {
          "output_type": "stream",
          "text": [
            "aayushi.johari@company.com\n",
            "test.test@company.com\n",
            "aayushijohari\n",
            "testtest\n"
          ],
          "name": "stdout"
        }
      ]
    },
    {
      "cell_type": "code",
      "metadata": {
        "id": "oA0nXXdEO6CP",
        "colab_type": "code",
        "colab": {
          "base_uri": "https://localhost:8080/",
          "height": 51
        },
        "outputId": "e250c8bf-8ca7-4a9b-c6dc-067fe111f57f"
      },
      "source": [
        "'''\n",
        "class variables are shared among all instances of the class\n",
        "Instance variables are unique to specific instance like name, email, age\n",
        "'''\n",
        "\n",
        "class employee:\n",
        "    perc_raise =1.05 # class variable\n",
        "    def __init__(self, first, last, sal):\n",
        "        self.fname=first\n",
        "        self.lname=last\n",
        "        self.sal=sal\n",
        "        self.email=first + '.' + last + '@company.com'\n",
        " \n",
        "    def fullname(self):\n",
        "            return '{}{}'.format(self.fname,self.lname)\n",
        "    def apply_raise(self):\n",
        "        self.sal=int(self.sal*employee.perc_raise)  # class variables are accessed by using the classname.classvariable\n",
        " \n",
        "emp_1=employee('aayushi','johari',350000)\n",
        "emp_2=employee('test','test',100000)\n",
        " \n",
        "print(emp_1.sal)\n",
        "emp_1.apply_raise()\n",
        "print(emp_1.sal)"
      ],
      "execution_count": 88,
      "outputs": [
        {
          "output_type": "stream",
          "text": [
            "350000\n",
            "367500\n"
          ],
          "name": "stdout"
        }
      ]
    },
    {
      "cell_type": "code",
      "metadata": {
        "id": "t5mq0nvJQJHD",
        "colab_type": "code",
        "colab": {
          "base_uri": "https://localhost:8080/",
          "height": 34
        },
        "outputId": "90dfd957-e927-4349-da07-5b662e3b8324"
      },
      "source": [
        "from abc import ABC, abstractmethod     \n",
        " \n",
        "class Employee(ABC):\n",
        "    @abstractmethod\n",
        " \n",
        "    def calculate_salary(self,sal):\n",
        "        pass\n",
        " \n",
        "class Developer(Employee):\n",
        " \n",
        "    def calculate_salary(self,sal):\n",
        "        finalsalary= sal*1.10\n",
        "        return  finalsalary\n",
        " \n",
        "emp_1 = Developer()\n",
        "print(emp_1.calculate_salary(10000))\n",
        "\n",
        "#emp2 = Employee() # gives an error as abstract classes cannot be instantiated with objects\n"
      ],
      "execution_count": 92,
      "outputs": [
        {
          "output_type": "stream",
          "text": [
            "11000.0\n"
          ],
          "name": "stdout"
        }
      ]
    },
    {
      "cell_type": "code",
      "metadata": {
        "id": "QGUj_g3Ux-tq",
        "colab_type": "code",
        "colab": {
          "base_uri": "https://localhost:8080/",
          "height": 34
        },
        "outputId": "27fd9291-c052-40a4-9257-cc1eeb8c6005"
      },
      "source": [
        "class Alphabet: \n",
        "    def __init__(self, value): \n",
        "        self._value = value \n",
        "          \n",
        "    # getting the values\n",
        "    @property\n",
        "    def value(self): \n",
        "        print('Getting value') \n",
        "        return self._value \n",
        "          \n",
        "    # setting the values \n",
        "    def value(self, value): \n",
        "        print('Setting value to ' + value) \n",
        "        self._value = value \n",
        "          \n",
        "    # deleting the values \n",
        "    def value(self): \n",
        "        print('Deleting value') \n",
        "        del self._value \n",
        "     \n",
        "  \n",
        "# passing the value \n",
        "x = Alphabet('GeeksforGeeks') \n",
        "print(x.value)\n",
        "\n",
        "x.value = \"shr\"\n",
        "\n",
        "del x.value"
      ],
      "execution_count": 100,
      "outputs": [
        {
          "output_type": "stream",
          "text": [
            "<bound method Alphabet.value of <__main__.Alphabet object at 0x7f38173f2ac8>>\n"
          ],
          "name": "stdout"
        }
      ]
    }
  ]
}